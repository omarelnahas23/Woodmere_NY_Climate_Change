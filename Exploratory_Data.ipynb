{
  "nbformat": 4,
  "nbformat_minor": 0,
  "metadata": {
    "colab": {
      "name": "Exploratory Data.ipynb",
      "provenance": [],
      "collapsed_sections": [
        "OF825pp7pAAm"
      ]
    },
    "kernelspec": {
      "name": "python3",
      "display_name": "Python 3"
    },
    "language_info": {
      "name": "python"
    }
  },
  "cells": [
    {
      "cell_type": "code",
      "metadata": {
        "id": "U0ZRMFDjHMlu"
      },
      "source": [
        "import pandas as pd\n",
        "import tweepy as tp\n",
        "import os\n",
        "import requests\n",
        "import json\n",
        "import numpy as np\n",
        "import matplotlib.pyplot as plt\n",
        "from datetime import datetime\n",
        "%matplotlib inline"
      ],
      "execution_count": 1,
      "outputs": []
    },
    {
      "cell_type": "markdown",
      "metadata": {
        "id": "8_j2mCOmMmmW"
      },
      "source": [
        "# Temprature in woodmere ny"
      ]
    },
    {
      "cell_type": "code",
      "metadata": {
        "id": "yEb5bWalHVeN"
      },
      "source": [
        "temp = pd.read_csv('USW00094789-temperature-degreeF.csv')"
      ],
      "execution_count": 2,
      "outputs": []
    },
    {
      "cell_type": "code",
      "metadata": {
        "id": "TTgQJ5oRBOFV"
      },
      "source": [
        "temp.date = pd.Series([str(i) for i in temp['date']])"
      ],
      "execution_count": 3,
      "outputs": []
    },
    {
      "cell_type": "code",
      "metadata": {
        "colab": {
          "base_uri": "https://localhost:8080/"
        },
        "id": "-jP4qcnABZI6",
        "outputId": "5ca7397d-ea72-46b3-a48f-012bd645e3d0"
      },
      "source": [
        "temp.info()"
      ],
      "execution_count": 4,
      "outputs": [
        {
          "output_type": "stream",
          "name": "stdout",
          "text": [
            "<class 'pandas.core.frame.DataFrame'>\n",
            "RangeIndex: 28292 entries, 0 to 28291\n",
            "Data columns (total 5 columns):\n",
            " #   Column      Non-Null Count  Dtype  \n",
            "---  ------      --------------  -----  \n",
            " 0   date        28292 non-null  object \n",
            " 1   min         26689 non-null  float64\n",
            " 2   max         26689 non-null  float64\n",
            " 3   normal_min  28292 non-null  float64\n",
            " 4   normal_max  28292 non-null  float64\n",
            "dtypes: float64(4), object(1)\n",
            "memory usage: 1.1+ MB\n"
          ]
        }
      ]
    },
    {
      "cell_type": "code",
      "metadata": {
        "colab": {
          "base_uri": "https://localhost:8080/",
          "height": 0
        },
        "id": "6T-yGUeDCbof",
        "outputId": "7c31be60-f382-499e-88e8-26a977b6adc9"
      },
      "source": [
        "temp.head()"
      ],
      "execution_count": 5,
      "outputs": [
        {
          "output_type": "execute_result",
          "data": {
            "text/html": [
              "<div>\n",
              "<style scoped>\n",
              "    .dataframe tbody tr th:only-of-type {\n",
              "        vertical-align: middle;\n",
              "    }\n",
              "\n",
              "    .dataframe tbody tr th {\n",
              "        vertical-align: top;\n",
              "    }\n",
              "\n",
              "    .dataframe thead th {\n",
              "        text-align: right;\n",
              "    }\n",
              "</style>\n",
              "<table border=\"1\" class=\"dataframe\">\n",
              "  <thead>\n",
              "    <tr style=\"text-align: right;\">\n",
              "      <th></th>\n",
              "      <th>date</th>\n",
              "      <th>min</th>\n",
              "      <th>max</th>\n",
              "      <th>normal_min</th>\n",
              "      <th>normal_max</th>\n",
              "    </tr>\n",
              "  </thead>\n",
              "  <tbody>\n",
              "    <tr>\n",
              "      <th>0</th>\n",
              "      <td>19480717</td>\n",
              "      <td>64.0</td>\n",
              "      <td>74.0</td>\n",
              "      <td>69.1</td>\n",
              "      <td>84.0</td>\n",
              "    </tr>\n",
              "    <tr>\n",
              "      <th>1</th>\n",
              "      <td>19480718</td>\n",
              "      <td>70.0</td>\n",
              "      <td>81.0</td>\n",
              "      <td>69.2</td>\n",
              "      <td>84.0</td>\n",
              "    </tr>\n",
              "    <tr>\n",
              "      <th>2</th>\n",
              "      <td>19480719</td>\n",
              "      <td>70.0</td>\n",
              "      <td>85.0</td>\n",
              "      <td>69.2</td>\n",
              "      <td>84.0</td>\n",
              "    </tr>\n",
              "    <tr>\n",
              "      <th>3</th>\n",
              "      <td>19480720</td>\n",
              "      <td>69.0</td>\n",
              "      <td>84.0</td>\n",
              "      <td>69.2</td>\n",
              "      <td>84.0</td>\n",
              "    </tr>\n",
              "    <tr>\n",
              "      <th>4</th>\n",
              "      <td>19480721</td>\n",
              "      <td>71.0</td>\n",
              "      <td>85.0</td>\n",
              "      <td>69.3</td>\n",
              "      <td>84.0</td>\n",
              "    </tr>\n",
              "  </tbody>\n",
              "</table>\n",
              "</div>"
            ],
            "text/plain": [
              "       date   min   max  normal_min  normal_max\n",
              "0  19480717  64.0  74.0        69.1        84.0\n",
              "1  19480718  70.0  81.0        69.2        84.0\n",
              "2  19480719  70.0  85.0        69.2        84.0\n",
              "3  19480720  69.0  84.0        69.2        84.0\n",
              "4  19480721  71.0  85.0        69.3        84.0"
            ]
          },
          "metadata": {},
          "execution_count": 5
        }
      ]
    },
    {
      "cell_type": "code",
      "metadata": {
        "id": "Apm0AfeuCfbw"
      },
      "source": [
        "Temp = []\n",
        "s = ''\n",
        "for i in temp.date:\n",
        "  s += i[:4]\n",
        "  s+=' '\n",
        "  s+=i[4:6]\n",
        "  s+=' '\n",
        "  s+=i[6:]\n",
        "  Temp.append(s)\n",
        "  s=''"
      ],
      "execution_count": 6,
      "outputs": []
    },
    {
      "cell_type": "code",
      "metadata": {
        "id": "YvsHAn7FDtiC"
      },
      "source": [
        "temp.date = pd.Series([datetime( int( i.split(' ')[0] ),int( i.split(' ')[1] ),int( i.split(' ')[2] ) ) for i in Temp])"
      ],
      "execution_count": 7,
      "outputs": []
    },
    {
      "cell_type": "code",
      "metadata": {
        "colab": {
          "base_uri": "https://localhost:8080/"
        },
        "id": "KNxG8iP8HLTa",
        "outputId": "7f9b697c-ce46-49ab-f854-8ff4c952f0ab"
      },
      "source": [
        "temp.date.min()"
      ],
      "execution_count": 8,
      "outputs": [
        {
          "output_type": "execute_result",
          "data": {
            "text/plain": [
              "Timestamp('1948-07-17 00:00:00')"
            ]
          },
          "metadata": {},
          "execution_count": 8
        }
      ]
    },
    {
      "cell_type": "code",
      "metadata": {
        "colab": {
          "base_uri": "https://localhost:8080/"
        },
        "id": "09u2EOJRHVXQ",
        "outputId": "5a789609-c110-4961-f862-722767762267"
      },
      "source": [
        "temp.date.max()"
      ],
      "execution_count": 9,
      "outputs": [
        {
          "output_type": "execute_result",
          "data": {
            "text/plain": [
              "Timestamp('2025-12-31 00:00:00')"
            ]
          },
          "metadata": {},
          "execution_count": 9
        }
      ]
    },
    {
      "cell_type": "markdown",
      "metadata": {
        "id": "tez34iMcHLwP"
      },
      "source": [
        "## Temp from 17 July 1948 To 17 July 2021"
      ]
    },
    {
      "cell_type": "code",
      "metadata": {
        "id": "wInwiJmjDvRs"
      },
      "source": [
        "temp_To_Aug = temp[temp['date']<datetime(2021,7,18)]"
      ],
      "execution_count": 10,
      "outputs": []
    },
    {
      "cell_type": "code",
      "metadata": {
        "colab": {
          "base_uri": "https://localhost:8080/"
        },
        "id": "KKABGkwlFGVE",
        "outputId": "8af830ad-7db0-407c-ac77-abbfd3d71dfd"
      },
      "source": [
        "temp_To_Aug.info()"
      ],
      "execution_count": 11,
      "outputs": [
        {
          "output_type": "stream",
          "name": "stdout",
          "text": [
            "<class 'pandas.core.frame.DataFrame'>\n",
            "Int64Index: 26664 entries, 0 to 26663\n",
            "Data columns (total 5 columns):\n",
            " #   Column      Non-Null Count  Dtype         \n",
            "---  ------      --------------  -----         \n",
            " 0   date        26664 non-null  datetime64[ns]\n",
            " 1   min         26630 non-null  float64       \n",
            " 2   max         26630 non-null  float64       \n",
            " 3   normal_min  26664 non-null  float64       \n",
            " 4   normal_max  26664 non-null  float64       \n",
            "dtypes: datetime64[ns](1), float64(4)\n",
            "memory usage: 1.2 MB\n"
          ]
        }
      ]
    },
    {
      "cell_type": "code",
      "metadata": {
        "colab": {
          "base_uri": "https://localhost:8080/"
        },
        "id": "BBVHngMZsIvW",
        "outputId": "ec5d7927-864e-47b1-a0f8-c7f2e07d4e4b"
      },
      "source": [
        "temp_To_Aug.isna().sum()"
      ],
      "execution_count": 12,
      "outputs": [
        {
          "output_type": "execute_result",
          "data": {
            "text/plain": [
              "date           0\n",
              "min           34\n",
              "max           34\n",
              "normal_min     0\n",
              "normal_max     0\n",
              "dtype: int64"
            ]
          },
          "metadata": {},
          "execution_count": 12
        }
      ]
    },
    {
      "cell_type": "code",
      "metadata": {
        "colab": {
          "base_uri": "https://localhost:8080/",
          "height": 0
        },
        "id": "-yZHy28G0ezX",
        "outputId": "239e1aa2-31e6-4b76-f30a-bbf6e5dc2d5f"
      },
      "source": [
        "temp_To_Aug[temp_To_Aug['min'].isna()]"
      ],
      "execution_count": 13,
      "outputs": [
        {
          "output_type": "execute_result",
          "data": {
            "text/html": [
              "<div>\n",
              "<style scoped>\n",
              "    .dataframe tbody tr th:only-of-type {\n",
              "        vertical-align: middle;\n",
              "    }\n",
              "\n",
              "    .dataframe tbody tr th {\n",
              "        vertical-align: top;\n",
              "    }\n",
              "\n",
              "    .dataframe thead th {\n",
              "        text-align: right;\n",
              "    }\n",
              "</style>\n",
              "<table border=\"1\" class=\"dataframe\">\n",
              "  <thead>\n",
              "    <tr style=\"text-align: right;\">\n",
              "      <th></th>\n",
              "      <th>date</th>\n",
              "      <th>min</th>\n",
              "      <th>max</th>\n",
              "      <th>normal_min</th>\n",
              "      <th>normal_max</th>\n",
              "    </tr>\n",
              "  </thead>\n",
              "  <tbody>\n",
              "    <tr>\n",
              "      <th>777</th>\n",
              "      <td>1950-09-02</td>\n",
              "      <td>NaN</td>\n",
              "      <td>NaN</td>\n",
              "      <td>65.1</td>\n",
              "      <td>79.8</td>\n",
              "    </tr>\n",
              "    <tr>\n",
              "      <th>778</th>\n",
              "      <td>1950-09-03</td>\n",
              "      <td>NaN</td>\n",
              "      <td>NaN</td>\n",
              "      <td>64.9</td>\n",
              "      <td>79.6</td>\n",
              "    </tr>\n",
              "    <tr>\n",
              "      <th>856</th>\n",
              "      <td>1950-11-20</td>\n",
              "      <td>NaN</td>\n",
              "      <td>NaN</td>\n",
              "      <td>38.5</td>\n",
              "      <td>52.2</td>\n",
              "    </tr>\n",
              "    <tr>\n",
              "      <th>857</th>\n",
              "      <td>1950-11-21</td>\n",
              "      <td>NaN</td>\n",
              "      <td>NaN</td>\n",
              "      <td>38.2</td>\n",
              "      <td>51.9</td>\n",
              "    </tr>\n",
              "    <tr>\n",
              "      <th>904</th>\n",
              "      <td>1951-01-07</td>\n",
              "      <td>NaN</td>\n",
              "      <td>NaN</td>\n",
              "      <td>27.1</td>\n",
              "      <td>40.0</td>\n",
              "    </tr>\n",
              "    <tr>\n",
              "      <th>905</th>\n",
              "      <td>1951-01-08</td>\n",
              "      <td>NaN</td>\n",
              "      <td>NaN</td>\n",
              "      <td>26.9</td>\n",
              "      <td>39.8</td>\n",
              "    </tr>\n",
              "    <tr>\n",
              "      <th>928</th>\n",
              "      <td>1951-01-31</td>\n",
              "      <td>NaN</td>\n",
              "      <td>NaN</td>\n",
              "      <td>25.5</td>\n",
              "      <td>39.4</td>\n",
              "    </tr>\n",
              "    <tr>\n",
              "      <th>929</th>\n",
              "      <td>1951-02-01</td>\n",
              "      <td>NaN</td>\n",
              "      <td>NaN</td>\n",
              "      <td>25.6</td>\n",
              "      <td>39.5</td>\n",
              "    </tr>\n",
              "    <tr>\n",
              "      <th>1207</th>\n",
              "      <td>1951-11-06</td>\n",
              "      <td>NaN</td>\n",
              "      <td>NaN</td>\n",
              "      <td>42.5</td>\n",
              "      <td>57.1</td>\n",
              "    </tr>\n",
              "    <tr>\n",
              "      <th>1208</th>\n",
              "      <td>1951-11-07</td>\n",
              "      <td>NaN</td>\n",
              "      <td>NaN</td>\n",
              "      <td>42.2</td>\n",
              "      <td>56.7</td>\n",
              "    </tr>\n",
              "    <tr>\n",
              "      <th>2025</th>\n",
              "      <td>1954-02-01</td>\n",
              "      <td>NaN</td>\n",
              "      <td>NaN</td>\n",
              "      <td>25.6</td>\n",
              "      <td>39.5</td>\n",
              "    </tr>\n",
              "    <tr>\n",
              "      <th>2026</th>\n",
              "      <td>1954-02-02</td>\n",
              "      <td>NaN</td>\n",
              "      <td>NaN</td>\n",
              "      <td>25.6</td>\n",
              "      <td>39.6</td>\n",
              "    </tr>\n",
              "    <tr>\n",
              "      <th>2412</th>\n",
              "      <td>1955-02-23</td>\n",
              "      <td>NaN</td>\n",
              "      <td>NaN</td>\n",
              "      <td>28.8</td>\n",
              "      <td>43.3</td>\n",
              "    </tr>\n",
              "    <tr>\n",
              "      <th>2413</th>\n",
              "      <td>1955-02-24</td>\n",
              "      <td>NaN</td>\n",
              "      <td>NaN</td>\n",
              "      <td>29.0</td>\n",
              "      <td>43.5</td>\n",
              "    </tr>\n",
              "    <tr>\n",
              "      <th>2433</th>\n",
              "      <td>1955-03-16</td>\n",
              "      <td>NaN</td>\n",
              "      <td>NaN</td>\n",
              "      <td>33.4</td>\n",
              "      <td>48.5</td>\n",
              "    </tr>\n",
              "    <tr>\n",
              "      <th>2434</th>\n",
              "      <td>1955-03-17</td>\n",
              "      <td>NaN</td>\n",
              "      <td>NaN</td>\n",
              "      <td>33.7</td>\n",
              "      <td>48.8</td>\n",
              "    </tr>\n",
              "    <tr>\n",
              "      <th>3380</th>\n",
              "      <td>1957-10-18</td>\n",
              "      <td>NaN</td>\n",
              "      <td>NaN</td>\n",
              "      <td>49.0</td>\n",
              "      <td>63.9</td>\n",
              "    </tr>\n",
              "    <tr>\n",
              "      <th>3381</th>\n",
              "      <td>1957-10-19</td>\n",
              "      <td>NaN</td>\n",
              "      <td>NaN</td>\n",
              "      <td>48.6</td>\n",
              "      <td>63.5</td>\n",
              "    </tr>\n",
              "    <tr>\n",
              "      <th>3466</th>\n",
              "      <td>1958-01-12</td>\n",
              "      <td>NaN</td>\n",
              "      <td>NaN</td>\n",
              "      <td>26.3</td>\n",
              "      <td>39.4</td>\n",
              "    </tr>\n",
              "    <tr>\n",
              "      <th>3467</th>\n",
              "      <td>1958-01-13</td>\n",
              "      <td>NaN</td>\n",
              "      <td>NaN</td>\n",
              "      <td>26.2</td>\n",
              "      <td>39.3</td>\n",
              "    </tr>\n",
              "    <tr>\n",
              "      <th>3784</th>\n",
              "      <td>1958-11-26</td>\n",
              "      <td>NaN</td>\n",
              "      <td>NaN</td>\n",
              "      <td>36.9</td>\n",
              "      <td>50.2</td>\n",
              "    </tr>\n",
              "    <tr>\n",
              "      <th>3785</th>\n",
              "      <td>1958-11-27</td>\n",
              "      <td>NaN</td>\n",
              "      <td>NaN</td>\n",
              "      <td>36.6</td>\n",
              "      <td>49.9</td>\n",
              "    </tr>\n",
              "    <tr>\n",
              "      <th>3794</th>\n",
              "      <td>1958-12-06</td>\n",
              "      <td>NaN</td>\n",
              "      <td>NaN</td>\n",
              "      <td>34.4</td>\n",
              "      <td>47.1</td>\n",
              "    </tr>\n",
              "    <tr>\n",
              "      <th>3795</th>\n",
              "      <td>1958-12-07</td>\n",
              "      <td>NaN</td>\n",
              "      <td>NaN</td>\n",
              "      <td>34.1</td>\n",
              "      <td>46.8</td>\n",
              "    </tr>\n",
              "    <tr>\n",
              "      <th>3844</th>\n",
              "      <td>1959-01-25</td>\n",
              "      <td>NaN</td>\n",
              "      <td>NaN</td>\n",
              "      <td>25.3</td>\n",
              "      <td>39.0</td>\n",
              "    </tr>\n",
              "    <tr>\n",
              "      <th>3845</th>\n",
              "      <td>1959-01-26</td>\n",
              "      <td>NaN</td>\n",
              "      <td>NaN</td>\n",
              "      <td>25.3</td>\n",
              "      <td>39.1</td>\n",
              "    </tr>\n",
              "    <tr>\n",
              "      <th>3868</th>\n",
              "      <td>1959-02-18</td>\n",
              "      <td>NaN</td>\n",
              "      <td>NaN</td>\n",
              "      <td>27.9</td>\n",
              "      <td>42.2</td>\n",
              "    </tr>\n",
              "    <tr>\n",
              "      <th>3869</th>\n",
              "      <td>1959-02-19</td>\n",
              "      <td>NaN</td>\n",
              "      <td>NaN</td>\n",
              "      <td>28.0</td>\n",
              "      <td>42.4</td>\n",
              "    </tr>\n",
              "    <tr>\n",
              "      <th>4154</th>\n",
              "      <td>1959-12-01</td>\n",
              "      <td>NaN</td>\n",
              "      <td>NaN</td>\n",
              "      <td>35.6</td>\n",
              "      <td>48.6</td>\n",
              "    </tr>\n",
              "    <tr>\n",
              "      <th>4306</th>\n",
              "      <td>1960-05-01</td>\n",
              "      <td>NaN</td>\n",
              "      <td>NaN</td>\n",
              "      <td>48.0</td>\n",
              "      <td>64.1</td>\n",
              "    </tr>\n",
              "    <tr>\n",
              "      <th>5270</th>\n",
              "      <td>1962-12-21</td>\n",
              "      <td>NaN</td>\n",
              "      <td>NaN</td>\n",
              "      <td>30.8</td>\n",
              "      <td>43.1</td>\n",
              "    </tr>\n",
              "    <tr>\n",
              "      <th>5271</th>\n",
              "      <td>1962-12-22</td>\n",
              "      <td>NaN</td>\n",
              "      <td>NaN</td>\n",
              "      <td>30.5</td>\n",
              "      <td>42.9</td>\n",
              "    </tr>\n",
              "    <tr>\n",
              "      <th>5982</th>\n",
              "      <td>1964-12-02</td>\n",
              "      <td>NaN</td>\n",
              "      <td>NaN</td>\n",
              "      <td>35.4</td>\n",
              "      <td>48.3</td>\n",
              "    </tr>\n",
              "    <tr>\n",
              "      <th>5983</th>\n",
              "      <td>1964-12-03</td>\n",
              "      <td>NaN</td>\n",
              "      <td>NaN</td>\n",
              "      <td>35.1</td>\n",
              "      <td>48.0</td>\n",
              "    </tr>\n",
              "  </tbody>\n",
              "</table>\n",
              "</div>"
            ],
            "text/plain": [
              "           date  min  max  normal_min  normal_max\n",
              "777  1950-09-02  NaN  NaN        65.1        79.8\n",
              "778  1950-09-03  NaN  NaN        64.9        79.6\n",
              "856  1950-11-20  NaN  NaN        38.5        52.2\n",
              "857  1950-11-21  NaN  NaN        38.2        51.9\n",
              "904  1951-01-07  NaN  NaN        27.1        40.0\n",
              "905  1951-01-08  NaN  NaN        26.9        39.8\n",
              "928  1951-01-31  NaN  NaN        25.5        39.4\n",
              "929  1951-02-01  NaN  NaN        25.6        39.5\n",
              "1207 1951-11-06  NaN  NaN        42.5        57.1\n",
              "1208 1951-11-07  NaN  NaN        42.2        56.7\n",
              "2025 1954-02-01  NaN  NaN        25.6        39.5\n",
              "2026 1954-02-02  NaN  NaN        25.6        39.6\n",
              "2412 1955-02-23  NaN  NaN        28.8        43.3\n",
              "2413 1955-02-24  NaN  NaN        29.0        43.5\n",
              "2433 1955-03-16  NaN  NaN        33.4        48.5\n",
              "2434 1955-03-17  NaN  NaN        33.7        48.8\n",
              "3380 1957-10-18  NaN  NaN        49.0        63.9\n",
              "3381 1957-10-19  NaN  NaN        48.6        63.5\n",
              "3466 1958-01-12  NaN  NaN        26.3        39.4\n",
              "3467 1958-01-13  NaN  NaN        26.2        39.3\n",
              "3784 1958-11-26  NaN  NaN        36.9        50.2\n",
              "3785 1958-11-27  NaN  NaN        36.6        49.9\n",
              "3794 1958-12-06  NaN  NaN        34.4        47.1\n",
              "3795 1958-12-07  NaN  NaN        34.1        46.8\n",
              "3844 1959-01-25  NaN  NaN        25.3        39.0\n",
              "3845 1959-01-26  NaN  NaN        25.3        39.1\n",
              "3868 1959-02-18  NaN  NaN        27.9        42.2\n",
              "3869 1959-02-19  NaN  NaN        28.0        42.4\n",
              "4154 1959-12-01  NaN  NaN        35.6        48.6\n",
              "4306 1960-05-01  NaN  NaN        48.0        64.1\n",
              "5270 1962-12-21  NaN  NaN        30.8        43.1\n",
              "5271 1962-12-22  NaN  NaN        30.5        42.9\n",
              "5982 1964-12-02  NaN  NaN        35.4        48.3\n",
              "5983 1964-12-03  NaN  NaN        35.1        48.0"
            ]
          },
          "metadata": {},
          "execution_count": 13
        }
      ]
    },
    {
      "cell_type": "code",
      "metadata": {
        "id": "J-mk0FQ-GC2P"
      },
      "source": [
        "Year = []\n",
        "AvgMinimum = []\n",
        "AvgMax = []\n",
        "SumMin = 0.0\n",
        "SumMax = 0.0\n",
        "DayCount = 0.0\n",
        "for i in temp_To_Aug.groupby(['date']).date:\n",
        "  \n",
        "  if not str(temp_To_Aug['min'].loc[i[1].index[0]]) == 'nan':\n",
        "    \n",
        "    if not (i[0].year in Year):\n",
        "      \n",
        "      if DayCount > 0:\n",
        "        AvgMinimum.append(SumMin/DayCount)\n",
        "        AvgMax.append(SumMax/DayCount)\n",
        "      \n",
        "      SumMin = 0\n",
        "      SumMax = 0\n",
        "      DayCount = 0\n",
        "      Year.append(i[0].year)\n",
        "    \n",
        "    SumMin+=temp_To_Aug['min'].loc[i[1].index[0]]\n",
        "    SumMax+=temp_To_Aug['max'].loc[i[1].index[0]]\n",
        "    DayCount+=1\n",
        "AvgMinimum.append(SumMin/DayCount)\n",
        "AvgMax.append(SumMax/DayCount)"
      ],
      "execution_count": 14,
      "outputs": []
    },
    {
      "cell_type": "code",
      "metadata": {
        "colab": {
          "base_uri": "https://localhost:8080/"
        },
        "id": "VU9zWsmlQG15",
        "outputId": "f6e9f49d-69b8-45d7-b8ad-d953926bec34"
      },
      "source": [
        "len(Year)"
      ],
      "execution_count": 15,
      "outputs": [
        {
          "output_type": "execute_result",
          "data": {
            "text/plain": [
              "74"
            ]
          },
          "metadata": {},
          "execution_count": 15
        }
      ]
    },
    {
      "cell_type": "code",
      "metadata": {
        "colab": {
          "base_uri": "https://localhost:8080/"
        },
        "id": "-i7CEdnGi4Hr",
        "outputId": "a43a1fef-31ae-4c31-baa2-760da44ee632"
      },
      "source": [
        "len(AvgMinimum)"
      ],
      "execution_count": 16,
      "outputs": [
        {
          "output_type": "execute_result",
          "data": {
            "text/plain": [
              "74"
            ]
          },
          "metadata": {},
          "execution_count": 16
        }
      ]
    },
    {
      "cell_type": "code",
      "metadata": {
        "colab": {
          "base_uri": "https://localhost:8080/"
        },
        "id": "ttpGYyQTzT6-",
        "outputId": "500623d3-5ab7-4e66-d54f-f520038bcdea"
      },
      "source": [
        "len(AvgMax)"
      ],
      "execution_count": 17,
      "outputs": [
        {
          "output_type": "execute_result",
          "data": {
            "text/plain": [
              "74"
            ]
          },
          "metadata": {},
          "execution_count": 17
        }
      ]
    },
    {
      "cell_type": "code",
      "metadata": {
        "colab": {
          "base_uri": "https://localhost:8080/",
          "height": 0
        },
        "id": "VnCNaH181aYn",
        "outputId": "830ee382-4fda-488d-83ea-d5c89bccb717"
      },
      "source": [
        "Year_Axis = np.arange(len(Year))\n",
        "plt.figure(figsize=(40,40))\n",
        "plt.bar(Year_Axis-0.2,AvgMinimum,0.4,label='Average Minimum Temperature in Fahrenheit')\n",
        "plt.bar(Year_Axis+0.2,AvgMax,0.4,label='Average Maximum Temperature in Fahrenheit')\n",
        "plt.xticks(Year_Axis,Year)\n",
        "plt.xlabel('Year')\n",
        "plt.ylabel('Average Temperature')\n",
        "plt.title('Temperature change across years')\n",
        "plt.legend()\n",
        "plt.show()"
      ],
      "execution_count": 18,
      "outputs": [
        {
          "output_type": "display_data",
          "data": {
            "image/png": "[encoded data removed]",
            "text/plain": [
              "<Figure size 2880x2880 with 1 Axes>"
            ]
          },
          "metadata": {
            "needs_background": "light"
          }
        }
      ]
    },
    {
      "cell_type": "code",
      "metadata": {
        "colab": {
          "base_uri": "https://localhost:8080/",
          "height": 0
        },
        "id": "O-R7A24pO7P1",
        "outputId": "28b0493f-b233-4a1f-8c7c-ce9d583dde6e"
      },
      "source": [
        "pd.Series(AvgMinimum,index=Year).plot()"
      ],
      "execution_count": 19,
      "outputs": [
        {
          "output_type": "execute_result",
          "data": {
            "text/plain": [
              "<matplotlib.axes._subplots.AxesSubplot at 0x7feea7a69850>"
            ]
          },
          "metadata": {},
          "execution_count": 19
        },
        {
          "output_type": "display_data",
          "data": {
            "image/png": "[encoded data removed]",
            "text/plain": [
              "<Figure size 432x288 with 1 Axes>"
            ]
          },
          "metadata": {
            "needs_background": "light"
          }
        }
      ]
    },
    {
      "cell_type": "code",
      "metadata": {
        "colab": {
          "base_uri": "https://localhost:8080/",
          "height": 0
        },
        "id": "75aWs9a9iI1q",
        "outputId": "147ea19f-fa2d-43fb-fd51-718e9d78e3a0"
      },
      "source": [
        "pd.Series(AvgMax,index=Year).plot()"
      ],
      "execution_count": 20,
      "outputs": [
        {
          "output_type": "execute_result",
          "data": {
            "text/plain": [
              "<matplotlib.axes._subplots.AxesSubplot at 0x7feea79df990>"
            ]
          },
          "metadata": {},
          "execution_count": 20
        },
        {
          "output_type": "display_data",
          "data": {
            "image/png": "[encoded data removed]",
            "text/plain": [
              "<Figure size 432x288 with 1 Axes>"
            ]
          },
          "metadata": {
            "needs_background": "light"
          }
        }
      ]
    },
    {
      "cell_type": "markdown",
      "metadata": {
        "id": "x4K-Yi-VHlTP"
      },
      "source": [
        "# Precipitation"
      ]
    },
    {
      "cell_type": "code",
      "metadata": {
        "id": "EptE_quRHlTP"
      },
      "source": [
        "Per = pd.read_csv('USW00094789-JFK_INTL_AP-precipitation-inch.csv')"
      ],
      "execution_count": 21,
      "outputs": []
    },
    {
      "cell_type": "code",
      "metadata": {
        "id": "1DkEDgP5HlTP"
      },
      "source": [
        "Per.date = pd.Series([str(i) for i in Per['date']])"
      ],
      "execution_count": 22,
      "outputs": []
    },
    {
      "cell_type": "code",
      "metadata": {
        "colab": {
          "base_uri": "https://localhost:8080/"
        },
        "id": "E6lhEcrzHlTQ",
        "outputId": "d39abe34-d42a-49dc-c9ab-aa1265273ea6"
      },
      "source": [
        "Per.info()"
      ],
      "execution_count": 23,
      "outputs": [
        {
          "output_type": "stream",
          "name": "stdout",
          "text": [
            "<class 'pandas.core.frame.DataFrame'>\n",
            "RangeIndex: 28292 entries, 0 to 28291\n",
            "Data columns (total 3 columns):\n",
            " #   Column                Non-Null Count  Dtype  \n",
            "---  ------                --------------  -----  \n",
            " 0   date                  28292 non-null  object \n",
            " 1   precipitation         26553 non-null  object \n",
            " 2   precipitation_normal  28292 non-null  float64\n",
            "dtypes: float64(1), object(2)\n",
            "memory usage: 663.2+ KB\n"
          ]
        }
      ]
    },
    {
      "cell_type": "code",
      "metadata": {
        "colab": {
          "base_uri": "https://localhost:8080/"
        },
        "id": "9yysica9uXlQ",
        "outputId": "93b8c2e7-fc7c-43d1-a747-ba580438598e"
      },
      "source": [
        "Per.isna().sum()"
      ],
      "execution_count": 24,
      "outputs": [
        {
          "output_type": "execute_result",
          "data": {
            "text/plain": [
              "date                       0\n",
              "precipitation           1739\n",
              "precipitation_normal       0\n",
              "dtype: int64"
            ]
          },
          "metadata": {},
          "execution_count": 24
        }
      ]
    },
    {
      "cell_type": "code",
      "metadata": {
        "colab": {
          "base_uri": "https://localhost:8080/"
        },
        "id": "jNrbkjWfwtTy",
        "outputId": "fb19977a-6dc0-437f-b820-0a7e8145feb6"
      },
      "source": [
        "Per.duplicated().sum()"
      ],
      "execution_count": 25,
      "outputs": [
        {
          "output_type": "execute_result",
          "data": {
            "text/plain": [
              "0"
            ]
          },
          "metadata": {},
          "execution_count": 25
        }
      ]
    },
    {
      "cell_type": "code",
      "metadata": {
        "colab": {
          "base_uri": "https://localhost:8080/",
          "height": 0
        },
        "id": "7W8I3nyKxqJV",
        "outputId": "609cce7b-21dd-46ed-eea7-1b9004578b39"
      },
      "source": [
        "Per[Per['precipitation'] == 'T']"
      ],
      "execution_count": 26,
      "outputs": [
        {
          "output_type": "execute_result",
          "data": {
            "text/html": [
              "<div>\n",
              "<style scoped>\n",
              "    .dataframe tbody tr th:only-of-type {\n",
              "        vertical-align: middle;\n",
              "    }\n",
              "\n",
              "    .dataframe tbody tr th {\n",
              "        vertical-align: top;\n",
              "    }\n",
              "\n",
              "    .dataframe thead th {\n",
              "        text-align: right;\n",
              "    }\n",
              "</style>\n",
              "<table border=\"1\" class=\"dataframe\">\n",
              "  <thead>\n",
              "    <tr style=\"text-align: right;\">\n",
              "      <th></th>\n",
              "      <th>date</th>\n",
              "      <th>precipitation</th>\n",
              "      <th>precipitation_normal</th>\n",
              "    </tr>\n",
              "  </thead>\n",
              "  <tbody>\n",
              "    <tr>\n",
              "      <th>533</th>\n",
              "      <td>19500101</td>\n",
              "      <td>T</td>\n",
              "      <td>0.10</td>\n",
              "    </tr>\n",
              "    <tr>\n",
              "      <th>534</th>\n",
              "      <td>19500102</td>\n",
              "      <td>T</td>\n",
              "      <td>0.21</td>\n",
              "    </tr>\n",
              "    <tr>\n",
              "      <th>4916</th>\n",
              "      <td>19620101</td>\n",
              "      <td>T</td>\n",
              "      <td>0.10</td>\n",
              "    </tr>\n",
              "    <tr>\n",
              "      <th>5282</th>\n",
              "      <td>19630102</td>\n",
              "      <td>T</td>\n",
              "      <td>0.21</td>\n",
              "    </tr>\n",
              "    <tr>\n",
              "      <th>5283</th>\n",
              "      <td>19630103</td>\n",
              "      <td>T</td>\n",
              "      <td>0.31</td>\n",
              "    </tr>\n",
              "    <tr>\n",
              "      <th>5284</th>\n",
              "      <td>19630104</td>\n",
              "      <td>T</td>\n",
              "      <td>0.43</td>\n",
              "    </tr>\n",
              "    <tr>\n",
              "      <th>5285</th>\n",
              "      <td>19630105</td>\n",
              "      <td>T</td>\n",
              "      <td>0.54</td>\n",
              "    </tr>\n",
              "    <tr>\n",
              "      <th>5286</th>\n",
              "      <td>19630106</td>\n",
              "      <td>T</td>\n",
              "      <td>0.65</td>\n",
              "    </tr>\n",
              "    <tr>\n",
              "      <th>5287</th>\n",
              "      <td>19630107</td>\n",
              "      <td>T</td>\n",
              "      <td>0.76</td>\n",
              "    </tr>\n",
              "    <tr>\n",
              "      <th>5288</th>\n",
              "      <td>19630108</td>\n",
              "      <td>T</td>\n",
              "      <td>0.86</td>\n",
              "    </tr>\n",
              "    <tr>\n",
              "      <th>5289</th>\n",
              "      <td>19630109</td>\n",
              "      <td>T</td>\n",
              "      <td>0.97</td>\n",
              "    </tr>\n",
              "    <tr>\n",
              "      <th>5290</th>\n",
              "      <td>19630110</td>\n",
              "      <td>T</td>\n",
              "      <td>1.08</td>\n",
              "    </tr>\n",
              "    <tr>\n",
              "      <th>6377</th>\n",
              "      <td>19660101</td>\n",
              "      <td>T</td>\n",
              "      <td>0.10</td>\n",
              "    </tr>\n",
              "    <tr>\n",
              "      <th>6742</th>\n",
              "      <td>19670101</td>\n",
              "      <td>T</td>\n",
              "      <td>0.10</td>\n",
              "    </tr>\n",
              "    <tr>\n",
              "      <th>6743</th>\n",
              "      <td>19670102</td>\n",
              "      <td>T</td>\n",
              "      <td>0.21</td>\n",
              "    </tr>\n",
              "    <tr>\n",
              "      <th>6744</th>\n",
              "      <td>19670103</td>\n",
              "      <td>T</td>\n",
              "      <td>0.31</td>\n",
              "    </tr>\n",
              "    <tr>\n",
              "      <th>6745</th>\n",
              "      <td>19670104</td>\n",
              "      <td>T</td>\n",
              "      <td>0.43</td>\n",
              "    </tr>\n",
              "    <tr>\n",
              "      <th>7473</th>\n",
              "      <td>19690101</td>\n",
              "      <td>T</td>\n",
              "      <td>0.10</td>\n",
              "    </tr>\n",
              "    <tr>\n",
              "      <th>7474</th>\n",
              "      <td>19690102</td>\n",
              "      <td>T</td>\n",
              "      <td>0.21</td>\n",
              "    </tr>\n",
              "    <tr>\n",
              "      <th>7475</th>\n",
              "      <td>19690103</td>\n",
              "      <td>T</td>\n",
              "      <td>0.31</td>\n",
              "    </tr>\n",
              "    <tr>\n",
              "      <th>7476</th>\n",
              "      <td>19690104</td>\n",
              "      <td>T</td>\n",
              "      <td>0.43</td>\n",
              "    </tr>\n",
              "    <tr>\n",
              "      <th>7477</th>\n",
              "      <td>19690105</td>\n",
              "      <td>T</td>\n",
              "      <td>0.54</td>\n",
              "    </tr>\n",
              "    <tr>\n",
              "      <th>10398</th>\n",
              "      <td>19770104</td>\n",
              "      <td>T</td>\n",
              "      <td>0.43</td>\n",
              "    </tr>\n",
              "    <tr>\n",
              "      <th>10399</th>\n",
              "      <td>19770105</td>\n",
              "      <td>T</td>\n",
              "      <td>0.54</td>\n",
              "    </tr>\n",
              "    <tr>\n",
              "      <th>10400</th>\n",
              "      <td>19770106</td>\n",
              "      <td>T</td>\n",
              "      <td>0.65</td>\n",
              "    </tr>\n",
              "    <tr>\n",
              "      <th>11493</th>\n",
              "      <td>19800104</td>\n",
              "      <td>T</td>\n",
              "      <td>0.43</td>\n",
              "    </tr>\n",
              "    <tr>\n",
              "      <th>14779</th>\n",
              "      <td>19890102</td>\n",
              "      <td>T</td>\n",
              "      <td>0.21</td>\n",
              "    </tr>\n",
              "    <tr>\n",
              "      <th>14780</th>\n",
              "      <td>19890103</td>\n",
              "      <td>T</td>\n",
              "      <td>0.31</td>\n",
              "    </tr>\n",
              "    <tr>\n",
              "      <th>14781</th>\n",
              "      <td>19890104</td>\n",
              "      <td>T</td>\n",
              "      <td>0.43</td>\n",
              "    </tr>\n",
              "    <tr>\n",
              "      <th>14782</th>\n",
              "      <td>19890105</td>\n",
              "      <td>T</td>\n",
              "      <td>0.54</td>\n",
              "    </tr>\n",
              "    <tr>\n",
              "      <th>15512</th>\n",
              "      <td>19910105</td>\n",
              "      <td>T</td>\n",
              "      <td>0.54</td>\n",
              "    </tr>\n",
              "    <tr>\n",
              "      <th>17334</th>\n",
              "      <td>19960101</td>\n",
              "      <td>T</td>\n",
              "      <td>0.10</td>\n",
              "    </tr>\n",
              "    <tr>\n",
              "      <th>17700</th>\n",
              "      <td>19970101</td>\n",
              "      <td>T</td>\n",
              "      <td>0.10</td>\n",
              "    </tr>\n",
              "    <tr>\n",
              "      <th>18430</th>\n",
              "      <td>19990101</td>\n",
              "      <td>T</td>\n",
              "      <td>0.10</td>\n",
              "    </tr>\n",
              "    <tr>\n",
              "      <th>18431</th>\n",
              "      <td>19990102</td>\n",
              "      <td>T</td>\n",
              "      <td>0.21</td>\n",
              "    </tr>\n",
              "    <tr>\n",
              "      <th>18797</th>\n",
              "      <td>20000103</td>\n",
              "      <td>T</td>\n",
              "      <td>0.31</td>\n",
              "    </tr>\n",
              "    <tr>\n",
              "      <th>20257</th>\n",
              "      <td>20040102</td>\n",
              "      <td>T</td>\n",
              "      <td>0.21</td>\n",
              "    </tr>\n",
              "    <tr>\n",
              "      <th>20258</th>\n",
              "      <td>20040103</td>\n",
              "      <td>T</td>\n",
              "      <td>0.31</td>\n",
              "    </tr>\n",
              "    <tr>\n",
              "      <th>20623</th>\n",
              "      <td>20050102</td>\n",
              "      <td>T</td>\n",
              "      <td>0.21</td>\n",
              "    </tr>\n",
              "    <tr>\n",
              "      <th>22084</th>\n",
              "      <td>20090102</td>\n",
              "      <td>T</td>\n",
              "      <td>0.21</td>\n",
              "    </tr>\n",
              "    <tr>\n",
              "      <th>22085</th>\n",
              "      <td>20090103</td>\n",
              "      <td>T</td>\n",
              "      <td>0.31</td>\n",
              "    </tr>\n",
              "    <tr>\n",
              "      <th>22086</th>\n",
              "      <td>20090104</td>\n",
              "      <td>T</td>\n",
              "      <td>0.43</td>\n",
              "    </tr>\n",
              "    <tr>\n",
              "      <th>23549</th>\n",
              "      <td>20130106</td>\n",
              "      <td>T</td>\n",
              "      <td>0.65</td>\n",
              "    </tr>\n",
              "    <tr>\n",
              "      <th>23550</th>\n",
              "      <td>20130107</td>\n",
              "      <td>T</td>\n",
              "      <td>0.76</td>\n",
              "    </tr>\n",
              "    <tr>\n",
              "      <th>23551</th>\n",
              "      <td>20130108</td>\n",
              "      <td>T</td>\n",
              "      <td>0.86</td>\n",
              "    </tr>\n",
              "    <tr>\n",
              "      <th>23552</th>\n",
              "      <td>20130109</td>\n",
              "      <td>T</td>\n",
              "      <td>0.97</td>\n",
              "    </tr>\n",
              "    <tr>\n",
              "      <th>23553</th>\n",
              "      <td>20130110</td>\n",
              "      <td>T</td>\n",
              "      <td>1.08</td>\n",
              "    </tr>\n",
              "    <tr>\n",
              "      <th>25005</th>\n",
              "      <td>20170101</td>\n",
              "      <td>T</td>\n",
              "      <td>0.10</td>\n",
              "    </tr>\n",
              "  </tbody>\n",
              "</table>\n",
              "</div>"
            ],
            "text/plain": [
              "           date precipitation  precipitation_normal\n",
              "533    19500101             T                  0.10\n",
              "534    19500102             T                  0.21\n",
              "4916   19620101             T                  0.10\n",
              "5282   19630102             T                  0.21\n",
              "5283   19630103             T                  0.31\n",
              "5284   19630104             T                  0.43\n",
              "5285   19630105             T                  0.54\n",
              "5286   19630106             T                  0.65\n",
              "5287   19630107             T                  0.76\n",
              "5288   19630108             T                  0.86\n",
              "5289   19630109             T                  0.97\n",
              "5290   19630110             T                  1.08\n",
              "6377   19660101             T                  0.10\n",
              "6742   19670101             T                  0.10\n",
              "6743   19670102             T                  0.21\n",
              "6744   19670103             T                  0.31\n",
              "6745   19670104             T                  0.43\n",
              "7473   19690101             T                  0.10\n",
              "7474   19690102             T                  0.21\n",
              "7475   19690103             T                  0.31\n",
              "7476   19690104             T                  0.43\n",
              "7477   19690105             T                  0.54\n",
              "10398  19770104             T                  0.43\n",
              "10399  19770105             T                  0.54\n",
              "10400  19770106             T                  0.65\n",
              "11493  19800104             T                  0.43\n",
              "14779  19890102             T                  0.21\n",
              "14780  19890103             T                  0.31\n",
              "14781  19890104             T                  0.43\n",
              "14782  19890105             T                  0.54\n",
              "15512  19910105             T                  0.54\n",
              "17334  19960101             T                  0.10\n",
              "17700  19970101             T                  0.10\n",
              "18430  19990101             T                  0.10\n",
              "18431  19990102             T                  0.21\n",
              "18797  20000103             T                  0.31\n",
              "20257  20040102             T                  0.21\n",
              "20258  20040103             T                  0.31\n",
              "20623  20050102             T                  0.21\n",
              "22084  20090102             T                  0.21\n",
              "22085  20090103             T                  0.31\n",
              "22086  20090104             T                  0.43\n",
              "23549  20130106             T                  0.65\n",
              "23550  20130107             T                  0.76\n",
              "23551  20130108             T                  0.86\n",
              "23552  20130109             T                  0.97\n",
              "23553  20130110             T                  1.08\n",
              "25005  20170101             T                  0.10"
            ]
          },
          "metadata": {},
          "execution_count": 26
        }
      ]
    },
    {
      "cell_type": "code",
      "metadata": {
        "colab": {
          "base_uri": "https://localhost:8080/",
          "height": 0
        },
        "id": "AZKzpR6Bx88W",
        "outputId": "eb6b5a18-d6ae-400c-d170-0208e82921be"
      },
      "source": [
        "Per[Per['precipitation'].isna()]"
      ],
      "execution_count": 27,
      "outputs": [
        {
          "output_type": "execute_result",
          "data": {
            "text/html": [
              "<div>\n",
              "<style scoped>\n",
              "    .dataframe tbody tr th:only-of-type {\n",
              "        vertical-align: middle;\n",
              "    }\n",
              "\n",
              "    .dataframe tbody tr th {\n",
              "        vertical-align: top;\n",
              "    }\n",
              "\n",
              "    .dataframe thead th {\n",
              "        text-align: right;\n",
              "    }\n",
              "</style>\n",
              "<table border=\"1\" class=\"dataframe\">\n",
              "  <thead>\n",
              "    <tr style=\"text-align: right;\">\n",
              "      <th></th>\n",
              "      <th>date</th>\n",
              "      <th>precipitation</th>\n",
              "      <th>precipitation_normal</th>\n",
              "    </tr>\n",
              "  </thead>\n",
              "  <tbody>\n",
              "    <tr>\n",
              "      <th>1264</th>\n",
              "      <td>19520102</td>\n",
              "      <td>NaN</td>\n",
              "      <td>0.21</td>\n",
              "    </tr>\n",
              "    <tr>\n",
              "      <th>1265</th>\n",
              "      <td>19520103</td>\n",
              "      <td>NaN</td>\n",
              "      <td>0.31</td>\n",
              "    </tr>\n",
              "    <tr>\n",
              "      <th>1266</th>\n",
              "      <td>19520104</td>\n",
              "      <td>NaN</td>\n",
              "      <td>0.43</td>\n",
              "    </tr>\n",
              "    <tr>\n",
              "      <th>1267</th>\n",
              "      <td>19520105</td>\n",
              "      <td>NaN</td>\n",
              "      <td>0.54</td>\n",
              "    </tr>\n",
              "    <tr>\n",
              "      <th>1268</th>\n",
              "      <td>19520106</td>\n",
              "      <td>NaN</td>\n",
              "      <td>0.65</td>\n",
              "    </tr>\n",
              "    <tr>\n",
              "      <th>...</th>\n",
              "      <td>...</td>\n",
              "      <td>...</td>\n",
              "      <td>...</td>\n",
              "    </tr>\n",
              "    <tr>\n",
              "      <th>28287</th>\n",
              "      <td>20251227</td>\n",
              "      <td>NaN</td>\n",
              "      <td>42.84</td>\n",
              "    </tr>\n",
              "    <tr>\n",
              "      <th>28288</th>\n",
              "      <td>20251228</td>\n",
              "      <td>NaN</td>\n",
              "      <td>42.95</td>\n",
              "    </tr>\n",
              "    <tr>\n",
              "      <th>28289</th>\n",
              "      <td>20251229</td>\n",
              "      <td>NaN</td>\n",
              "      <td>43.07</td>\n",
              "    </tr>\n",
              "    <tr>\n",
              "      <th>28290</th>\n",
              "      <td>20251230</td>\n",
              "      <td>NaN</td>\n",
              "      <td>43.18</td>\n",
              "    </tr>\n",
              "    <tr>\n",
              "      <th>28291</th>\n",
              "      <td>20251231</td>\n",
              "      <td>NaN</td>\n",
              "      <td>43.29</td>\n",
              "    </tr>\n",
              "  </tbody>\n",
              "</table>\n",
              "<p>1739 rows × 3 columns</p>\n",
              "</div>"
            ],
            "text/plain": [
              "           date precipitation  precipitation_normal\n",
              "1264   19520102           NaN                  0.21\n",
              "1265   19520103           NaN                  0.31\n",
              "1266   19520104           NaN                  0.43\n",
              "1267   19520105           NaN                  0.54\n",
              "1268   19520106           NaN                  0.65\n",
              "...         ...           ...                   ...\n",
              "28287  20251227           NaN                 42.84\n",
              "28288  20251228           NaN                 42.95\n",
              "28289  20251229           NaN                 43.07\n",
              "28290  20251230           NaN                 43.18\n",
              "28291  20251231           NaN                 43.29\n",
              "\n",
              "[1739 rows x 3 columns]"
            ]
          },
          "metadata": {},
          "execution_count": 27
        }
      ]
    },
    {
      "cell_type": "code",
      "metadata": {
        "colab": {
          "base_uri": "https://localhost:8080/",
          "height": 0
        },
        "id": "OfNdCzVkHlTQ",
        "outputId": "26640f08-f360-4f68-b622-1dd220de3ba8"
      },
      "source": [
        "Per.head()"
      ],
      "execution_count": 28,
      "outputs": [
        {
          "output_type": "execute_result",
          "data": {
            "text/html": [
              "<div>\n",
              "<style scoped>\n",
              "    .dataframe tbody tr th:only-of-type {\n",
              "        vertical-align: middle;\n",
              "    }\n",
              "\n",
              "    .dataframe tbody tr th {\n",
              "        vertical-align: top;\n",
              "    }\n",
              "\n",
              "    .dataframe thead th {\n",
              "        text-align: right;\n",
              "    }\n",
              "</style>\n",
              "<table border=\"1\" class=\"dataframe\">\n",
              "  <thead>\n",
              "    <tr style=\"text-align: right;\">\n",
              "      <th></th>\n",
              "      <th>date</th>\n",
              "      <th>precipitation</th>\n",
              "      <th>precipitation_normal</th>\n",
              "    </tr>\n",
              "  </thead>\n",
              "  <tbody>\n",
              "    <tr>\n",
              "      <th>0</th>\n",
              "      <td>19480717</td>\n",
              "      <td>0.06</td>\n",
              "      <td>22.99</td>\n",
              "    </tr>\n",
              "    <tr>\n",
              "      <th>1</th>\n",
              "      <td>19480718</td>\n",
              "      <td>0.06</td>\n",
              "      <td>23.13</td>\n",
              "    </tr>\n",
              "    <tr>\n",
              "      <th>2</th>\n",
              "      <td>19480719</td>\n",
              "      <td>0.06</td>\n",
              "      <td>23.26</td>\n",
              "    </tr>\n",
              "    <tr>\n",
              "      <th>3</th>\n",
              "      <td>19480720</td>\n",
              "      <td>0.06</td>\n",
              "      <td>23.40</td>\n",
              "    </tr>\n",
              "    <tr>\n",
              "      <th>4</th>\n",
              "      <td>19480721</td>\n",
              "      <td>2.51</td>\n",
              "      <td>23.52</td>\n",
              "    </tr>\n",
              "  </tbody>\n",
              "</table>\n",
              "</div>"
            ],
            "text/plain": [
              "       date precipitation  precipitation_normal\n",
              "0  19480717          0.06                 22.99\n",
              "1  19480718          0.06                 23.13\n",
              "2  19480719          0.06                 23.26\n",
              "3  19480720          0.06                 23.40\n",
              "4  19480721          2.51                 23.52"
            ]
          },
          "metadata": {},
          "execution_count": 28
        }
      ]
    },
    {
      "cell_type": "code",
      "metadata": {
        "id": "w2sYkUr5HlTR"
      },
      "source": [
        "Temp = []\n",
        "s = ''\n",
        "for i in Per.date:\n",
        "  s += i[:4]\n",
        "  s+=' '\n",
        "  s+=i[4:6]\n",
        "  s+=' '\n",
        "  s+=i[6:]\n",
        "  Temp.append(s)\n",
        "  s=''"
      ],
      "execution_count": 29,
      "outputs": []
    },
    {
      "cell_type": "code",
      "metadata": {
        "id": "U2O2GEAlHlTR"
      },
      "source": [
        "Per.date = pd.Series([datetime( int( i.split(' ')[0] ),int( i.split(' ')[1] ),int( i.split(' ')[2] ) ) for i in Temp])"
      ],
      "execution_count": 30,
      "outputs": []
    },
    {
      "cell_type": "code",
      "metadata": {
        "colab": {
          "base_uri": "https://localhost:8080/"
        },
        "id": "IdWiO7OlIFAX",
        "outputId": "4550454a-b436-4a09-a496-f5f33a640786"
      },
      "source": [
        "Per.info()"
      ],
      "execution_count": 31,
      "outputs": [
        {
          "output_type": "stream",
          "name": "stdout",
          "text": [
            "<class 'pandas.core.frame.DataFrame'>\n",
            "RangeIndex: 28292 entries, 0 to 28291\n",
            "Data columns (total 3 columns):\n",
            " #   Column                Non-Null Count  Dtype         \n",
            "---  ------                --------------  -----         \n",
            " 0   date                  28292 non-null  datetime64[ns]\n",
            " 1   precipitation         26553 non-null  object        \n",
            " 2   precipitation_normal  28292 non-null  float64       \n",
            "dtypes: datetime64[ns](1), float64(1), object(1)\n",
            "memory usage: 663.2+ KB\n"
          ]
        }
      ]
    },
    {
      "cell_type": "code",
      "metadata": {
        "colab": {
          "base_uri": "https://localhost:8080/"
        },
        "id": "KgSD5TYvIJRB",
        "outputId": "d641a525-9e33-4180-c7c1-0382a20bda42"
      },
      "source": [
        "Per.date.min()"
      ],
      "execution_count": 32,
      "outputs": [
        {
          "output_type": "execute_result",
          "data": {
            "text/plain": [
              "Timestamp('1948-07-17 00:00:00')"
            ]
          },
          "metadata": {},
          "execution_count": 32
        }
      ]
    },
    {
      "cell_type": "code",
      "metadata": {
        "colab": {
          "base_uri": "https://localhost:8080/"
        },
        "id": "-DA4qpIjINO0",
        "outputId": "2113d532-0585-4448-9318-49b695a631da"
      },
      "source": [
        "Per.date.max()"
      ],
      "execution_count": 33,
      "outputs": [
        {
          "output_type": "execute_result",
          "data": {
            "text/plain": [
              "Timestamp('2025-12-31 00:00:00')"
            ]
          },
          "metadata": {},
          "execution_count": 33
        }
      ]
    },
    {
      "cell_type": "code",
      "metadata": {
        "id": "A_NBC72MHlTS"
      },
      "source": [
        "Per_To_Aug = Per[Per['date']<datetime(2021,7,18)]"
      ],
      "execution_count": 34,
      "outputs": []
    },
    {
      "cell_type": "code",
      "metadata": {
        "colab": {
          "base_uri": "https://localhost:8080/"
        },
        "id": "TI2UqGoeHlTS",
        "outputId": "4dad781f-119a-485e-c0a1-4c22574736d9"
      },
      "source": [
        "Per_To_Aug.info()"
      ],
      "execution_count": 35,
      "outputs": [
        {
          "output_type": "stream",
          "name": "stdout",
          "text": [
            "<class 'pandas.core.frame.DataFrame'>\n",
            "Int64Index: 26664 entries, 0 to 26663\n",
            "Data columns (total 3 columns):\n",
            " #   Column                Non-Null Count  Dtype         \n",
            "---  ------                --------------  -----         \n",
            " 0   date                  26664 non-null  datetime64[ns]\n",
            " 1   precipitation         26494 non-null  object        \n",
            " 2   precipitation_normal  26664 non-null  float64       \n",
            "dtypes: datetime64[ns](1), float64(1), object(1)\n",
            "memory usage: 833.2+ KB\n"
          ]
        }
      ]
    },
    {
      "cell_type": "code",
      "metadata": {
        "colab": {
          "base_uri": "https://localhost:8080/"
        },
        "id": "MgrZTykCHlTS",
        "outputId": "b328d071-0d77-4f26-bcf0-ba727bba7d26"
      },
      "source": [
        "Per_To_Aug.isna().sum()"
      ],
      "execution_count": 36,
      "outputs": [
        {
          "output_type": "execute_result",
          "data": {
            "text/plain": [
              "date                      0\n",
              "precipitation           170\n",
              "precipitation_normal      0\n",
              "dtype: int64"
            ]
          },
          "metadata": {},
          "execution_count": 36
        }
      ]
    },
    {
      "cell_type": "code",
      "metadata": {
        "id": "PMcmWgtZHlTT"
      },
      "source": [
        "Year = []\n",
        "AvgPer = []\n",
        "SumPer = 0.0\n",
        "DayCount = 0.0\n",
        "for i in Per_To_Aug.groupby(['date']).date:\n",
        "  \n",
        "  if not (str(Per_To_Aug['precipitation'].loc[i[1].index[0]]) == 'nan' or str(Per_To_Aug['precipitation'].loc[i[1].index[0]]) == 'T'):\n",
        "    \n",
        "    if not (i[0].year in Year):\n",
        "      \n",
        "      if DayCount > 0:\n",
        "        AvgPer.append(SumPer/DayCount)\n",
        "        \n",
        "      \n",
        "      SumPer = 0\n",
        "      DayCount = 0\n",
        "      Year.append(i[0].year)\n",
        "    \n",
        "    SumPer+=float(Per_To_Aug['precipitation'].loc[i[1].index[0]])\n",
        "    DayCount+=1\n",
        "AvgPer.append(SumPer/DayCount)"
      ],
      "execution_count": 37,
      "outputs": []
    },
    {
      "cell_type": "code",
      "metadata": {
        "colab": {
          "base_uri": "https://localhost:8080/"
        },
        "id": "MAaZngY0HlTT",
        "outputId": "24827970-2670-4fab-b6c6-a0cd40d50b48"
      },
      "source": [
        "len(Year)"
      ],
      "execution_count": 38,
      "outputs": [
        {
          "output_type": "execute_result",
          "data": {
            "text/plain": [
              "74"
            ]
          },
          "metadata": {},
          "execution_count": 38
        }
      ]
    },
    {
      "cell_type": "code",
      "metadata": {
        "colab": {
          "base_uri": "https://localhost:8080/"
        },
        "id": "b69ddWPDHlTU",
        "outputId": "050e7e43-13b0-4c6f-f54c-ffb1a067c33d"
      },
      "source": [
        "len(AvgPer)"
      ],
      "execution_count": 39,
      "outputs": [
        {
          "output_type": "execute_result",
          "data": {
            "text/plain": [
              "74"
            ]
          },
          "metadata": {},
          "execution_count": 39
        }
      ]
    },
    {
      "cell_type": "code",
      "metadata": {
        "colab": {
          "base_uri": "https://localhost:8080/",
          "height": 0
        },
        "id": "gYtEdIVZHlTU",
        "outputId": "27aa1f7d-6322-45fe-cd79-ca55dba9821b"
      },
      "source": [
        "Year_Axis = np.arange(len(Year))\n",
        "plt.figure(figsize=(40,40))\n",
        "plt.bar(Year_Axis-0.2,AvgPer,0.4,label='Average precipitation')\n",
        "plt.xticks(Year_Axis,Year)\n",
        "plt.xlabel('Year')\n",
        "plt.ylabel('Average precipitation')\n",
        "plt.title('Average precipitation change across years')\n",
        "plt.legend()\n",
        "plt.show()"
      ],
      "execution_count": 40,
      "outputs": [
        {
          "output_type": "display_data",
          "data": {
            "image/png": "[encoded data removed]",
            "text/plain": [
              "<Figure size 2880x2880 with 1 Axes>"
            ]
          },
          "metadata": {
            "needs_background": "light"
          }
        }
      ]
    },
    {
      "cell_type": "code",
      "metadata": {
        "colab": {
          "base_uri": "https://localhost:8080/",
          "height": 0
        },
        "id": "m0ChzjkwHlTV",
        "outputId": "daed6a94-43d7-4c9b-c1b1-97976ff552af"
      },
      "source": [
        "pd.Series(AvgPer,index=Year).plot()"
      ],
      "execution_count": 41,
      "outputs": [
        {
          "output_type": "execute_result",
          "data": {
            "text/plain": [
              "<matplotlib.axes._subplots.AxesSubplot at 0x7feea835ea50>"
            ]
          },
          "metadata": {},
          "execution_count": 41
        },
        {
          "output_type": "display_data",
          "data": {
            "image/png": "[encoded data removed]",
            "text/plain": [
              "<Figure size 432x288 with 1 Axes>"
            ]
          },
          "metadata": {
            "needs_background": "light"
          }
        }
      ]
    },
    {
      "cell_type": "markdown",
      "metadata": {
        "id": "AUL8fpX05O0F"
      },
      "source": [
        "# Diffrence in Avarage Sum of Temp in the last 2 dicades "
      ]
    },
    {
      "cell_type": "code",
      "metadata": {
        "id": "SFeXuf2E5aGD"
      },
      "source": [
        "temp_2000_2010 = temp[temp['date']>=datetime(2000,1,1) ]\n",
        "temp_2000_2010 = temp_2000_2010[temp_2000_2010['date']<datetime(2010,1,1) ]"
      ],
      "execution_count": 42,
      "outputs": []
    },
    {
      "cell_type": "code",
      "metadata": {
        "colab": {
          "base_uri": "https://localhost:8080/"
        },
        "id": "SO7ZXxvx6Soe",
        "outputId": "b3440fd8-0a0d-4773-f0b9-1ea0f49ffd08"
      },
      "source": [
        "temp_2000_2010.date.min()"
      ],
      "execution_count": 43,
      "outputs": [
        {
          "output_type": "execute_result",
          "data": {
            "text/plain": [
              "Timestamp('2000-01-01 00:00:00')"
            ]
          },
          "metadata": {},
          "execution_count": 43
        }
      ]
    },
    {
      "cell_type": "code",
      "metadata": {
        "colab": {
          "base_uri": "https://localhost:8080/"
        },
        "id": "VU2HYTGX6Vun",
        "outputId": "2c35157a-1ea6-4954-90a1-0eddfaca4b92"
      },
      "source": [
        "temp_2000_2010.date.max()"
      ],
      "execution_count": 44,
      "outputs": [
        {
          "output_type": "execute_result",
          "data": {
            "text/plain": [
              "Timestamp('2009-12-31 00:00:00')"
            ]
          },
          "metadata": {},
          "execution_count": 44
        }
      ]
    },
    {
      "cell_type": "code",
      "metadata": {
        "id": "M875WfYV6hpe"
      },
      "source": [
        "temp_2010_2020 = temp[temp['date']>=datetime(2010,1,1) ]\n",
        "temp_2010_2020 = temp_2010_2020[temp_2010_2020['date']<datetime(2021,1,1) ]"
      ],
      "execution_count": 45,
      "outputs": []
    },
    {
      "cell_type": "code",
      "metadata": {
        "colab": {
          "base_uri": "https://localhost:8080/"
        },
        "id": "057eU9Sx8A1z",
        "outputId": "863a9846-cb20-47d6-9417-efcb4068847b"
      },
      "source": [
        "temp_2000_2010.info()"
      ],
      "execution_count": 46,
      "outputs": [
        {
          "output_type": "stream",
          "name": "stdout",
          "text": [
            "<class 'pandas.core.frame.DataFrame'>\n",
            "Int64Index: 3653 entries, 18795 to 22447\n",
            "Data columns (total 5 columns):\n",
            " #   Column      Non-Null Count  Dtype         \n",
            "---  ------      --------------  -----         \n",
            " 0   date        3653 non-null   datetime64[ns]\n",
            " 1   min         3653 non-null   float64       \n",
            " 2   max         3653 non-null   float64       \n",
            " 3   normal_min  3653 non-null   float64       \n",
            " 4   normal_max  3653 non-null   float64       \n",
            "dtypes: datetime64[ns](1), float64(4)\n",
            "memory usage: 171.2 KB\n"
          ]
        }
      ]
    },
    {
      "cell_type": "code",
      "metadata": {
        "colab": {
          "base_uri": "https://localhost:8080/"
        },
        "id": "8kFbY4ft8D6M",
        "outputId": "7d0f7247-a525-457c-b8fa-f0c2f3816920"
      },
      "source": [
        "temp_2010_2020.info()"
      ],
      "execution_count": 47,
      "outputs": [
        {
          "output_type": "stream",
          "name": "stdout",
          "text": [
            "<class 'pandas.core.frame.DataFrame'>\n",
            "Int64Index: 4018 entries, 22448 to 26465\n",
            "Data columns (total 5 columns):\n",
            " #   Column      Non-Null Count  Dtype         \n",
            "---  ------      --------------  -----         \n",
            " 0   date        4018 non-null   datetime64[ns]\n",
            " 1   min         4018 non-null   float64       \n",
            " 2   max         4018 non-null   float64       \n",
            " 3   normal_min  4018 non-null   float64       \n",
            " 4   normal_max  4018 non-null   float64       \n",
            "dtypes: datetime64[ns](1), float64(4)\n",
            "memory usage: 188.3 KB\n"
          ]
        }
      ]
    },
    {
      "cell_type": "code",
      "metadata": {
        "colab": {
          "base_uri": "https://localhost:8080/"
        },
        "id": "D8aMKsas8Hlz",
        "outputId": "822762df-329d-450a-d29c-9df6e3d5ce3c"
      },
      "source": [
        "temp_2010_2020.date.min()"
      ],
      "execution_count": 48,
      "outputs": [
        {
          "output_type": "execute_result",
          "data": {
            "text/plain": [
              "Timestamp('2010-01-01 00:00:00')"
            ]
          },
          "metadata": {},
          "execution_count": 48
        }
      ]
    },
    {
      "cell_type": "code",
      "metadata": {
        "colab": {
          "base_uri": "https://localhost:8080/"
        },
        "id": "IPO-UkVG8Y5_",
        "outputId": "f6fb160d-23ba-4efe-f151-9cce2c365c77"
      },
      "source": [
        "temp_2010_2020.date.max()"
      ],
      "execution_count": 49,
      "outputs": [
        {
          "output_type": "execute_result",
          "data": {
            "text/plain": [
              "Timestamp('2020-12-31 00:00:00')"
            ]
          },
          "metadata": {},
          "execution_count": 49
        }
      ]
    },
    {
      "cell_type": "code",
      "metadata": {
        "colab": {
          "base_uri": "https://localhost:8080/"
        },
        "id": "-HLrNAxf8d7G",
        "outputId": "50b6eaf4-f16e-4666-b5a3-b57d514df54a"
      },
      "source": [
        "temp_2000_2010.isna().sum()"
      ],
      "execution_count": 50,
      "outputs": [
        {
          "output_type": "execute_result",
          "data": {
            "text/plain": [
              "date          0\n",
              "min           0\n",
              "max           0\n",
              "normal_min    0\n",
              "normal_max    0\n",
              "dtype: int64"
            ]
          },
          "metadata": {},
          "execution_count": 50
        }
      ]
    },
    {
      "cell_type": "code",
      "metadata": {
        "colab": {
          "base_uri": "https://localhost:8080/"
        },
        "id": "fhnsY3JW9KYC",
        "outputId": "9986f06c-d022-4ca2-bc7c-c457613bf43f"
      },
      "source": [
        "temp_2010_2020.isna().sum()"
      ],
      "execution_count": 51,
      "outputs": [
        {
          "output_type": "execute_result",
          "data": {
            "text/plain": [
              "date          0\n",
              "min           0\n",
              "max           0\n",
              "normal_min    0\n",
              "normal_max    0\n",
              "dtype: int64"
            ]
          },
          "metadata": {},
          "execution_count": 51
        }
      ]
    },
    {
      "cell_type": "code",
      "metadata": {
        "colab": {
          "base_uri": "https://localhost:8080/"
        },
        "id": "8_RuwXCM9NWM",
        "outputId": "4d91fae6-745c-40cd-e7cf-eb6195267dcb"
      },
      "source": [
        "temp_2000_2010.duplicated().sum()"
      ],
      "execution_count": 52,
      "outputs": [
        {
          "output_type": "execute_result",
          "data": {
            "text/plain": [
              "0"
            ]
          },
          "metadata": {},
          "execution_count": 52
        }
      ]
    },
    {
      "cell_type": "code",
      "metadata": {
        "colab": {
          "base_uri": "https://localhost:8080/"
        },
        "id": "In3T_fTl9R_z",
        "outputId": "ffe5139d-52c8-4d16-c256-8a0b0efcec62"
      },
      "source": [
        "temp_2010_2020.duplicated().sum()"
      ],
      "execution_count": 53,
      "outputs": [
        {
          "output_type": "execute_result",
          "data": {
            "text/plain": [
              "0"
            ]
          },
          "metadata": {},
          "execution_count": 53
        }
      ]
    },
    {
      "cell_type": "code",
      "metadata": {
        "id": "JB9liY-h9UY2"
      },
      "source": [
        "Year = ['2000-2010','2010-2020']\n",
        "Avgs_min = [temp_2000_2010['min'].mean(),temp_2010_2020['min'].mean()]\n",
        "Avgs_max = [temp_2000_2010['max'].mean(),temp_2010_2020['max'].mean()]"
      ],
      "execution_count": 54,
      "outputs": []
    },
    {
      "cell_type": "code",
      "metadata": {
        "id": "0R5sqkOsFKTN"
      },
      "source": [
        "df_diff_temp = pd.DataFrame({'Year':Year,\"Avgs_min\":Avgs_min,\"Avgs_max\":Avgs_max})"
      ],
      "execution_count": 55,
      "outputs": []
    },
    {
      "cell_type": "code",
      "metadata": {
        "colab": {
          "base_uri": "https://localhost:8080/",
          "height": 0
        },
        "id": "JOtb4zj0-ak1",
        "outputId": "0a12225a-881f-45b0-a90a-70e97da34f9a"
      },
      "source": [
        "plt.pie(Avgs_min,labels=Year,startangle=90,autopct='%1.1f%%',shadow=True)\n",
        "plt.axis('equal')\n",
        "plt.title('Comparison between Average minimum temperature in the last 2 decades')\n",
        "plt.figure(figsize=(100,100))"
      ],
      "execution_count": 56,
      "outputs": [
        {
          "output_type": "execute_result",
          "data": {
            "text/plain": [
              "<Figure size 7200x7200 with 0 Axes>"
            ]
          },
          "metadata": {},
          "execution_count": 56
        },
        {
          "output_type": "display_data",
          "data": {
            "image/png": "[encoded data removed]",
            "text/plain": [
              "<Figure size 432x288 with 1 Axes>"
            ]
          },
          "metadata": {}
        },
        {
          "output_type": "display_data",
          "data": {
            "text/plain": [
              "<Figure size 7200x7200 with 0 Axes>"
            ]
          },
          "metadata": {}
        }
      ]
    },
    {
      "cell_type": "code",
      "metadata": {
        "colab": {
          "base_uri": "https://localhost:8080/"
        },
        "id": "Bac2u54sBEZo",
        "outputId": "9efde169-77b2-4902-a98c-e88c697f5f87"
      },
      "source": [
        "Avgs_min"
      ],
      "execution_count": 57,
      "outputs": [
        {
          "output_type": "execute_result",
          "data": {
            "text/plain": [
              "[47.13742129756365, 48.41363862618218]"
            ]
          },
          "metadata": {},
          "execution_count": 57
        }
      ]
    },
    {
      "cell_type": "code",
      "metadata": {
        "colab": {
          "base_uri": "https://localhost:8080/",
          "height": 0
        },
        "id": "xU2BvQ573ue3",
        "outputId": "257d69a6-c9ab-4efe-cbfd-6bc30209b973"
      },
      "source": [
        "Year_Axis = np.arange(len(Year))\n",
        "plt.figure(figsize=(7,7))\n",
        "plt.bar(Year_Axis-0.2,Avgs_min,0.4,color=['green','red'])\n",
        "plt.xticks(Year_Axis,Year)\n",
        "plt.xlabel('Year')\n",
        "plt.ylabel('Average Minimum Tempratature')\n",
        "plt.title('Average Minimum Tempratature in decades 2000-2010 and 2010-2020')\n",
        "plt.legend()\n",
        "plt.show()"
      ],
      "execution_count": 58,
      "outputs": [
        {
          "output_type": "stream",
          "name": "stderr",
          "text": [
            "No handles with labels found to put in legend.\n"
          ]
        },
        {
          "output_type": "display_data",
          "data": {
            "image/png": "[encoded data removed]",
            "text/plain": [
              "<Figure size 504x504 with 1 Axes>"
            ]
          },
          "metadata": {
            "needs_background": "light"
          }
        }
      ]
    },
    {
      "cell_type": "code",
      "metadata": {
        "colab": {
          "base_uri": "https://localhost:8080/"
        },
        "id": "BGVk2lte_6KO",
        "outputId": "3072248f-0110-4f05-940d-dbfb0cd9f3e2"
      },
      "source": [
        "Avgs_max"
      ],
      "execution_count": 59,
      "outputs": [
        {
          "output_type": "execute_result",
          "data": {
            "text/plain": [
              "[61.544757733369835, 62.931309109009455]"
            ]
          },
          "metadata": {},
          "execution_count": 59
        }
      ]
    },
    {
      "cell_type": "code",
      "metadata": {
        "id": "fvbnZ7zZFGnA"
      },
      "source": [
        ""
      ],
      "execution_count": 59,
      "outputs": []
    },
    {
      "cell_type": "code",
      "metadata": {
        "colab": {
          "base_uri": "https://localhost:8080/",
          "height": 0
        },
        "id": "0t7_r96N60um",
        "outputId": "a643da4d-550b-4a64-8590-b6d2613bde33"
      },
      "source": [
        "Year_Axis = np.arange(len(Year))\n",
        "plt.figure(figsize=(7,7))\n",
        "plt.bar(Year_Axis-0.2,Avgs_max,0.4,color=['green','red'])\n",
        "plt.xticks(Year_Axis,Year)\n",
        "plt.xlabel('Year')\n",
        "plt.ylabel('Average Maximum Tempratature')\n",
        "plt.title('Average Maximum Tempratature in decades 2000-2010 and 2010-2020')\n",
        "plt.legend()\n",
        "plt.show()"
      ],
      "execution_count": 60,
      "outputs": [
        {
          "output_type": "stream",
          "name": "stderr",
          "text": [
            "No handles with labels found to put in legend.\n"
          ]
        },
        {
          "output_type": "display_data",
          "data": {
            "image/png": "[encoded data removed]",
            "text/plain": [
              "<Figure size 504x504 with 1 Axes>"
            ]
          },
          "metadata": {
            "needs_background": "light"
          }
        }
      ]
    },
    {
      "cell_type": "code",
      "metadata": {
        "colab": {
          "base_uri": "https://localhost:8080/",
          "height": 0
        },
        "id": "ffhvHMVEBGYO",
        "outputId": "c5b22260-ea25-418b-b51d-fa91d6185a7a"
      },
      "source": [
        "plt.pie(Avgs_max,labels=Year,startangle=90,autopct='%1.1f%%',shadow=True)\n",
        "plt.axis('equal')\n",
        "plt.title('Comparison between Average maximum temperature in the last 2 decades')\n",
        "plt.figure(figsize=(100,100))"
      ],
      "execution_count": 61,
      "outputs": [
        {
          "output_type": "execute_result",
          "data": {
            "text/plain": [
              "<Figure size 7200x7200 with 0 Axes>"
            ]
          },
          "metadata": {},
          "execution_count": 61
        },
        {
          "output_type": "display_data",
          "data": {
            "image/png": "[encoded data removed]",
            "text/plain": [
              "<Figure size 432x288 with 1 Axes>"
            ]
          },
          "metadata": {}
        },
        {
          "output_type": "display_data",
          "data": {
            "text/plain": [
              "<Figure size 7200x7200 with 0 Axes>"
            ]
          },
          "metadata": {}
        }
      ]
    },
    {
      "cell_type": "markdown",
      "metadata": {
        "id": "OF825pp7pAAm"
      },
      "source": [
        "# Diffrence in Avarage Sum of precipitation in the last 2 dicades"
      ]
    },
    {
      "cell_type": "code",
      "metadata": {
        "id": "qpATMeEGmbsY"
      },
      "source": [
        "Per_2000_2010 = Per[Per['date']>=datetime(2000,1,1) ]\n",
        "Per_2000_2010 = Per_2000_2010[Per_2000_2010['date']<datetime(2010,1,1) ]\n",
        "Per_2010_2020 = Per[Per['date']>=datetime(2010,1,1) ]\n",
        "Per_2010_2020 = Per_2010_2020[Per_2010_2020['date']<datetime(2021,1,1) ]"
      ],
      "execution_count": 62,
      "outputs": []
    },
    {
      "cell_type": "code",
      "metadata": {
        "id": "2fZHeJ3eox5Q"
      },
      "source": [
        "Year = ['2000-2010','2010-2020']"
      ],
      "execution_count": 63,
      "outputs": []
    },
    {
      "cell_type": "code",
      "metadata": {
        "id": "JBICQv33N2Cq"
      },
      "source": [
        "Avgs_Per = []\n",
        "SumPer = 0.0\n",
        "DayCount = 0.0\n",
        "for i in Per_2000_2010.precipitation:\n",
        " \n",
        "  if not (i == 'T'):   \n",
        "    SumPer+=float(i)\n",
        "    DayCount+=1\n",
        "Avgs_Per.append(SumPer/DayCount)"
      ],
      "execution_count": 64,
      "outputs": []
    },
    {
      "cell_type": "code",
      "metadata": {
        "colab": {
          "base_uri": "https://localhost:8080/"
        },
        "id": "hHTiAoLUoih0",
        "outputId": "86e43100-2358-4b83-e8d8-78949b2fdaee"
      },
      "source": [
        "Avgs_Per"
      ],
      "execution_count": 65,
      "outputs": [
        {
          "output_type": "execute_result",
          "data": {
            "text/plain": [
              "[21.35961601755345]"
            ]
          },
          "metadata": {},
          "execution_count": 65
        }
      ]
    },
    {
      "cell_type": "code",
      "metadata": {
        "id": "CWLUtr_OvqCc"
      },
      "source": [
        "SumPer = 0.0\n",
        "DayCount = 0.0\n",
        "for i in Per_2010_2020.precipitation:\n",
        " \n",
        "  if not (i == 'T'):   \n",
        "    SumPer+=float(i)\n",
        "    DayCount+=1\n",
        "Avgs_Per.append(SumPer/DayCount)"
      ],
      "execution_count": 66,
      "outputs": []
    },
    {
      "cell_type": "code",
      "metadata": {
        "colab": {
          "base_uri": "https://localhost:8080/"
        },
        "id": "LmmpIacgv8GW",
        "outputId": "025d8c56-919f-44b7-d0aa-65052efd03dc"
      },
      "source": [
        "Avgs_Per"
      ],
      "execution_count": 67,
      "outputs": [
        {
          "output_type": "execute_result",
          "data": {
            "text/plain": [
              "[21.35961601755345, 22.137397806580296]"
            ]
          },
          "metadata": {},
          "execution_count": 67
        }
      ]
    },
    {
      "cell_type": "code",
      "metadata": {
        "colab": {
          "base_uri": "https://localhost:8080/",
          "height": 0
        },
        "id": "vHhtcOxu7tDe",
        "outputId": "b7f495c0-3350-4ee8-d189-3816a1d7a1ba"
      },
      "source": [
        "Year_Axis = np.arange(len(Year))\n",
        "plt.figure(figsize=(7,7))\n",
        "plt.bar(Year_Axis-0.2,Avgs_Per,0.4,color=['green','blue'])\n",
        "plt.xticks(Year_Axis,Year)\n",
        "plt.xlabel('Year')\n",
        "plt.ylabel('Average Precipitation')\n",
        "plt.title('Average Precipitation in decades 2000-2010 and 2010-2020')\n",
        "plt.legend()\n",
        "plt.show()"
      ],
      "execution_count": 68,
      "outputs": [
        {
          "output_type": "stream",
          "name": "stderr",
          "text": [
            "No handles with labels found to put in legend.\n"
          ]
        },
        {
          "output_type": "display_data",
          "data": {
            "image/png": "[encoded data removed]",
            "text/plain": [
              "<Figure size 504x504 with 1 Axes>"
            ]
          },
          "metadata": {
            "needs_background": "light"
          }
        }
      ]
    },
    {
      "cell_type": "code",
      "metadata": {
        "colab": {
          "base_uri": "https://localhost:8080/",
          "height": 0
        },
        "id": "cgtVbQwhv9Tp",
        "outputId": "64c39536-777d-4bbb-fb47-808c1dbbcf60"
      },
      "source": [
        "plt.pie(Avgs_Per,labels=Year,startangle=90,autopct='%1.1f%%',shadow=True)\n",
        "plt.axis('equal')\n",
        "plt.title('Comparison between Average Precipitation in the last 2 decades')\n",
        "plt.figure(figsize=(100,100))"
      ],
      "execution_count": 69,
      "outputs": [
        {
          "output_type": "execute_result",
          "data": {
            "text/plain": [
              "<Figure size 7200x7200 with 0 Axes>"
            ]
          },
          "metadata": {},
          "execution_count": 69
        },
        {
          "output_type": "display_data",
          "data": {
            "image/png": "[encoded data removed]",
            "text/plain": [
              "<Figure size 432x288 with 1 Axes>"
            ]
          },
          "metadata": {}
        },
        {
          "output_type": "display_data",
          "data": {
            "text/plain": [
              "<Figure size 7200x7200 with 0 Axes>"
            ]
          },
          "metadata": {}
        }
      ]
    },
    {
      "cell_type": "markdown",
      "metadata": {
        "id": "OQnaSFFzUKHt"
      },
      "source": [
        "# Future Prediction"
      ]
    },
    {
      "cell_type": "markdown",
      "metadata": {
        "id": "OyyN30fOXeII"
      },
      "source": [
        "## Temprature"
      ]
    },
    {
      "cell_type": "code",
      "metadata": {
        "id": "Cn2978p0CHgt"
      },
      "source": [
        "temp_2021_2025 = temp[temp['date']>=datetime(2021,12,31)]"
      ],
      "execution_count": 70,
      "outputs": []
    },
    {
      "cell_type": "code",
      "metadata": {
        "colab": {
          "base_uri": "https://localhost:8080/"
        },
        "id": "zOCADj0-VER6",
        "outputId": "52b9c92e-a6b2-418e-fb7a-ad3848c3249b"
      },
      "source": [
        "temp_2021_2025.date.min()"
      ],
      "execution_count": 71,
      "outputs": [
        {
          "output_type": "execute_result",
          "data": {
            "text/plain": [
              "Timestamp('2021-12-31 00:00:00')"
            ]
          },
          "metadata": {},
          "execution_count": 71
        }
      ]
    },
    {
      "cell_type": "code",
      "metadata": {
        "colab": {
          "base_uri": "https://localhost:8080/"
        },
        "id": "nDJtII02VHW4",
        "outputId": "e5b0f21b-b7e9-4f29-a907-77b0586ed714"
      },
      "source": [
        "temp_2021_2025.date.max()"
      ],
      "execution_count": 72,
      "outputs": [
        {
          "output_type": "execute_result",
          "data": {
            "text/plain": [
              "Timestamp('2025-12-31 00:00:00')"
            ]
          },
          "metadata": {},
          "execution_count": 72
        }
      ]
    },
    {
      "cell_type": "code",
      "metadata": {
        "colab": {
          "base_uri": "https://localhost:8080/"
        },
        "id": "TqNtWEMYVKzT",
        "outputId": "0f5077e9-6c3d-4fe9-c1c9-590456cc3eec"
      },
      "source": [
        "temp_2021_2025.info()"
      ],
      "execution_count": 73,
      "outputs": [
        {
          "output_type": "stream",
          "name": "stdout",
          "text": [
            "<class 'pandas.core.frame.DataFrame'>\n",
            "Int64Index: 1462 entries, 26830 to 28291\n",
            "Data columns (total 5 columns):\n",
            " #   Column      Non-Null Count  Dtype         \n",
            "---  ------      --------------  -----         \n",
            " 0   date        1462 non-null   datetime64[ns]\n",
            " 1   min         0 non-null      float64       \n",
            " 2   max         0 non-null      float64       \n",
            " 3   normal_min  1462 non-null   float64       \n",
            " 4   normal_max  1462 non-null   float64       \n",
            "dtypes: datetime64[ns](1), float64(4)\n",
            "memory usage: 68.5 KB\n"
          ]
        }
      ]
    },
    {
      "cell_type": "code",
      "metadata": {
        "colab": {
          "base_uri": "https://localhost:8080/"
        },
        "id": "hmBj9HbxZY5K",
        "outputId": "5b075605-97bc-4de1-f28f-cad39ffecb06"
      },
      "source": [
        "temp_2021_2025['normal_min'].loc[26830]"
      ],
      "execution_count": 74,
      "outputs": [
        {
          "output_type": "execute_result",
          "data": {
            "text/plain": [
              "28.5"
            ]
          },
          "metadata": {},
          "execution_count": 74
        }
      ]
    },
    {
      "cell_type": "code",
      "metadata": {
        "id": "SqD5I5xoZi-2"
      },
      "source": [
        "Year = []\n",
        "AvgMinimum = []\n",
        "AvgMax = []\n",
        "SumMin = 0.0\n",
        "SumMax = 0.0\n",
        "DayCount = 0.0\n",
        "for i in temp_2021_2025.groupby(['date']).date:\n",
        "  \n",
        "  if not str(temp_2021_2025['normal_min'].loc[i[1].index[0]]) == 'nan':\n",
        "    \n",
        "    if not (i[0].year in Year):\n",
        "      \n",
        "      if DayCount > 0:\n",
        "        AvgMinimum.append(SumMin/DayCount)\n",
        "        AvgMax.append(SumMax/DayCount)\n",
        "      \n",
        "      SumMin = 0\n",
        "      SumMax = 0\n",
        "      DayCount = 0\n",
        "      Year.append(i[0].year)\n",
        "    \n",
        "    SumMin+=temp_2021_2025['normal_min'].loc[i[1].index[0]]\n",
        "    SumMax+=temp_2021_2025['normal_max'].loc[i[1].index[0]]\n",
        "    DayCount+=1\n",
        "AvgMinimum.append(SumMin/DayCount)\n",
        "AvgMax.append(SumMax/DayCount)"
      ],
      "execution_count": 75,
      "outputs": []
    },
    {
      "cell_type": "code",
      "metadata": {
        "colab": {
          "base_uri": "https://localhost:8080/"
        },
        "id": "4E3-XVszpUUb",
        "outputId": "9aa5e86a-9b6b-4ed2-dcca-a76395313cbd"
      },
      "source": [
        "Year"
      ],
      "execution_count": 76,
      "outputs": [
        {
          "output_type": "execute_result",
          "data": {
            "text/plain": [
              "[2021, 2022, 2023, 2024, 2025]"
            ]
          },
          "metadata": {},
          "execution_count": 76
        }
      ]
    },
    {
      "cell_type": "code",
      "metadata": {
        "colab": {
          "base_uri": "https://localhost:8080/",
          "height": 0
        },
        "id": "h-Hlkz4zaAlB",
        "outputId": "b48c03f8-c445-4720-969f-ad1271fc6376"
      },
      "source": [
        "Year_Axis = np.arange(len(Year))\n",
        "plt.figure(figsize=(10,10))\n",
        "plt.bar(Year_Axis-0.2,AvgMinimum,0.4,label='Avg Minimum Temperature in F')\n",
        "plt.bar(Year_Axis+0.2,AvgMax,0.4,label='Avg Maximum Temperature in F')\n",
        "plt.xticks(Year_Axis,Year)\n",
        "plt.xlabel('Year')\n",
        "plt.ylabel('Average Temperature')\n",
        "plt.title('Temperature change across years')\n",
        "plt.legend()\n",
        "plt.show()"
      ],
      "execution_count": 77,
      "outputs": [
        {
          "output_type": "display_data",
          "data": {
            "image/png": "[encoded data removed]",
            "text/plain": [
              "<Figure size 720x720 with 1 Axes>"
            ]
          },
          "metadata": {
            "needs_background": "light"
          }
        }
      ]
    },
    {
      "cell_type": "code",
      "metadata": {
        "id": "fL5vHn0nb1uu",
        "colab": {
          "base_uri": "https://localhost:8080/",
          "height": 0
        },
        "outputId": "a1625bbd-b107-467d-f202-408d63a621d7"
      },
      "source": [
        "pd.Series(AvgMinimum,index=[str(i) for i in Year]).plot()"
      ],
      "execution_count": 78,
      "outputs": [
        {
          "output_type": "execute_result",
          "data": {
            "text/plain": [
              "<matplotlib.axes._subplots.AxesSubplot at 0x7feea76dc410>"
            ]
          },
          "metadata": {},
          "execution_count": 78
        },
        {
          "output_type": "display_data",
          "data": {
            "image/png": "[encoded data removed]",
            "text/plain": [
              "<Figure size 432x288 with 1 Axes>"
            ]
          },
          "metadata": {
            "needs_background": "light"
          }
        }
      ]
    },
    {
      "cell_type": "code",
      "metadata": {
        "colab": {
          "base_uri": "https://localhost:8080/",
          "height": 0
        },
        "id": "y5vof15NrQmS",
        "outputId": "507ccb76-415d-4a88-94ae-ee056e9abecb"
      },
      "source": [
        "pd.Series(AvgMax,index=[str(i) for i in Year]).plot()"
      ],
      "execution_count": 79,
      "outputs": [
        {
          "output_type": "execute_result",
          "data": {
            "text/plain": [
              "<matplotlib.axes._subplots.AxesSubplot at 0x7feea76dbad0>"
            ]
          },
          "metadata": {},
          "execution_count": 79
        },
        {
          "output_type": "display_data",
          "data": {
            "image/png": "[encoded data removed]",
            "text/plain": [
              "<Figure size 432x288 with 1 Axes>"
            ]
          },
          "metadata": {
            "needs_background": "light"
          }
        }
      ]
    },
    {
      "cell_type": "code",
      "metadata": {
        "colab": {
          "base_uri": "https://localhost:8080/"
        },
        "id": "H0HZ5otGr7Ds",
        "outputId": "dc22f2f3-d4d1-489a-dc9b-8db3862edd3b"
      },
      "source": [
        "AvgMinimum"
      ],
      "execution_count": 80,
      "outputs": [
        {
          "output_type": "execute_result",
          "data": {
            "text/plain": [
              "[28.5,\n",
              " 47.11835616438357,\n",
              " 47.11835616438357,\n",
              " 47.07131147540984,\n",
              " 47.11835616438357]"
            ]
          },
          "metadata": {},
          "execution_count": 80
        }
      ]
    },
    {
      "cell_type": "code",
      "metadata": {
        "id": "uWNnT4KysZb2",
        "colab": {
          "base_uri": "https://localhost:8080/"
        },
        "outputId": "6b6870b2-9998-4c74-ee9c-20cde170ff9d"
      },
      "source": [
        "AvgMax"
      ],
      "execution_count": 81,
      "outputs": [
        {
          "output_type": "execute_result",
          "data": {
            "text/plain": [
              "[41.1,\n",
              " 61.75232876712328,\n",
              " 61.75232876712328,\n",
              " 61.70546448087431,\n",
              " 61.75232876712328]"
            ]
          },
          "metadata": {},
          "execution_count": 81
        }
      ]
    },
    {
      "cell_type": "code",
      "metadata": {
        "id": "MN3yy7kusbJD"
      },
      "source": [
        ""
      ],
      "execution_count": 81,
      "outputs": []
    }
  ]
}