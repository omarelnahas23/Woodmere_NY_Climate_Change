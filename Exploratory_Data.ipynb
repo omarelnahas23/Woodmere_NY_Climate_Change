{
  "nbformat": 4,
  "nbformat_minor": 0,
  "metadata": {
    "colab": {
      "name": "Exploratory Data.ipynb",
      "provenance": [],
      "collapsed_sections": [
        "tez34iMcHLwP",
        "x4K-Yi-VHlTP",
        "hsl4DlrRc0ff",
        "AUL8fpX05O0F",
        "OF825pp7pAAm",
        "2-PhPi7BdGgi"
      ]
    },
    "kernelspec": {
      "name": "python3",
      "display_name": "Python 3"
    },
    "language_info": {
      "name": "python"
    }
  },
  "cells": [
    {
      "cell_type": "code",
      "metadata": {
        "id": "U0ZRMFDjHMlu"
      },
      "source": [
        "import pandas as pd\n",
        "import numpy as np\n",
        "import matplotlib.pyplot as plt\n",
        "from datetime import datetime\n",
        "%matplotlib inline"
      ],
      "execution_count": 3,
      "outputs": []
    },
    {
      "cell_type": "markdown",
      "metadata": {
        "id": "9nctVwhncYUb"
      },
      "source": [
        "# Climate Change in Woodmere,NY\n",
        "### Data Station id: USW00094789\n",
        "### Station: JFK INTL AP NY\n",
        "### Website : https://crt-climate-explorer.nemac.org/\n",
        "### Section: New York City, NY => Historical Weather Data\n"
      ]
    },
    {
      "cell_type": "markdown",
      "metadata": {
        "id": "8_j2mCOmMmmW"
      },
      "source": [
        "## Temprature in Woodmere,NY\n"
      ]
    },
    {
      "cell_type": "code",
      "metadata": {
        "id": "yEb5bWalHVeN"
      },
      "source": [
        "temp = pd.read_csv('USW00094789-temperature-degreeF.csv')"
      ],
      "execution_count": 406,
      "outputs": []
    },
    {
      "cell_type": "code",
      "metadata": {
        "id": "TTgQJ5oRBOFV"
      },
      "source": [
        "temp.date = pd.Series([str(i) for i in temp['date']])"
      ],
      "execution_count": 407,
      "outputs": []
    },
    {
      "cell_type": "code",
      "metadata": {
        "colab": {
          "base_uri": "https://localhost:8080/"
        },
        "id": "-jP4qcnABZI6",
        "outputId": "8365c567-153e-46de-9cad-1272364f340d"
      },
      "source": [
        "temp.info()"
      ],
      "execution_count": 408,
      "outputs": [
        {
          "output_type": "stream",
          "name": "stdout",
          "text": [
            "<class 'pandas.core.frame.DataFrame'>\n",
            "RangeIndex: 28292 entries, 0 to 28291\n",
            "Data columns (total 5 columns):\n",
            " #   Column      Non-Null Count  Dtype  \n",
            "---  ------      --------------  -----  \n",
            " 0   date        28292 non-null  object \n",
            " 1   min         26689 non-null  float64\n",
            " 2   max         26689 non-null  float64\n",
            " 3   normal_min  28292 non-null  float64\n",
            " 4   normal_max  28292 non-null  float64\n",
            "dtypes: float64(4), object(1)\n",
            "memory usage: 1.1+ MB\n"
          ]
        }
      ]
    },
    {
      "cell_type": "code",
      "metadata": {
        "colab": {
          "base_uri": "https://localhost:8080/",
          "height": 203
        },
        "id": "6T-yGUeDCbof",
        "outputId": "58df4c4e-e588-42dd-931c-7f26276e8421"
      },
      "source": [
        "temp.head()"
      ],
      "execution_count": 409,
      "outputs": [
        {
          "output_type": "execute_result",
          "data": {
            "text/html": [
              "<div>\n",
              "<style scoped>\n",
              "    .dataframe tbody tr th:only-of-type {\n",
              "        vertical-align: middle;\n",
              "    }\n",
              "\n",
              "    .dataframe tbody tr th {\n",
              "        vertical-align: top;\n",
              "    }\n",
              "\n",
              "    .dataframe thead th {\n",
              "        text-align: right;\n",
              "    }\n",
              "</style>\n",
              "<table border=\"1\" class=\"dataframe\">\n",
              "  <thead>\n",
              "    <tr style=\"text-align: right;\">\n",
              "      <th></th>\n",
              "      <th>date</th>\n",
              "      <th>min</th>\n",
              "      <th>max</th>\n",
              "      <th>normal_min</th>\n",
              "      <th>normal_max</th>\n",
              "    </tr>\n",
              "  </thead>\n",
              "  <tbody>\n",
              "    <tr>\n",
              "      <th>0</th>\n",
              "      <td>19480717</td>\n",
              "      <td>64.0</td>\n",
              "      <td>74.0</td>\n",
              "      <td>69.1</td>\n",
              "      <td>84.0</td>\n",
              "    </tr>\n",
              "    <tr>\n",
              "      <th>1</th>\n",
              "      <td>19480718</td>\n",
              "      <td>70.0</td>\n",
              "      <td>81.0</td>\n",
              "      <td>69.2</td>\n",
              "      <td>84.0</td>\n",
              "    </tr>\n",
              "    <tr>\n",
              "      <th>2</th>\n",
              "      <td>19480719</td>\n",
              "      <td>70.0</td>\n",
              "      <td>85.0</td>\n",
              "      <td>69.2</td>\n",
              "      <td>84.0</td>\n",
              "    </tr>\n",
              "    <tr>\n",
              "      <th>3</th>\n",
              "      <td>19480720</td>\n",
              "      <td>69.0</td>\n",
              "      <td>84.0</td>\n",
              "      <td>69.2</td>\n",
              "      <td>84.0</td>\n",
              "    </tr>\n",
              "    <tr>\n",
              "      <th>4</th>\n",
              "      <td>19480721</td>\n",
              "      <td>71.0</td>\n",
              "      <td>85.0</td>\n",
              "      <td>69.3</td>\n",
              "      <td>84.0</td>\n",
              "    </tr>\n",
              "  </tbody>\n",
              "</table>\n",
              "</div>"
            ],
            "text/plain": [
              "       date   min   max  normal_min  normal_max\n",
              "0  19480717  64.0  74.0        69.1        84.0\n",
              "1  19480718  70.0  81.0        69.2        84.0\n",
              "2  19480719  70.0  85.0        69.2        84.0\n",
              "3  19480720  69.0  84.0        69.2        84.0\n",
              "4  19480721  71.0  85.0        69.3        84.0"
            ]
          },
          "metadata": {},
          "execution_count": 409
        }
      ]
    },
    {
      "cell_type": "code",
      "metadata": {
        "id": "Apm0AfeuCfbw"
      },
      "source": [
        "Temp = []\n",
        "s = ''\n",
        "for i in temp.date:\n",
        "  s += i[:4]\n",
        "  s+=' '\n",
        "  s+=i[4:6]\n",
        "  s+=' '\n",
        "  s+=i[6:]\n",
        "  Temp.append(s)\n",
        "  s=''"
      ],
      "execution_count": 410,
      "outputs": []
    },
    {
      "cell_type": "code",
      "metadata": {
        "id": "YvsHAn7FDtiC"
      },
      "source": [
        "temp.date = pd.Series([datetime( int( i.split(' ')[0] ),int( i.split(' ')[1] ),int( i.split(' ')[2] ) ) for i in Temp])"
      ],
      "execution_count": 411,
      "outputs": []
    },
    {
      "cell_type": "code",
      "metadata": {
        "colab": {
          "base_uri": "https://localhost:8080/"
        },
        "id": "KNxG8iP8HLTa",
        "outputId": "4d252cfb-f1cb-4d53-9dbd-485c8899e31d"
      },
      "source": [
        "temp.date.min()"
      ],
      "execution_count": 412,
      "outputs": [
        {
          "output_type": "execute_result",
          "data": {
            "text/plain": [
              "Timestamp('1948-07-17 00:00:00')"
            ]
          },
          "metadata": {},
          "execution_count": 412
        }
      ]
    },
    {
      "cell_type": "code",
      "metadata": {
        "colab": {
          "base_uri": "https://localhost:8080/"
        },
        "id": "09u2EOJRHVXQ",
        "outputId": "9ebf5a11-b0b0-4044-e82a-c35c0e9bf662"
      },
      "source": [
        "temp.date.max()"
      ],
      "execution_count": 413,
      "outputs": [
        {
          "output_type": "execute_result",
          "data": {
            "text/plain": [
              "Timestamp('2025-12-31 00:00:00')"
            ]
          },
          "metadata": {},
          "execution_count": 413
        }
      ]
    },
    {
      "cell_type": "markdown",
      "metadata": {
        "id": "tez34iMcHLwP"
      },
      "source": [
        "### Temp from 17 July 1948 To 17 July 2021"
      ]
    },
    {
      "cell_type": "code",
      "metadata": {
        "id": "wInwiJmjDvRs"
      },
      "source": [
        "temp_To_Aug = temp[temp['date']<datetime(2021,7,18)]"
      ],
      "execution_count": 414,
      "outputs": []
    },
    {
      "cell_type": "code",
      "metadata": {
        "colab": {
          "base_uri": "https://localhost:8080/"
        },
        "id": "KKABGkwlFGVE",
        "outputId": "4cf01cc6-7a4a-42d6-d2fb-dfc48227c24c"
      },
      "source": [
        "temp_To_Aug.info()"
      ],
      "execution_count": 415,
      "outputs": [
        {
          "output_type": "stream",
          "name": "stdout",
          "text": [
            "<class 'pandas.core.frame.DataFrame'>\n",
            "Int64Index: 26664 entries, 0 to 26663\n",
            "Data columns (total 5 columns):\n",
            " #   Column      Non-Null Count  Dtype         \n",
            "---  ------      --------------  -----         \n",
            " 0   date        26664 non-null  datetime64[ns]\n",
            " 1   min         26630 non-null  float64       \n",
            " 2   max         26630 non-null  float64       \n",
            " 3   normal_min  26664 non-null  float64       \n",
            " 4   normal_max  26664 non-null  float64       \n",
            "dtypes: datetime64[ns](1), float64(4)\n",
            "memory usage: 1.2 MB\n"
          ]
        }
      ]
    },
    {
      "cell_type": "code",
      "metadata": {
        "colab": {
          "base_uri": "https://localhost:8080/"
        },
        "id": "BBVHngMZsIvW",
        "outputId": "a125927a-3895-4a3d-eeda-505046c51c2b"
      },
      "source": [
        "temp_To_Aug.isna().sum()"
      ],
      "execution_count": 416,
      "outputs": [
        {
          "output_type": "execute_result",
          "data": {
            "text/plain": [
              "date           0\n",
              "min           34\n",
              "max           34\n",
              "normal_min     0\n",
              "normal_max     0\n",
              "dtype: int64"
            ]
          },
          "metadata": {},
          "execution_count": 416
        }
      ]
    },
    {
      "cell_type": "code",
      "metadata": {
        "colab": {
          "base_uri": "https://localhost:8080/",
          "height": 0
        },
        "id": "-yZHy28G0ezX",
        "outputId": "fbf11876-885c-4ec3-f7fd-1a03b0e3c128"
      },
      "source": [
        "temp_To_Aug[temp_To_Aug['min'].isna()]"
      ],
      "execution_count": 417,
      "outputs": [
        {
          "output_type": "execute_result",
          "data": {
            "text/html": [
              "<div>\n",
              "<style scoped>\n",
              "    .dataframe tbody tr th:only-of-type {\n",
              "        vertical-align: middle;\n",
              "    }\n",
              "\n",
              "    .dataframe tbody tr th {\n",
              "        vertical-align: top;\n",
              "    }\n",
              "\n",
              "    .dataframe thead th {\n",
              "        text-align: right;\n",
              "    }\n",
              "</style>\n",
              "<table border=\"1\" class=\"dataframe\">\n",
              "  <thead>\n",
              "    <tr style=\"text-align: right;\">\n",
              "      <th></th>\n",
              "      <th>date</th>\n",
              "      <th>min</th>\n",
              "      <th>max</th>\n",
              "      <th>normal_min</th>\n",
              "      <th>normal_max</th>\n",
              "    </tr>\n",
              "  </thead>\n",
              "  <tbody>\n",
              "    <tr>\n",
              "      <th>777</th>\n",
              "      <td>1950-09-02</td>\n",
              "      <td>NaN</td>\n",
              "      <td>NaN</td>\n",
              "      <td>65.1</td>\n",
              "      <td>79.8</td>\n",
              "    </tr>\n",
              "    <tr>\n",
              "      <th>778</th>\n",
              "      <td>1950-09-03</td>\n",
              "      <td>NaN</td>\n",
              "      <td>NaN</td>\n",
              "      <td>64.9</td>\n",
              "      <td>79.6</td>\n",
              "    </tr>\n",
              "    <tr>\n",
              "      <th>856</th>\n",
              "      <td>1950-11-20</td>\n",
              "      <td>NaN</td>\n",
              "      <td>NaN</td>\n",
              "      <td>38.5</td>\n",
              "      <td>52.2</td>\n",
              "    </tr>\n",
              "    <tr>\n",
              "      <th>857</th>\n",
              "      <td>1950-11-21</td>\n",
              "      <td>NaN</td>\n",
              "      <td>NaN</td>\n",
              "      <td>38.2</td>\n",
              "      <td>51.9</td>\n",
              "    </tr>\n",
              "    <tr>\n",
              "      <th>904</th>\n",
              "      <td>1951-01-07</td>\n",
              "      <td>NaN</td>\n",
              "      <td>NaN</td>\n",
              "      <td>27.1</td>\n",
              "      <td>40.0</td>\n",
              "    </tr>\n",
              "    <tr>\n",
              "      <th>905</th>\n",
              "      <td>1951-01-08</td>\n",
              "      <td>NaN</td>\n",
              "      <td>NaN</td>\n",
              "      <td>26.9</td>\n",
              "      <td>39.8</td>\n",
              "    </tr>\n",
              "    <tr>\n",
              "      <th>928</th>\n",
              "      <td>1951-01-31</td>\n",
              "      <td>NaN</td>\n",
              "      <td>NaN</td>\n",
              "      <td>25.5</td>\n",
              "      <td>39.4</td>\n",
              "    </tr>\n",
              "    <tr>\n",
              "      <th>929</th>\n",
              "      <td>1951-02-01</td>\n",
              "      <td>NaN</td>\n",
              "      <td>NaN</td>\n",
              "      <td>25.6</td>\n",
              "      <td>39.5</td>\n",
              "    </tr>\n",
              "    <tr>\n",
              "      <th>1207</th>\n",
              "      <td>1951-11-06</td>\n",
              "      <td>NaN</td>\n",
              "      <td>NaN</td>\n",
              "      <td>42.5</td>\n",
              "      <td>57.1</td>\n",
              "    </tr>\n",
              "    <tr>\n",
              "      <th>1208</th>\n",
              "      <td>1951-11-07</td>\n",
              "      <td>NaN</td>\n",
              "      <td>NaN</td>\n",
              "      <td>42.2</td>\n",
              "      <td>56.7</td>\n",
              "    </tr>\n",
              "    <tr>\n",
              "      <th>2025</th>\n",
              "      <td>1954-02-01</td>\n",
              "      <td>NaN</td>\n",
              "      <td>NaN</td>\n",
              "      <td>25.6</td>\n",
              "      <td>39.5</td>\n",
              "    </tr>\n",
              "    <tr>\n",
              "      <th>2026</th>\n",
              "      <td>1954-02-02</td>\n",
              "      <td>NaN</td>\n",
              "      <td>NaN</td>\n",
              "      <td>25.6</td>\n",
              "      <td>39.6</td>\n",
              "    </tr>\n",
              "    <tr>\n",
              "      <th>2412</th>\n",
              "      <td>1955-02-23</td>\n",
              "      <td>NaN</td>\n",
              "      <td>NaN</td>\n",
              "      <td>28.8</td>\n",
              "      <td>43.3</td>\n",
              "    </tr>\n",
              "    <tr>\n",
              "      <th>2413</th>\n",
              "      <td>1955-02-24</td>\n",
              "      <td>NaN</td>\n",
              "      <td>NaN</td>\n",
              "      <td>29.0</td>\n",
              "      <td>43.5</td>\n",
              "    </tr>\n",
              "    <tr>\n",
              "      <th>2433</th>\n",
              "      <td>1955-03-16</td>\n",
              "      <td>NaN</td>\n",
              "      <td>NaN</td>\n",
              "      <td>33.4</td>\n",
              "      <td>48.5</td>\n",
              "    </tr>\n",
              "    <tr>\n",
              "      <th>2434</th>\n",
              "      <td>1955-03-17</td>\n",
              "      <td>NaN</td>\n",
              "      <td>NaN</td>\n",
              "      <td>33.7</td>\n",
              "      <td>48.8</td>\n",
              "    </tr>\n",
              "    <tr>\n",
              "      <th>3380</th>\n",
              "      <td>1957-10-18</td>\n",
              "      <td>NaN</td>\n",
              "      <td>NaN</td>\n",
              "      <td>49.0</td>\n",
              "      <td>63.9</td>\n",
              "    </tr>\n",
              "    <tr>\n",
              "      <th>3381</th>\n",
              "      <td>1957-10-19</td>\n",
              "      <td>NaN</td>\n",
              "      <td>NaN</td>\n",
              "      <td>48.6</td>\n",
              "      <td>63.5</td>\n",
              "    </tr>\n",
              "    <tr>\n",
              "      <th>3466</th>\n",
              "      <td>1958-01-12</td>\n",
              "      <td>NaN</td>\n",
              "      <td>NaN</td>\n",
              "      <td>26.3</td>\n",
              "      <td>39.4</td>\n",
              "    </tr>\n",
              "    <tr>\n",
              "      <th>3467</th>\n",
              "      <td>1958-01-13</td>\n",
              "      <td>NaN</td>\n",
              "      <td>NaN</td>\n",
              "      <td>26.2</td>\n",
              "      <td>39.3</td>\n",
              "    </tr>\n",
              "    <tr>\n",
              "      <th>3784</th>\n",
              "      <td>1958-11-26</td>\n",
              "      <td>NaN</td>\n",
              "      <td>NaN</td>\n",
              "      <td>36.9</td>\n",
              "      <td>50.2</td>\n",
              "    </tr>\n",
              "    <tr>\n",
              "      <th>3785</th>\n",
              "      <td>1958-11-27</td>\n",
              "      <td>NaN</td>\n",
              "      <td>NaN</td>\n",
              "      <td>36.6</td>\n",
              "      <td>49.9</td>\n",
              "    </tr>\n",
              "    <tr>\n",
              "      <th>3794</th>\n",
              "      <td>1958-12-06</td>\n",
              "      <td>NaN</td>\n",
              "      <td>NaN</td>\n",
              "      <td>34.4</td>\n",
              "      <td>47.1</td>\n",
              "    </tr>\n",
              "    <tr>\n",
              "      <th>3795</th>\n",
              "      <td>1958-12-07</td>\n",
              "      <td>NaN</td>\n",
              "      <td>NaN</td>\n",
              "      <td>34.1</td>\n",
              "      <td>46.8</td>\n",
              "    </tr>\n",
              "    <tr>\n",
              "      <th>3844</th>\n",
              "      <td>1959-01-25</td>\n",
              "      <td>NaN</td>\n",
              "      <td>NaN</td>\n",
              "      <td>25.3</td>\n",
              "      <td>39.0</td>\n",
              "    </tr>\n",
              "    <tr>\n",
              "      <th>3845</th>\n",
              "      <td>1959-01-26</td>\n",
              "      <td>NaN</td>\n",
              "      <td>NaN</td>\n",
              "      <td>25.3</td>\n",
              "      <td>39.1</td>\n",
              "    </tr>\n",
              "    <tr>\n",
              "      <th>3868</th>\n",
              "      <td>1959-02-18</td>\n",
              "      <td>NaN</td>\n",
              "      <td>NaN</td>\n",
              "      <td>27.9</td>\n",
              "      <td>42.2</td>\n",
              "    </tr>\n",
              "    <tr>\n",
              "      <th>3869</th>\n",
              "      <td>1959-02-19</td>\n",
              "      <td>NaN</td>\n",
              "      <td>NaN</td>\n",
              "      <td>28.0</td>\n",
              "      <td>42.4</td>\n",
              "    </tr>\n",
              "    <tr>\n",
              "      <th>4154</th>\n",
              "      <td>1959-12-01</td>\n",
              "      <td>NaN</td>\n",
              "      <td>NaN</td>\n",
              "      <td>35.6</td>\n",
              "      <td>48.6</td>\n",
              "    </tr>\n",
              "    <tr>\n",
              "      <th>4306</th>\n",
              "      <td>1960-05-01</td>\n",
              "      <td>NaN</td>\n",
              "      <td>NaN</td>\n",
              "      <td>48.0</td>\n",
              "      <td>64.1</td>\n",
              "    </tr>\n",
              "    <tr>\n",
              "      <th>5270</th>\n",
              "      <td>1962-12-21</td>\n",
              "      <td>NaN</td>\n",
              "      <td>NaN</td>\n",
              "      <td>30.8</td>\n",
              "      <td>43.1</td>\n",
              "    </tr>\n",
              "    <tr>\n",
              "      <th>5271</th>\n",
              "      <td>1962-12-22</td>\n",
              "      <td>NaN</td>\n",
              "      <td>NaN</td>\n",
              "      <td>30.5</td>\n",
              "      <td>42.9</td>\n",
              "    </tr>\n",
              "    <tr>\n",
              "      <th>5982</th>\n",
              "      <td>1964-12-02</td>\n",
              "      <td>NaN</td>\n",
              "      <td>NaN</td>\n",
              "      <td>35.4</td>\n",
              "      <td>48.3</td>\n",
              "    </tr>\n",
              "    <tr>\n",
              "      <th>5983</th>\n",
              "      <td>1964-12-03</td>\n",
              "      <td>NaN</td>\n",
              "      <td>NaN</td>\n",
              "      <td>35.1</td>\n",
              "      <td>48.0</td>\n",
              "    </tr>\n",
              "  </tbody>\n",
              "</table>\n",
              "</div>"
            ],
            "text/plain": [
              "           date  min  max  normal_min  normal_max\n",
              "777  1950-09-02  NaN  NaN        65.1        79.8\n",
              "778  1950-09-03  NaN  NaN        64.9        79.6\n",
              "856  1950-11-20  NaN  NaN        38.5        52.2\n",
              "857  1950-11-21  NaN  NaN        38.2        51.9\n",
              "904  1951-01-07  NaN  NaN        27.1        40.0\n",
              "905  1951-01-08  NaN  NaN        26.9        39.8\n",
              "928  1951-01-31  NaN  NaN        25.5        39.4\n",
              "929  1951-02-01  NaN  NaN        25.6        39.5\n",
              "1207 1951-11-06  NaN  NaN        42.5        57.1\n",
              "1208 1951-11-07  NaN  NaN        42.2        56.7\n",
              "2025 1954-02-01  NaN  NaN        25.6        39.5\n",
              "2026 1954-02-02  NaN  NaN        25.6        39.6\n",
              "2412 1955-02-23  NaN  NaN        28.8        43.3\n",
              "2413 1955-02-24  NaN  NaN        29.0        43.5\n",
              "2433 1955-03-16  NaN  NaN        33.4        48.5\n",
              "2434 1955-03-17  NaN  NaN        33.7        48.8\n",
              "3380 1957-10-18  NaN  NaN        49.0        63.9\n",
              "3381 1957-10-19  NaN  NaN        48.6        63.5\n",
              "3466 1958-01-12  NaN  NaN        26.3        39.4\n",
              "3467 1958-01-13  NaN  NaN        26.2        39.3\n",
              "3784 1958-11-26  NaN  NaN        36.9        50.2\n",
              "3785 1958-11-27  NaN  NaN        36.6        49.9\n",
              "3794 1958-12-06  NaN  NaN        34.4        47.1\n",
              "3795 1958-12-07  NaN  NaN        34.1        46.8\n",
              "3844 1959-01-25  NaN  NaN        25.3        39.0\n",
              "3845 1959-01-26  NaN  NaN        25.3        39.1\n",
              "3868 1959-02-18  NaN  NaN        27.9        42.2\n",
              "3869 1959-02-19  NaN  NaN        28.0        42.4\n",
              "4154 1959-12-01  NaN  NaN        35.6        48.6\n",
              "4306 1960-05-01  NaN  NaN        48.0        64.1\n",
              "5270 1962-12-21  NaN  NaN        30.8        43.1\n",
              "5271 1962-12-22  NaN  NaN        30.5        42.9\n",
              "5982 1964-12-02  NaN  NaN        35.4        48.3\n",
              "5983 1964-12-03  NaN  NaN        35.1        48.0"
            ]
          },
          "metadata": {},
          "execution_count": 417
        }
      ]
    },
    {
      "cell_type": "code",
      "metadata": {
        "id": "J-mk0FQ-GC2P"
      },
      "source": [
        "Year = []\n",
        "AvgMinimum = []\n",
        "AvgMax = []\n",
        "SumMin = 0.0\n",
        "SumMax = 0.0\n",
        "DayCount = 0.0\n",
        "for i in temp_To_Aug.groupby(['date']).date:\n",
        "  \n",
        "  if not str(temp_To_Aug['min'].loc[i[1].index[0]]) == 'nan':\n",
        "    \n",
        "    if not (i[0].year in Year):\n",
        "      \n",
        "      if DayCount > 0:\n",
        "        AvgMinimum.append(SumMin/DayCount)\n",
        "        AvgMax.append(SumMax/DayCount)\n",
        "      \n",
        "      SumMin = 0\n",
        "      SumMax = 0\n",
        "      DayCount = 0\n",
        "      Year.append(i[0].year)\n",
        "    \n",
        "    SumMin+=temp_To_Aug['min'].loc[i[1].index[0]]\n",
        "    SumMax+=temp_To_Aug['max'].loc[i[1].index[0]]\n",
        "    DayCount+=1\n",
        "AvgMinimum.append(SumMin/DayCount)\n",
        "AvgMax.append(SumMax/DayCount)"
      ],
      "execution_count": 418,
      "outputs": []
    },
    {
      "cell_type": "code",
      "metadata": {
        "colab": {
          "base_uri": "https://localhost:8080/"
        },
        "id": "VU9zWsmlQG15",
        "outputId": "fe76a4d6-58d9-4470-e19a-3b9c4a41cd01"
      },
      "source": [
        "len(Year)"
      ],
      "execution_count": 419,
      "outputs": [
        {
          "output_type": "execute_result",
          "data": {
            "text/plain": [
              "74"
            ]
          },
          "metadata": {},
          "execution_count": 419
        }
      ]
    },
    {
      "cell_type": "code",
      "metadata": {
        "colab": {
          "base_uri": "https://localhost:8080/"
        },
        "id": "-i7CEdnGi4Hr",
        "outputId": "a4af5178-8a91-4cef-d7da-9b551d12d2b1"
      },
      "source": [
        "len(AvgMinimum)"
      ],
      "execution_count": 420,
      "outputs": [
        {
          "output_type": "execute_result",
          "data": {
            "text/plain": [
              "74"
            ]
          },
          "metadata": {},
          "execution_count": 420
        }
      ]
    },
    {
      "cell_type": "code",
      "metadata": {
        "colab": {
          "base_uri": "https://localhost:8080/"
        },
        "id": "ttpGYyQTzT6-",
        "outputId": "ec42272d-d2df-4631-8ce1-a777ddb3cf3f"
      },
      "source": [
        "len(AvgMax)"
      ],
      "execution_count": 421,
      "outputs": [
        {
          "output_type": "execute_result",
          "data": {
            "text/plain": [
              "74"
            ]
          },
          "metadata": {},
          "execution_count": 421
        }
      ]
    },
    {
      "cell_type": "code",
      "metadata": {
        "colab": {
          "base_uri": "https://localhost:8080/",
          "height": 0
        },
        "id": "VnCNaH181aYn",
        "outputId": "ead51e01-9696-4cb0-cf01-9dfa90d7085a"
      },
      "source": [
        "Year_Axis = np.arange(len(Year))\n",
        "plt.figure(figsize=(40,40))\n",
        "plt.bar(Year_Axis-0.2,AvgMinimum,0.4,label='Average Minimum Temperature in Fahrenheit')\n",
        "plt.bar(Year_Axis+0.2,AvgMax,0.4,label='Average Maximum Temperature in Fahrenheit')\n",
        "plt.xticks(Year_Axis,Year)\n",
        "plt.xlabel('Year')\n",
        "plt.ylabel('Average Temperature')\n",
        "plt.title('Temperature change across years')\n",
        "plt.legend()\n",
        "plt.savefig('Temp_74_year.png')\n",
        "plt.show()"
      ],
      "execution_count": 422,
      "outputs": [
        {
          "output_type": "display_data",
          "data": {
            "image/png": "[encoded data removed]",
            "text/plain": [
              "<Figure size 2880x2880 with 1 Axes>"
            ]
          },
          "metadata": {
            "needs_background": "light"
          }
        }
      ]
    },
    {
      "cell_type": "code",
      "metadata": {
        "colab": {
          "base_uri": "https://localhost:8080/",
          "height": 0
        },
        "id": "0cnWKyUzD5Ee",
        "outputId": "c876000a-bd49-4967-f284-8ca49fa81493"
      },
      "source": [
        "New_AvgMinimum = []\n",
        "New_AvgMaximum = []\n",
        "New_Year = ['1951-1960','1961-1970','1971-1980','1981-1990','1991-2000','2001-2010','2011-2020']\n",
        "YearSum = 0.0\n",
        "YearCount = 0\n",
        "for i in AvgMinimum[3:-1]:\n",
        "  if(YearCount >= 10):\n",
        "    \n",
        "    New_AvgMinimum.append(YearSum/10.0)\n",
        "    YearCount=0\n",
        "    YearSum=0.0\n",
        "    YearSum+=i\n",
        "    YearCount+=1\n",
        "  else:\n",
        "    YearCount+=1\n",
        "    YearSum+=i\n",
        "New_AvgMinimum.append(YearSum/YearCount)\n",
        "YearCount=0\n",
        "YearSum=0.0\n",
        "for i in AvgMax[3:-1]:\n",
        "  if(YearCount >= 10):\n",
        "    \n",
        "    New_AvgMaximum.append(YearSum/10.0)\n",
        "    YearCount=0\n",
        "    YearSum=0.0\n",
        "    YearSum+=i\n",
        "    YearCount+=1\n",
        "  else:\n",
        "    YearCount+=1\n",
        "    YearSum+=i\n",
        "New_AvgMaximum.append(YearSum/YearCount)\n",
        "\n",
        "Year_Axis = np.arange(len(New_Year))\n",
        "plt.figure(figsize=(10,10))\n",
        "plt.bar(Year_Axis-0.2,New_AvgMinimum,0.4,label='Average Minimum Temperature in Fahrenheit')\n",
        "plt.bar(Year_Axis+0.2,New_AvgMaximum,0.4,label='Average Maximum Temperature in Fahrenheit')\n",
        "plt.xticks(Year_Axis,New_Year)\n",
        "plt.xlabel('Year')\n",
        "plt.ylabel('Average Temperature')\n",
        "plt.title('Temperature change across years')\n",
        "plt.legend()\n",
        "plt.savefig('Temp_74_year.png')\n",
        "plt.show()"
      ],
      "execution_count": 423,
      "outputs": [
        {
          "output_type": "display_data",
          "data": {
            "image/png": "[encoded data removed]",
            "text/plain": [
              "<Figure size 720x720 with 1 Axes>"
            ]
          },
          "metadata": {
            "needs_background": "light"
          }
        }
      ]
    },
    {
      "cell_type": "code",
      "metadata": {
        "colab": {
          "base_uri": "https://localhost:8080/"
        },
        "id": "Jg_djIBpQIXz",
        "outputId": "bbf40c05-45ff-4dbb-9dad-bd1529734cb8"
      },
      "source": [
        "print('Maximum differnece betweeb decade 2011-2020 and 1951-1960:',New_AvgMaximum[-1]-New_AvgMaximum[0])\n",
        "print('Minimum differnece betweeb decade 2011-2020 and 1951-1960:',New_AvgMinimum[-1]-New_AvgMinimum[0])"
      ],
      "execution_count": 424,
      "outputs": [
        {
          "output_type": "stream",
          "name": "stdout",
          "text": [
            "Maximum differnece betweeb decade 2011-2020 and 1951-1960: 2.240200641918456\n",
            "Minimum differnece betweeb decade 2011-2020 and 1951-1960: 1.0212652006114311\n"
          ]
        }
      ]
    },
    {
      "cell_type": "code",
      "metadata": {
        "colab": {
          "base_uri": "https://localhost:8080/",
          "height": 0
        },
        "id": "O-R7A24pO7P1",
        "outputId": "5e42dda2-c537-402d-cd87-b19acfc152a4"
      },
      "source": [
        "pd.Series(AvgMinimum,index=Year).plot()\n",
        "plt.title('Average Minimum Temprature Across years')"
      ],
      "execution_count": 425,
      "outputs": [
        {
          "output_type": "execute_result",
          "data": {
            "text/plain": [
              "Text(0.5, 1.0, 'Average Minimum Temprature Across years')"
            ]
          },
          "metadata": {},
          "execution_count": 425
        },
        {
          "output_type": "display_data",
          "data": {
            "image/png": "[encoded data removed]",
            "text/plain": [
              "<Figure size 432x288 with 1 Axes>"
            ]
          },
          "metadata": {
            "needs_background": "light"
          }
        }
      ]
    },
    {
      "cell_type": "code",
      "metadata": {
        "colab": {
          "base_uri": "https://localhost:8080/",
          "height": 0
        },
        "id": "75aWs9a9iI1q",
        "outputId": "380bbd65-1a1f-4030-f116-cf0bfb22826c"
      },
      "source": [
        "pd.Series(AvgMax,index=Year).plot()\n",
        "plt.title('Average Maximum Temprature Across years')"
      ],
      "execution_count": 426,
      "outputs": [
        {
          "output_type": "execute_result",
          "data": {
            "text/plain": [
              "Text(0.5, 1.0, 'Average Maximum Temprature Across years')"
            ]
          },
          "metadata": {},
          "execution_count": 426
        },
        {
          "output_type": "display_data",
          "data": {
            "image/png": "[encoded data removed]",
            "text/plain": [
              "<Figure size 432x288 with 1 Axes>"
            ]
          },
          "metadata": {
            "needs_background": "light"
          }
        }
      ]
    },
    {
      "cell_type": "code",
      "metadata": {
        "id": "Gr1x00C87nSQ"
      },
      "source": [
        ""
      ],
      "execution_count": 426,
      "outputs": []
    },
    {
      "cell_type": "code",
      "metadata": {
        "id": "QJAnK8L9Cdla"
      },
      "source": [
        "Year = []\n",
        "AvgMinimum = []\n",
        "AvgMax = []\n",
        "SumMin = 0.0\n",
        "SumMax = 0.0\n",
        "DayCount = 0.0\n",
        "for i in temp_To_Aug.groupby(['date']).date:\n",
        "  \n",
        "  if not str(temp_To_Aug['normal_min'].loc[i[1].index[0]]) == 'nan':\n",
        "    \n",
        "    if not (i[0].year in Year):\n",
        "      \n",
        "      if DayCount > 0:\n",
        "        AvgMinimum.append(SumMin/DayCount)\n",
        "        AvgMax.append(SumMax/DayCount)\n",
        "      \n",
        "      SumMin = 0\n",
        "      SumMax = 0\n",
        "      DayCount = 0\n",
        "      Year.append(i[0].year)\n",
        "    \n",
        "    SumMin+=temp_To_Aug['normal_min'].loc[i[1].index[0]]\n",
        "    SumMax+=temp_To_Aug['normal_max'].loc[i[1].index[0]]\n",
        "    DayCount+=1\n",
        "AvgMinimum.append(SumMin/DayCount)\n",
        "AvgMax.append(SumMax/DayCount)"
      ],
      "execution_count": 427,
      "outputs": []
    },
    {
      "cell_type": "code",
      "metadata": {
        "colab": {
          "base_uri": "https://localhost:8080/",
          "height": 0
        },
        "id": "ZjTq3CrpCdlh",
        "outputId": "32215a04-9420-4a91-fc55-aa4e3b016b66"
      },
      "source": [
        "pd.Series(AvgMinimum,index=Year).plot()\n",
        "plt.title('Average Normal Minimum Temprature Across years')"
      ],
      "execution_count": 428,
      "outputs": [
        {
          "output_type": "execute_result",
          "data": {
            "text/plain": [
              "Text(0.5, 1.0, 'Average Normal Minimum Temprature Across years')"
            ]
          },
          "metadata": {},
          "execution_count": 428
        },
        {
          "output_type": "display_data",
          "data": {
            "image/png": "[encoded data removed]",
            "text/plain": [
              "<Figure size 432x288 with 1 Axes>"
            ]
          },
          "metadata": {
            "needs_background": "light"
          }
        }
      ]
    },
    {
      "cell_type": "code",
      "metadata": {
        "colab": {
          "base_uri": "https://localhost:8080/",
          "height": 0
        },
        "id": "wwrt4xGOCdlh",
        "outputId": "af6aed9b-0cd5-4c83-a02d-3953971d08d6"
      },
      "source": [
        "pd.Series(AvgMax,index=Year).plot()\n",
        "plt.title('Average Normal Maximum Temprature Across years')"
      ],
      "execution_count": 429,
      "outputs": [
        {
          "output_type": "execute_result",
          "data": {
            "text/plain": [
              "Text(0.5, 1.0, 'Average Normal Maximum Temprature Across years')"
            ]
          },
          "metadata": {},
          "execution_count": 429
        },
        {
          "output_type": "display_data",
          "data": {
            "image/png": "[encoded data removed]",
            "text/plain": [
              "<Figure size 432x288 with 1 Axes>"
            ]
          },
          "metadata": {
            "needs_background": "light"
          }
        }
      ]
    },
    {
      "cell_type": "markdown",
      "metadata": {
        "id": "x4K-Yi-VHlTP"
      },
      "source": [
        "## Precipitation"
      ]
    },
    {
      "cell_type": "code",
      "metadata": {
        "id": "EptE_quRHlTP"
      },
      "source": [
        "Per = pd.read_csv('USW00094789-JFK_INTL_AP-precipitation-inch.csv')"
      ],
      "execution_count": 430,
      "outputs": []
    },
    {
      "cell_type": "code",
      "metadata": {
        "id": "1DkEDgP5HlTP"
      },
      "source": [
        "Per.date = pd.Series([str(i) for i in Per['date']])"
      ],
      "execution_count": 431,
      "outputs": []
    },
    {
      "cell_type": "code",
      "metadata": {
        "colab": {
          "base_uri": "https://localhost:8080/"
        },
        "id": "E6lhEcrzHlTQ",
        "outputId": "8944249d-bd24-42b9-b069-ed6ea34730c7"
      },
      "source": [
        "Per.info()"
      ],
      "execution_count": 432,
      "outputs": [
        {
          "output_type": "stream",
          "name": "stdout",
          "text": [
            "<class 'pandas.core.frame.DataFrame'>\n",
            "RangeIndex: 28292 entries, 0 to 28291\n",
            "Data columns (total 3 columns):\n",
            " #   Column                Non-Null Count  Dtype  \n",
            "---  ------                --------------  -----  \n",
            " 0   date                  28292 non-null  object \n",
            " 1   precipitation         26553 non-null  object \n",
            " 2   precipitation_normal  28292 non-null  float64\n",
            "dtypes: float64(1), object(2)\n",
            "memory usage: 663.2+ KB\n"
          ]
        }
      ]
    },
    {
      "cell_type": "code",
      "metadata": {
        "colab": {
          "base_uri": "https://localhost:8080/"
        },
        "id": "9yysica9uXlQ",
        "outputId": "2e855ce0-e9d5-4b1f-800b-6e6b68b50aec"
      },
      "source": [
        "Per.isna().sum()"
      ],
      "execution_count": 433,
      "outputs": [
        {
          "output_type": "execute_result",
          "data": {
            "text/plain": [
              "date                       0\n",
              "precipitation           1739\n",
              "precipitation_normal       0\n",
              "dtype: int64"
            ]
          },
          "metadata": {},
          "execution_count": 433
        }
      ]
    },
    {
      "cell_type": "code",
      "metadata": {
        "colab": {
          "base_uri": "https://localhost:8080/"
        },
        "id": "jNrbkjWfwtTy",
        "outputId": "704fc1d1-ba85-4b6c-c5bc-237de03d01f8"
      },
      "source": [
        "Per.duplicated().sum()"
      ],
      "execution_count": 434,
      "outputs": [
        {
          "output_type": "execute_result",
          "data": {
            "text/plain": [
              "0"
            ]
          },
          "metadata": {},
          "execution_count": 434
        }
      ]
    },
    {
      "cell_type": "code",
      "metadata": {
        "colab": {
          "base_uri": "https://localhost:8080/",
          "height": 0
        },
        "id": "7W8I3nyKxqJV",
        "outputId": "dea6e93e-be1c-43a9-d51d-68d50620eaee"
      },
      "source": [
        "Per[Per['precipitation'] == 'T']"
      ],
      "execution_count": 435,
      "outputs": [
        {
          "output_type": "execute_result",
          "data": {
            "text/html": [
              "<div>\n",
              "<style scoped>\n",
              "    .dataframe tbody tr th:only-of-type {\n",
              "        vertical-align: middle;\n",
              "    }\n",
              "\n",
              "    .dataframe tbody tr th {\n",
              "        vertical-align: top;\n",
              "    }\n",
              "\n",
              "    .dataframe thead th {\n",
              "        text-align: right;\n",
              "    }\n",
              "</style>\n",
              "<table border=\"1\" class=\"dataframe\">\n",
              "  <thead>\n",
              "    <tr style=\"text-align: right;\">\n",
              "      <th></th>\n",
              "      <th>date</th>\n",
              "      <th>precipitation</th>\n",
              "      <th>precipitation_normal</th>\n",
              "    </tr>\n",
              "  </thead>\n",
              "  <tbody>\n",
              "    <tr>\n",
              "      <th>533</th>\n",
              "      <td>19500101</td>\n",
              "      <td>T</td>\n",
              "      <td>0.10</td>\n",
              "    </tr>\n",
              "    <tr>\n",
              "      <th>534</th>\n",
              "      <td>19500102</td>\n",
              "      <td>T</td>\n",
              "      <td>0.21</td>\n",
              "    </tr>\n",
              "    <tr>\n",
              "      <th>4916</th>\n",
              "      <td>19620101</td>\n",
              "      <td>T</td>\n",
              "      <td>0.10</td>\n",
              "    </tr>\n",
              "    <tr>\n",
              "      <th>5282</th>\n",
              "      <td>19630102</td>\n",
              "      <td>T</td>\n",
              "      <td>0.21</td>\n",
              "    </tr>\n",
              "    <tr>\n",
              "      <th>5283</th>\n",
              "      <td>19630103</td>\n",
              "      <td>T</td>\n",
              "      <td>0.31</td>\n",
              "    </tr>\n",
              "    <tr>\n",
              "      <th>5284</th>\n",
              "      <td>19630104</td>\n",
              "      <td>T</td>\n",
              "      <td>0.43</td>\n",
              "    </tr>\n",
              "    <tr>\n",
              "      <th>5285</th>\n",
              "      <td>19630105</td>\n",
              "      <td>T</td>\n",
              "      <td>0.54</td>\n",
              "    </tr>\n",
              "    <tr>\n",
              "      <th>5286</th>\n",
              "      <td>19630106</td>\n",
              "      <td>T</td>\n",
              "      <td>0.65</td>\n",
              "    </tr>\n",
              "    <tr>\n",
              "      <th>5287</th>\n",
              "      <td>19630107</td>\n",
              "      <td>T</td>\n",
              "      <td>0.76</td>\n",
              "    </tr>\n",
              "    <tr>\n",
              "      <th>5288</th>\n",
              "      <td>19630108</td>\n",
              "      <td>T</td>\n",
              "      <td>0.86</td>\n",
              "    </tr>\n",
              "    <tr>\n",
              "      <th>5289</th>\n",
              "      <td>19630109</td>\n",
              "      <td>T</td>\n",
              "      <td>0.97</td>\n",
              "    </tr>\n",
              "    <tr>\n",
              "      <th>5290</th>\n",
              "      <td>19630110</td>\n",
              "      <td>T</td>\n",
              "      <td>1.08</td>\n",
              "    </tr>\n",
              "    <tr>\n",
              "      <th>6377</th>\n",
              "      <td>19660101</td>\n",
              "      <td>T</td>\n",
              "      <td>0.10</td>\n",
              "    </tr>\n",
              "    <tr>\n",
              "      <th>6742</th>\n",
              "      <td>19670101</td>\n",
              "      <td>T</td>\n",
              "      <td>0.10</td>\n",
              "    </tr>\n",
              "    <tr>\n",
              "      <th>6743</th>\n",
              "      <td>19670102</td>\n",
              "      <td>T</td>\n",
              "      <td>0.21</td>\n",
              "    </tr>\n",
              "    <tr>\n",
              "      <th>6744</th>\n",
              "      <td>19670103</td>\n",
              "      <td>T</td>\n",
              "      <td>0.31</td>\n",
              "    </tr>\n",
              "    <tr>\n",
              "      <th>6745</th>\n",
              "      <td>19670104</td>\n",
              "      <td>T</td>\n",
              "      <td>0.43</td>\n",
              "    </tr>\n",
              "    <tr>\n",
              "      <th>7473</th>\n",
              "      <td>19690101</td>\n",
              "      <td>T</td>\n",
              "      <td>0.10</td>\n",
              "    </tr>\n",
              "    <tr>\n",
              "      <th>7474</th>\n",
              "      <td>19690102</td>\n",
              "      <td>T</td>\n",
              "      <td>0.21</td>\n",
              "    </tr>\n",
              "    <tr>\n",
              "      <th>7475</th>\n",
              "      <td>19690103</td>\n",
              "      <td>T</td>\n",
              "      <td>0.31</td>\n",
              "    </tr>\n",
              "    <tr>\n",
              "      <th>7476</th>\n",
              "      <td>19690104</td>\n",
              "      <td>T</td>\n",
              "      <td>0.43</td>\n",
              "    </tr>\n",
              "    <tr>\n",
              "      <th>7477</th>\n",
              "      <td>19690105</td>\n",
              "      <td>T</td>\n",
              "      <td>0.54</td>\n",
              "    </tr>\n",
              "    <tr>\n",
              "      <th>10398</th>\n",
              "      <td>19770104</td>\n",
              "      <td>T</td>\n",
              "      <td>0.43</td>\n",
              "    </tr>\n",
              "    <tr>\n",
              "      <th>10399</th>\n",
              "      <td>19770105</td>\n",
              "      <td>T</td>\n",
              "      <td>0.54</td>\n",
              "    </tr>\n",
              "    <tr>\n",
              "      <th>10400</th>\n",
              "      <td>19770106</td>\n",
              "      <td>T</td>\n",
              "      <td>0.65</td>\n",
              "    </tr>\n",
              "    <tr>\n",
              "      <th>11493</th>\n",
              "      <td>19800104</td>\n",
              "      <td>T</td>\n",
              "      <td>0.43</td>\n",
              "    </tr>\n",
              "    <tr>\n",
              "      <th>14779</th>\n",
              "      <td>19890102</td>\n",
              "      <td>T</td>\n",
              "      <td>0.21</td>\n",
              "    </tr>\n",
              "    <tr>\n",
              "      <th>14780</th>\n",
              "      <td>19890103</td>\n",
              "      <td>T</td>\n",
              "      <td>0.31</td>\n",
              "    </tr>\n",
              "    <tr>\n",
              "      <th>14781</th>\n",
              "      <td>19890104</td>\n",
              "      <td>T</td>\n",
              "      <td>0.43</td>\n",
              "    </tr>\n",
              "    <tr>\n",
              "      <th>14782</th>\n",
              "      <td>19890105</td>\n",
              "      <td>T</td>\n",
              "      <td>0.54</td>\n",
              "    </tr>\n",
              "    <tr>\n",
              "      <th>15512</th>\n",
              "      <td>19910105</td>\n",
              "      <td>T</td>\n",
              "      <td>0.54</td>\n",
              "    </tr>\n",
              "    <tr>\n",
              "      <th>17334</th>\n",
              "      <td>19960101</td>\n",
              "      <td>T</td>\n",
              "      <td>0.10</td>\n",
              "    </tr>\n",
              "    <tr>\n",
              "      <th>17700</th>\n",
              "      <td>19970101</td>\n",
              "      <td>T</td>\n",
              "      <td>0.10</td>\n",
              "    </tr>\n",
              "    <tr>\n",
              "      <th>18430</th>\n",
              "      <td>19990101</td>\n",
              "      <td>T</td>\n",
              "      <td>0.10</td>\n",
              "    </tr>\n",
              "    <tr>\n",
              "      <th>18431</th>\n",
              "      <td>19990102</td>\n",
              "      <td>T</td>\n",
              "      <td>0.21</td>\n",
              "    </tr>\n",
              "    <tr>\n",
              "      <th>18797</th>\n",
              "      <td>20000103</td>\n",
              "      <td>T</td>\n",
              "      <td>0.31</td>\n",
              "    </tr>\n",
              "    <tr>\n",
              "      <th>20257</th>\n",
              "      <td>20040102</td>\n",
              "      <td>T</td>\n",
              "      <td>0.21</td>\n",
              "    </tr>\n",
              "    <tr>\n",
              "      <th>20258</th>\n",
              "      <td>20040103</td>\n",
              "      <td>T</td>\n",
              "      <td>0.31</td>\n",
              "    </tr>\n",
              "    <tr>\n",
              "      <th>20623</th>\n",
              "      <td>20050102</td>\n",
              "      <td>T</td>\n",
              "      <td>0.21</td>\n",
              "    </tr>\n",
              "    <tr>\n",
              "      <th>22084</th>\n",
              "      <td>20090102</td>\n",
              "      <td>T</td>\n",
              "      <td>0.21</td>\n",
              "    </tr>\n",
              "    <tr>\n",
              "      <th>22085</th>\n",
              "      <td>20090103</td>\n",
              "      <td>T</td>\n",
              "      <td>0.31</td>\n",
              "    </tr>\n",
              "    <tr>\n",
              "      <th>22086</th>\n",
              "      <td>20090104</td>\n",
              "      <td>T</td>\n",
              "      <td>0.43</td>\n",
              "    </tr>\n",
              "    <tr>\n",
              "      <th>23549</th>\n",
              "      <td>20130106</td>\n",
              "      <td>T</td>\n",
              "      <td>0.65</td>\n",
              "    </tr>\n",
              "    <tr>\n",
              "      <th>23550</th>\n",
              "      <td>20130107</td>\n",
              "      <td>T</td>\n",
              "      <td>0.76</td>\n",
              "    </tr>\n",
              "    <tr>\n",
              "      <th>23551</th>\n",
              "      <td>20130108</td>\n",
              "      <td>T</td>\n",
              "      <td>0.86</td>\n",
              "    </tr>\n",
              "    <tr>\n",
              "      <th>23552</th>\n",
              "      <td>20130109</td>\n",
              "      <td>T</td>\n",
              "      <td>0.97</td>\n",
              "    </tr>\n",
              "    <tr>\n",
              "      <th>23553</th>\n",
              "      <td>20130110</td>\n",
              "      <td>T</td>\n",
              "      <td>1.08</td>\n",
              "    </tr>\n",
              "    <tr>\n",
              "      <th>25005</th>\n",
              "      <td>20170101</td>\n",
              "      <td>T</td>\n",
              "      <td>0.10</td>\n",
              "    </tr>\n",
              "  </tbody>\n",
              "</table>\n",
              "</div>"
            ],
            "text/plain": [
              "           date precipitation  precipitation_normal\n",
              "533    19500101             T                  0.10\n",
              "534    19500102             T                  0.21\n",
              "4916   19620101             T                  0.10\n",
              "5282   19630102             T                  0.21\n",
              "5283   19630103             T                  0.31\n",
              "5284   19630104             T                  0.43\n",
              "5285   19630105             T                  0.54\n",
              "5286   19630106             T                  0.65\n",
              "5287   19630107             T                  0.76\n",
              "5288   19630108             T                  0.86\n",
              "5289   19630109             T                  0.97\n",
              "5290   19630110             T                  1.08\n",
              "6377   19660101             T                  0.10\n",
              "6742   19670101             T                  0.10\n",
              "6743   19670102             T                  0.21\n",
              "6744   19670103             T                  0.31\n",
              "6745   19670104             T                  0.43\n",
              "7473   19690101             T                  0.10\n",
              "7474   19690102             T                  0.21\n",
              "7475   19690103             T                  0.31\n",
              "7476   19690104             T                  0.43\n",
              "7477   19690105             T                  0.54\n",
              "10398  19770104             T                  0.43\n",
              "10399  19770105             T                  0.54\n",
              "10400  19770106             T                  0.65\n",
              "11493  19800104             T                  0.43\n",
              "14779  19890102             T                  0.21\n",
              "14780  19890103             T                  0.31\n",
              "14781  19890104             T                  0.43\n",
              "14782  19890105             T                  0.54\n",
              "15512  19910105             T                  0.54\n",
              "17334  19960101             T                  0.10\n",
              "17700  19970101             T                  0.10\n",
              "18430  19990101             T                  0.10\n",
              "18431  19990102             T                  0.21\n",
              "18797  20000103             T                  0.31\n",
              "20257  20040102             T                  0.21\n",
              "20258  20040103             T                  0.31\n",
              "20623  20050102             T                  0.21\n",
              "22084  20090102             T                  0.21\n",
              "22085  20090103             T                  0.31\n",
              "22086  20090104             T                  0.43\n",
              "23549  20130106             T                  0.65\n",
              "23550  20130107             T                  0.76\n",
              "23551  20130108             T                  0.86\n",
              "23552  20130109             T                  0.97\n",
              "23553  20130110             T                  1.08\n",
              "25005  20170101             T                  0.10"
            ]
          },
          "metadata": {},
          "execution_count": 435
        }
      ]
    },
    {
      "cell_type": "code",
      "metadata": {
        "colab": {
          "base_uri": "https://localhost:8080/",
          "height": 0
        },
        "id": "AZKzpR6Bx88W",
        "outputId": "b031521c-8069-4b51-9a24-b8d13203ec06"
      },
      "source": [
        "Per[Per['precipitation'].isna()]"
      ],
      "execution_count": 436,
      "outputs": [
        {
          "output_type": "execute_result",
          "data": {
            "text/html": [
              "<div>\n",
              "<style scoped>\n",
              "    .dataframe tbody tr th:only-of-type {\n",
              "        vertical-align: middle;\n",
              "    }\n",
              "\n",
              "    .dataframe tbody tr th {\n",
              "        vertical-align: top;\n",
              "    }\n",
              "\n",
              "    .dataframe thead th {\n",
              "        text-align: right;\n",
              "    }\n",
              "</style>\n",
              "<table border=\"1\" class=\"dataframe\">\n",
              "  <thead>\n",
              "    <tr style=\"text-align: right;\">\n",
              "      <th></th>\n",
              "      <th>date</th>\n",
              "      <th>precipitation</th>\n",
              "      <th>precipitation_normal</th>\n",
              "    </tr>\n",
              "  </thead>\n",
              "  <tbody>\n",
              "    <tr>\n",
              "      <th>1264</th>\n",
              "      <td>19520102</td>\n",
              "      <td>NaN</td>\n",
              "      <td>0.21</td>\n",
              "    </tr>\n",
              "    <tr>\n",
              "      <th>1265</th>\n",
              "      <td>19520103</td>\n",
              "      <td>NaN</td>\n",
              "      <td>0.31</td>\n",
              "    </tr>\n",
              "    <tr>\n",
              "      <th>1266</th>\n",
              "      <td>19520104</td>\n",
              "      <td>NaN</td>\n",
              "      <td>0.43</td>\n",
              "    </tr>\n",
              "    <tr>\n",
              "      <th>1267</th>\n",
              "      <td>19520105</td>\n",
              "      <td>NaN</td>\n",
              "      <td>0.54</td>\n",
              "    </tr>\n",
              "    <tr>\n",
              "      <th>1268</th>\n",
              "      <td>19520106</td>\n",
              "      <td>NaN</td>\n",
              "      <td>0.65</td>\n",
              "    </tr>\n",
              "    <tr>\n",
              "      <th>...</th>\n",
              "      <td>...</td>\n",
              "      <td>...</td>\n",
              "      <td>...</td>\n",
              "    </tr>\n",
              "    <tr>\n",
              "      <th>28287</th>\n",
              "      <td>20251227</td>\n",
              "      <td>NaN</td>\n",
              "      <td>42.84</td>\n",
              "    </tr>\n",
              "    <tr>\n",
              "      <th>28288</th>\n",
              "      <td>20251228</td>\n",
              "      <td>NaN</td>\n",
              "      <td>42.95</td>\n",
              "    </tr>\n",
              "    <tr>\n",
              "      <th>28289</th>\n",
              "      <td>20251229</td>\n",
              "      <td>NaN</td>\n",
              "      <td>43.07</td>\n",
              "    </tr>\n",
              "    <tr>\n",
              "      <th>28290</th>\n",
              "      <td>20251230</td>\n",
              "      <td>NaN</td>\n",
              "      <td>43.18</td>\n",
              "    </tr>\n",
              "    <tr>\n",
              "      <th>28291</th>\n",
              "      <td>20251231</td>\n",
              "      <td>NaN</td>\n",
              "      <td>43.29</td>\n",
              "    </tr>\n",
              "  </tbody>\n",
              "</table>\n",
              "<p>1739 rows × 3 columns</p>\n",
              "</div>"
            ],
            "text/plain": [
              "           date precipitation  precipitation_normal\n",
              "1264   19520102           NaN                  0.21\n",
              "1265   19520103           NaN                  0.31\n",
              "1266   19520104           NaN                  0.43\n",
              "1267   19520105           NaN                  0.54\n",
              "1268   19520106           NaN                  0.65\n",
              "...         ...           ...                   ...\n",
              "28287  20251227           NaN                 42.84\n",
              "28288  20251228           NaN                 42.95\n",
              "28289  20251229           NaN                 43.07\n",
              "28290  20251230           NaN                 43.18\n",
              "28291  20251231           NaN                 43.29\n",
              "\n",
              "[1739 rows x 3 columns]"
            ]
          },
          "metadata": {},
          "execution_count": 436
        }
      ]
    },
    {
      "cell_type": "code",
      "metadata": {
        "colab": {
          "base_uri": "https://localhost:8080/",
          "height": 0
        },
        "id": "OfNdCzVkHlTQ",
        "outputId": "491dced7-6993-4940-85f3-3252cc4dd154"
      },
      "source": [
        "Per.head()"
      ],
      "execution_count": 437,
      "outputs": [
        {
          "output_type": "execute_result",
          "data": {
            "text/html": [
              "<div>\n",
              "<style scoped>\n",
              "    .dataframe tbody tr th:only-of-type {\n",
              "        vertical-align: middle;\n",
              "    }\n",
              "\n",
              "    .dataframe tbody tr th {\n",
              "        vertical-align: top;\n",
              "    }\n",
              "\n",
              "    .dataframe thead th {\n",
              "        text-align: right;\n",
              "    }\n",
              "</style>\n",
              "<table border=\"1\" class=\"dataframe\">\n",
              "  <thead>\n",
              "    <tr style=\"text-align: right;\">\n",
              "      <th></th>\n",
              "      <th>date</th>\n",
              "      <th>precipitation</th>\n",
              "      <th>precipitation_normal</th>\n",
              "    </tr>\n",
              "  </thead>\n",
              "  <tbody>\n",
              "    <tr>\n",
              "      <th>0</th>\n",
              "      <td>19480717</td>\n",
              "      <td>0.06</td>\n",
              "      <td>22.99</td>\n",
              "    </tr>\n",
              "    <tr>\n",
              "      <th>1</th>\n",
              "      <td>19480718</td>\n",
              "      <td>0.06</td>\n",
              "      <td>23.13</td>\n",
              "    </tr>\n",
              "    <tr>\n",
              "      <th>2</th>\n",
              "      <td>19480719</td>\n",
              "      <td>0.06</td>\n",
              "      <td>23.26</td>\n",
              "    </tr>\n",
              "    <tr>\n",
              "      <th>3</th>\n",
              "      <td>19480720</td>\n",
              "      <td>0.06</td>\n",
              "      <td>23.40</td>\n",
              "    </tr>\n",
              "    <tr>\n",
              "      <th>4</th>\n",
              "      <td>19480721</td>\n",
              "      <td>2.51</td>\n",
              "      <td>23.52</td>\n",
              "    </tr>\n",
              "  </tbody>\n",
              "</table>\n",
              "</div>"
            ],
            "text/plain": [
              "       date precipitation  precipitation_normal\n",
              "0  19480717          0.06                 22.99\n",
              "1  19480718          0.06                 23.13\n",
              "2  19480719          0.06                 23.26\n",
              "3  19480720          0.06                 23.40\n",
              "4  19480721          2.51                 23.52"
            ]
          },
          "metadata": {},
          "execution_count": 437
        }
      ]
    },
    {
      "cell_type": "code",
      "metadata": {
        "id": "w2sYkUr5HlTR"
      },
      "source": [
        "Temp = []\n",
        "s = ''\n",
        "for i in Per.date:\n",
        "  s += i[:4]\n",
        "  s+=' '\n",
        "  s+=i[4:6]\n",
        "  s+=' '\n",
        "  s+=i[6:]\n",
        "  Temp.append(s)\n",
        "  s=''"
      ],
      "execution_count": 438,
      "outputs": []
    },
    {
      "cell_type": "code",
      "metadata": {
        "id": "U2O2GEAlHlTR"
      },
      "source": [
        "Per.date = pd.Series([datetime( int( i.split(' ')[0] ),int( i.split(' ')[1] ),int( i.split(' ')[2] ) ) for i in Temp])"
      ],
      "execution_count": 439,
      "outputs": []
    },
    {
      "cell_type": "code",
      "metadata": {
        "colab": {
          "base_uri": "https://localhost:8080/"
        },
        "id": "IdWiO7OlIFAX",
        "outputId": "e7878551-d22f-4392-f9e6-0e2ca340896e"
      },
      "source": [
        "Per.info()"
      ],
      "execution_count": 440,
      "outputs": [
        {
          "output_type": "stream",
          "name": "stdout",
          "text": [
            "<class 'pandas.core.frame.DataFrame'>\n",
            "RangeIndex: 28292 entries, 0 to 28291\n",
            "Data columns (total 3 columns):\n",
            " #   Column                Non-Null Count  Dtype         \n",
            "---  ------                --------------  -----         \n",
            " 0   date                  28292 non-null  datetime64[ns]\n",
            " 1   precipitation         26553 non-null  object        \n",
            " 2   precipitation_normal  28292 non-null  float64       \n",
            "dtypes: datetime64[ns](1), float64(1), object(1)\n",
            "memory usage: 663.2+ KB\n"
          ]
        }
      ]
    },
    {
      "cell_type": "code",
      "metadata": {
        "colab": {
          "base_uri": "https://localhost:8080/"
        },
        "id": "KgSD5TYvIJRB",
        "outputId": "6b875d9d-b4fc-48f2-e3ba-c3649d9c9a07"
      },
      "source": [
        "Per.date.min()"
      ],
      "execution_count": 441,
      "outputs": [
        {
          "output_type": "execute_result",
          "data": {
            "text/plain": [
              "Timestamp('1948-07-17 00:00:00')"
            ]
          },
          "metadata": {},
          "execution_count": 441
        }
      ]
    },
    {
      "cell_type": "code",
      "metadata": {
        "colab": {
          "base_uri": "https://localhost:8080/"
        },
        "id": "-DA4qpIjINO0",
        "outputId": "dbfaaffa-4072-43e5-e38d-80eb3a3c7f0e"
      },
      "source": [
        "Per.date.max()"
      ],
      "execution_count": 442,
      "outputs": [
        {
          "output_type": "execute_result",
          "data": {
            "text/plain": [
              "Timestamp('2025-12-31 00:00:00')"
            ]
          },
          "metadata": {},
          "execution_count": 442
        }
      ]
    },
    {
      "cell_type": "markdown",
      "metadata": {
        "id": "hsl4DlrRc0ff"
      },
      "source": [
        "### Precipitation from 17 July 1948 To 17 July 2021"
      ]
    },
    {
      "cell_type": "code",
      "metadata": {
        "id": "A_NBC72MHlTS"
      },
      "source": [
        "Per_To_Aug = Per[Per['date']<datetime(2021,7,18)]"
      ],
      "execution_count": 443,
      "outputs": []
    },
    {
      "cell_type": "code",
      "metadata": {
        "colab": {
          "base_uri": "https://localhost:8080/"
        },
        "id": "TI2UqGoeHlTS",
        "outputId": "4a7d0557-6d13-474b-940b-f2e40854fb35"
      },
      "source": [
        "Per_To_Aug.info()"
      ],
      "execution_count": 444,
      "outputs": [
        {
          "output_type": "stream",
          "name": "stdout",
          "text": [
            "<class 'pandas.core.frame.DataFrame'>\n",
            "Int64Index: 26664 entries, 0 to 26663\n",
            "Data columns (total 3 columns):\n",
            " #   Column                Non-Null Count  Dtype         \n",
            "---  ------                --------------  -----         \n",
            " 0   date                  26664 non-null  datetime64[ns]\n",
            " 1   precipitation         26494 non-null  object        \n",
            " 2   precipitation_normal  26664 non-null  float64       \n",
            "dtypes: datetime64[ns](1), float64(1), object(1)\n",
            "memory usage: 833.2+ KB\n"
          ]
        }
      ]
    },
    {
      "cell_type": "code",
      "metadata": {
        "colab": {
          "base_uri": "https://localhost:8080/"
        },
        "id": "MgrZTykCHlTS",
        "outputId": "7016b93a-0cea-43d1-a713-33961e120c34"
      },
      "source": [
        "Per_To_Aug.isna().sum()"
      ],
      "execution_count": 445,
      "outputs": [
        {
          "output_type": "execute_result",
          "data": {
            "text/plain": [
              "date                      0\n",
              "precipitation           170\n",
              "precipitation_normal      0\n",
              "dtype: int64"
            ]
          },
          "metadata": {},
          "execution_count": 445
        }
      ]
    },
    {
      "cell_type": "code",
      "metadata": {
        "id": "PMcmWgtZHlTT"
      },
      "source": [
        "Year = []\n",
        "AvgPer = []\n",
        "SumPer = 0.0\n",
        "DayCount = 0.0\n",
        "for i in Per_To_Aug.groupby(['date']).date:\n",
        "  \n",
        "  if not (str(Per_To_Aug['precipitation'].loc[i[1].index[0]]) == 'nan' or str(Per_To_Aug['precipitation'].loc[i[1].index[0]]) == 'T'):\n",
        "    \n",
        "    if not (i[0].year in Year):\n",
        "      \n",
        "      if DayCount > 0:\n",
        "        AvgPer.append(SumPer/DayCount)\n",
        "        \n",
        "      \n",
        "      SumPer = 0\n",
        "      DayCount = 0\n",
        "      Year.append(i[0].year)\n",
        "    \n",
        "    SumPer+=float(Per_To_Aug['precipitation'].loc[i[1].index[0]])\n",
        "    DayCount+=1\n",
        "AvgPer.append(SumPer/DayCount)"
      ],
      "execution_count": 446,
      "outputs": []
    },
    {
      "cell_type": "code",
      "metadata": {
        "colab": {
          "base_uri": "https://localhost:8080/"
        },
        "id": "MAaZngY0HlTT",
        "outputId": "cd792302-bc10-4f81-b97e-78c6f3b82437"
      },
      "source": [
        "len(Year)"
      ],
      "execution_count": 447,
      "outputs": [
        {
          "output_type": "execute_result",
          "data": {
            "text/plain": [
              "74"
            ]
          },
          "metadata": {},
          "execution_count": 447
        }
      ]
    },
    {
      "cell_type": "code",
      "metadata": {
        "colab": {
          "base_uri": "https://localhost:8080/"
        },
        "id": "b69ddWPDHlTU",
        "outputId": "3febc09f-f9c0-4929-8074-c46a4c302309"
      },
      "source": [
        "len(AvgPer)"
      ],
      "execution_count": 448,
      "outputs": [
        {
          "output_type": "execute_result",
          "data": {
            "text/plain": [
              "74"
            ]
          },
          "metadata": {},
          "execution_count": 448
        }
      ]
    },
    {
      "cell_type": "code",
      "metadata": {
        "colab": {
          "base_uri": "https://localhost:8080/",
          "height": 0
        },
        "id": "gYtEdIVZHlTU",
        "outputId": "d18824f9-47a8-4d5f-d486-597a0d3d35d2"
      },
      "source": [
        "Year_Axis = np.arange(len(Year))\n",
        "plt.figure(figsize=(40,40))\n",
        "plt.bar(Year_Axis-0.2,AvgPer,0.4,label='Average precipitation')\n",
        "plt.xticks(Year_Axis,Year)\n",
        "plt.xlabel('Year')\n",
        "plt.ylabel('Average precipitation')\n",
        "plt.title('Average precipitation change across years')\n",
        "plt.legend()\n",
        "plt.show()"
      ],
      "execution_count": 449,
      "outputs": [
        {
          "output_type": "display_data",
          "data": {
            "image/png": "[encoded data removed]",
            "text/plain": [
              "<Figure size 2880x2880 with 1 Axes>"
            ]
          },
          "metadata": {
            "needs_background": "light"
          }
        }
      ]
    },
    {
      "cell_type": "code",
      "metadata": {
        "colab": {
          "base_uri": "https://localhost:8080/",
          "height": 0
        },
        "id": "h-dla6lYpuR5",
        "outputId": "0fc98b82-495f-4ff7-b9fc-72686d7d4c02"
      },
      "source": [
        "New_AvgPer = []\n",
        "\n",
        "New_Year = ['1951-1960','1961-1970','1971-1980','1981-1990','1991-2000','2001-2010','2011-2020']\n",
        "YearSum = 0.0\n",
        "YearCount = 0\n",
        "for i in AvgPer[3:-1]:\n",
        "  if(YearCount >= 10):\n",
        "    \n",
        "    New_AvgPer.append(YearSum/10.0)\n",
        "    YearCount=0\n",
        "    YearSum=0.0\n",
        "    YearSum+=i\n",
        "    YearCount+=1\n",
        "  else:\n",
        "    YearCount+=1\n",
        "    YearSum+=i\n",
        "New_AvgPer.append(YearSum/YearCount)\n",
        "\n",
        "Year_Axis = np.arange(len(New_Year))\n",
        "plt.figure(figsize=(10,10))\n",
        "plt.bar(Year_Axis-0.2,New_AvgPer,0.4,label='Average precipitation')\n",
        "plt.xticks(Year_Axis,New_Year)\n",
        "plt.xlabel('Year')\n",
        "plt.ylabel('Average precipitation')\n",
        "plt.title('Precipitation change across years')\n",
        "plt.legend()\n",
        "plt.show()"
      ],
      "execution_count": 450,
      "outputs": [
        {
          "output_type": "display_data",
          "data": {
            "image/png": "[encoded data removed]",
            "text/plain": [
              "<Figure size 720x720 with 1 Axes>"
            ]
          },
          "metadata": {
            "needs_background": "light"
          }
        }
      ]
    },
    {
      "cell_type": "code",
      "metadata": {
        "colab": {
          "base_uri": "https://localhost:8080/"
        },
        "id": "Qvzn5GvUCvvR",
        "outputId": "a7f956c4-8e02-4471-f54e-90f2bd6febcb"
      },
      "source": [
        "New_AvgPer[-1]-New_AvgPer[0]"
      ],
      "execution_count": 451,
      "outputs": [
        {
          "output_type": "execute_result",
          "data": {
            "text/plain": [
              "1.3850599072709855"
            ]
          },
          "metadata": {},
          "execution_count": 451
        }
      ]
    },
    {
      "cell_type": "code",
      "metadata": {
        "colab": {
          "base_uri": "https://localhost:8080/",
          "height": 0
        },
        "id": "m0ChzjkwHlTV",
        "outputId": "1bd2520a-9863-40ec-e297-ad7c100c7680"
      },
      "source": [
        "pd.Series(AvgPer,index=Year).plot()\n",
        "plt.title('Avergae precipitation change across years')"
      ],
      "execution_count": 452,
      "outputs": [
        {
          "output_type": "execute_result",
          "data": {
            "text/plain": [
              "Text(0.5, 1.0, 'Avergae precipitation change across years')"
            ]
          },
          "metadata": {},
          "execution_count": 452
        },
        {
          "output_type": "display_data",
          "data": {
            "image/png": "[encoded data removed]",
            "text/plain": [
              "<Figure size 432x288 with 1 Axes>"
            ]
          },
          "metadata": {
            "needs_background": "light"
          }
        }
      ]
    },
    {
      "cell_type": "code",
      "metadata": {
        "id": "JCnjx7k9__20"
      },
      "source": [
        "Year = []\n",
        "AvgPer = []\n",
        "SumPer = 0.0\n",
        "DayCount = 0.0\n",
        "for i in Per_To_Aug.groupby(['date']).date:\n",
        "  \n",
        "  if not (str(Per_To_Aug['precipitation_normal'].loc[i[1].index[0]]) == 'nan' or str(Per_To_Aug['precipitation_normal'].loc[i[1].index[0]]) == 'T'):\n",
        "    \n",
        "    if not (i[0].year in Year):\n",
        "      \n",
        "      if DayCount > 0:\n",
        "        AvgPer.append(SumPer/DayCount)\n",
        "        \n",
        "      \n",
        "      SumPer = 0\n",
        "      DayCount = 0\n",
        "      Year.append(i[0].year)\n",
        "    \n",
        "    SumPer+=float(Per_To_Aug['precipitation_normal'].loc[i[1].index[0]])\n",
        "    DayCount+=1\n",
        "AvgPer.append(SumPer/DayCount)"
      ],
      "execution_count": 453,
      "outputs": []
    },
    {
      "cell_type": "code",
      "metadata": {
        "colab": {
          "base_uri": "https://localhost:8080/",
          "height": 0
        },
        "id": "ABEWqEEYAFmK",
        "outputId": "b7ad005c-5b21-4955-e464-851313f1d628"
      },
      "source": [
        "pd.Series(AvgPer,index=Year).plot()\n",
        "plt.title('Avergae Normal precipitation change across years')"
      ],
      "execution_count": 454,
      "outputs": [
        {
          "output_type": "execute_result",
          "data": {
            "text/plain": [
              "Text(0.5, 1.0, 'Avergae Normal precipitation change across years')"
            ]
          },
          "metadata": {},
          "execution_count": 454
        },
        {
          "output_type": "display_data",
          "data": {
            "image/png": "[encoded data removed]",
            "text/plain": [
              "<Figure size 432x288 with 1 Axes>"
            ]
          },
          "metadata": {
            "needs_background": "light"
          }
        }
      ]
    },
    {
      "cell_type": "markdown",
      "metadata": {
        "id": "AUL8fpX05O0F"
      },
      "source": [
        "## Diffrence in Avarage Sum of Temp in the last 2 dicades "
      ]
    },
    {
      "cell_type": "code",
      "metadata": {
        "id": "SFeXuf2E5aGD"
      },
      "source": [
        "temp_2000_2010 = temp[temp['date']>=datetime(2000,1,1) ]\n",
        "temp_2000_2010 = temp_2000_2010[temp_2000_2010['date']<datetime(2010,1,1) ]"
      ],
      "execution_count": 455,
      "outputs": []
    },
    {
      "cell_type": "code",
      "metadata": {
        "colab": {
          "base_uri": "https://localhost:8080/"
        },
        "id": "SO7ZXxvx6Soe",
        "outputId": "e22fa351-8f4c-46f5-e97b-9abdf92ba06d"
      },
      "source": [
        "temp_2000_2010.date.min()"
      ],
      "execution_count": 456,
      "outputs": [
        {
          "output_type": "execute_result",
          "data": {
            "text/plain": [
              "Timestamp('2000-01-01 00:00:00')"
            ]
          },
          "metadata": {},
          "execution_count": 456
        }
      ]
    },
    {
      "cell_type": "code",
      "metadata": {
        "colab": {
          "base_uri": "https://localhost:8080/"
        },
        "id": "VU2HYTGX6Vun",
        "outputId": "53d8e6fd-d18b-4a41-933f-069ac0971967"
      },
      "source": [
        "temp_2000_2010.date.max()"
      ],
      "execution_count": 457,
      "outputs": [
        {
          "output_type": "execute_result",
          "data": {
            "text/plain": [
              "Timestamp('2009-12-31 00:00:00')"
            ]
          },
          "metadata": {},
          "execution_count": 457
        }
      ]
    },
    {
      "cell_type": "code",
      "metadata": {
        "id": "M875WfYV6hpe"
      },
      "source": [
        "temp_2010_2020 = temp[temp['date']>=datetime(2010,1,1) ]\n",
        "temp_2010_2020 = temp_2010_2020[temp_2010_2020['date']<datetime(2021,1,1) ]"
      ],
      "execution_count": 458,
      "outputs": []
    },
    {
      "cell_type": "code",
      "metadata": {
        "colab": {
          "base_uri": "https://localhost:8080/"
        },
        "id": "057eU9Sx8A1z",
        "outputId": "0b2ad743-5b62-43c5-aa00-bf0b53cf327c"
      },
      "source": [
        "temp_2000_2010.info()"
      ],
      "execution_count": 459,
      "outputs": [
        {
          "output_type": "stream",
          "name": "stdout",
          "text": [
            "<class 'pandas.core.frame.DataFrame'>\n",
            "Int64Index: 3653 entries, 18795 to 22447\n",
            "Data columns (total 5 columns):\n",
            " #   Column      Non-Null Count  Dtype         \n",
            "---  ------      --------------  -----         \n",
            " 0   date        3653 non-null   datetime64[ns]\n",
            " 1   min         3653 non-null   float64       \n",
            " 2   max         3653 non-null   float64       \n",
            " 3   normal_min  3653 non-null   float64       \n",
            " 4   normal_max  3653 non-null   float64       \n",
            "dtypes: datetime64[ns](1), float64(4)\n",
            "memory usage: 171.2 KB\n"
          ]
        }
      ]
    },
    {
      "cell_type": "code",
      "metadata": {
        "colab": {
          "base_uri": "https://localhost:8080/"
        },
        "id": "8kFbY4ft8D6M",
        "outputId": "a754fd6a-a0da-4340-e088-7659e57c542e"
      },
      "source": [
        "temp_2010_2020.info()"
      ],
      "execution_count": 460,
      "outputs": [
        {
          "output_type": "stream",
          "name": "stdout",
          "text": [
            "<class 'pandas.core.frame.DataFrame'>\n",
            "Int64Index: 4018 entries, 22448 to 26465\n",
            "Data columns (total 5 columns):\n",
            " #   Column      Non-Null Count  Dtype         \n",
            "---  ------      --------------  -----         \n",
            " 0   date        4018 non-null   datetime64[ns]\n",
            " 1   min         4018 non-null   float64       \n",
            " 2   max         4018 non-null   float64       \n",
            " 3   normal_min  4018 non-null   float64       \n",
            " 4   normal_max  4018 non-null   float64       \n",
            "dtypes: datetime64[ns](1), float64(4)\n",
            "memory usage: 188.3 KB\n"
          ]
        }
      ]
    },
    {
      "cell_type": "code",
      "metadata": {
        "colab": {
          "base_uri": "https://localhost:8080/"
        },
        "id": "D8aMKsas8Hlz",
        "outputId": "20d582f7-26f5-4482-b7b7-26af66690daa"
      },
      "source": [
        "temp_2010_2020.date.min()"
      ],
      "execution_count": 461,
      "outputs": [
        {
          "output_type": "execute_result",
          "data": {
            "text/plain": [
              "Timestamp('2010-01-01 00:00:00')"
            ]
          },
          "metadata": {},
          "execution_count": 461
        }
      ]
    },
    {
      "cell_type": "code",
      "metadata": {
        "colab": {
          "base_uri": "https://localhost:8080/"
        },
        "id": "IPO-UkVG8Y5_",
        "outputId": "dfb73be8-90ec-4d03-a36a-732ba112dab5"
      },
      "source": [
        "temp_2010_2020.date.max()"
      ],
      "execution_count": 462,
      "outputs": [
        {
          "output_type": "execute_result",
          "data": {
            "text/plain": [
              "Timestamp('2020-12-31 00:00:00')"
            ]
          },
          "metadata": {},
          "execution_count": 462
        }
      ]
    },
    {
      "cell_type": "code",
      "metadata": {
        "colab": {
          "base_uri": "https://localhost:8080/"
        },
        "id": "-HLrNAxf8d7G",
        "outputId": "c90f55a9-b7a1-4583-e0ed-a1a647d54d23"
      },
      "source": [
        "temp_2000_2010.isna().sum()"
      ],
      "execution_count": 463,
      "outputs": [
        {
          "output_type": "execute_result",
          "data": {
            "text/plain": [
              "date          0\n",
              "min           0\n",
              "max           0\n",
              "normal_min    0\n",
              "normal_max    0\n",
              "dtype: int64"
            ]
          },
          "metadata": {},
          "execution_count": 463
        }
      ]
    },
    {
      "cell_type": "code",
      "metadata": {
        "colab": {
          "base_uri": "https://localhost:8080/"
        },
        "id": "fhnsY3JW9KYC",
        "outputId": "3e2311ee-71de-4624-ff01-d4d3010c0df2"
      },
      "source": [
        "temp_2010_2020.isna().sum()"
      ],
      "execution_count": 464,
      "outputs": [
        {
          "output_type": "execute_result",
          "data": {
            "text/plain": [
              "date          0\n",
              "min           0\n",
              "max           0\n",
              "normal_min    0\n",
              "normal_max    0\n",
              "dtype: int64"
            ]
          },
          "metadata": {},
          "execution_count": 464
        }
      ]
    },
    {
      "cell_type": "code",
      "metadata": {
        "colab": {
          "base_uri": "https://localhost:8080/"
        },
        "id": "8_RuwXCM9NWM",
        "outputId": "cbc70c89-2212-4958-d329-4b982206585d"
      },
      "source": [
        "temp_2000_2010.duplicated().sum()"
      ],
      "execution_count": 465,
      "outputs": [
        {
          "output_type": "execute_result",
          "data": {
            "text/plain": [
              "0"
            ]
          },
          "metadata": {},
          "execution_count": 465
        }
      ]
    },
    {
      "cell_type": "code",
      "metadata": {
        "colab": {
          "base_uri": "https://localhost:8080/"
        },
        "id": "In3T_fTl9R_z",
        "outputId": "f9103a05-f73f-4a90-c8a3-71f5405d30d6"
      },
      "source": [
        "temp_2010_2020.duplicated().sum()"
      ],
      "execution_count": 466,
      "outputs": [
        {
          "output_type": "execute_result",
          "data": {
            "text/plain": [
              "0"
            ]
          },
          "metadata": {},
          "execution_count": 466
        }
      ]
    },
    {
      "cell_type": "code",
      "metadata": {
        "id": "JB9liY-h9UY2"
      },
      "source": [
        "Year = ['2000-2010','2010-2020']\n",
        "Avgs_min = [temp_2000_2010['min'].mean(),temp_2010_2020['min'].mean()]\n",
        "Avgs_max = [temp_2000_2010['max'].mean(),temp_2010_2020['max'].mean()]"
      ],
      "execution_count": 467,
      "outputs": []
    },
    {
      "cell_type": "code",
      "metadata": {
        "id": "0R5sqkOsFKTN"
      },
      "source": [
        "df_diff_temp = pd.DataFrame({'Year':Year,\"Avgs_min\":Avgs_min,\"Avgs_max\":Avgs_max})"
      ],
      "execution_count": 468,
      "outputs": []
    },
    {
      "cell_type": "code",
      "metadata": {
        "colab": {
          "base_uri": "https://localhost:8080/",
          "height": 0
        },
        "id": "JOtb4zj0-ak1",
        "outputId": "d6e57486-56d2-468e-d88c-98cc37fb0f94"
      },
      "source": [
        "plt.pie(Avgs_min,labels=Year,startangle=90,autopct='%1.1f%%',shadow=True)\n",
        "plt.axis('equal')\n",
        "plt.title('Comparison between Average minimum temperature in the last 2 decades')\n",
        "plt.figure(figsize=(100,100))"
      ],
      "execution_count": 469,
      "outputs": [
        {
          "output_type": "execute_result",
          "data": {
            "text/plain": [
              "<Figure size 7200x7200 with 0 Axes>"
            ]
          },
          "metadata": {},
          "execution_count": 469
        },
        {
          "output_type": "display_data",
          "data": {
            "image/png": "[encoded data removed]",
            "text/plain": [
              "<Figure size 432x288 with 1 Axes>"
            ]
          },
          "metadata": {}
        },
        {
          "output_type": "display_data",
          "data": {
            "text/plain": [
              "<Figure size 7200x7200 with 0 Axes>"
            ]
          },
          "metadata": {}
        }
      ]
    },
    {
      "cell_type": "code",
      "metadata": {
        "colab": {
          "base_uri": "https://localhost:8080/"
        },
        "id": "Bac2u54sBEZo",
        "outputId": "04cbec0f-1d3a-4f0f-b31c-991794724bd1"
      },
      "source": [
        "Avgs_min"
      ],
      "execution_count": 470,
      "outputs": [
        {
          "output_type": "execute_result",
          "data": {
            "text/plain": [
              "[47.13742129756365, 48.41363862618218]"
            ]
          },
          "metadata": {},
          "execution_count": 470
        }
      ]
    },
    {
      "cell_type": "code",
      "metadata": {
        "colab": {
          "base_uri": "https://localhost:8080/",
          "height": 0
        },
        "id": "xU2BvQ573ue3",
        "outputId": "70be49ee-933d-44d7-c9d5-4c3580f644d2"
      },
      "source": [
        "Year_Axis = np.arange(len(Year))\n",
        "plt.figure(figsize=(7,7))\n",
        "plt.bar(Year_Axis-0.2,Avgs_min,0.4,color=['green','red'])\n",
        "plt.xticks(Year_Axis,Year)\n",
        "plt.xlabel('Year')\n",
        "plt.ylabel('Average Minimum Tempratature')\n",
        "plt.title('Average Minimum Tempratature in decades 2000-2010 and 2010-2020')\n",
        "plt.legend()\n",
        "plt.show()"
      ],
      "execution_count": 471,
      "outputs": [
        {
          "output_type": "stream",
          "name": "stderr",
          "text": [
            "No handles with labels found to put in legend.\n"
          ]
        },
        {
          "output_type": "display_data",
          "data": {
            "image/png": "[encoded data removed]",
            "text/plain": [
              "<Figure size 504x504 with 1 Axes>"
            ]
          },
          "metadata": {
            "needs_background": "light"
          }
        }
      ]
    },
    {
      "cell_type": "code",
      "metadata": {
        "colab": {
          "base_uri": "https://localhost:8080/"
        },
        "id": "BGVk2lte_6KO",
        "outputId": "7a23db1a-55de-445e-a9c8-249d84475eb8"
      },
      "source": [
        "Avgs_max"
      ],
      "execution_count": 472,
      "outputs": [
        {
          "output_type": "execute_result",
          "data": {
            "text/plain": [
              "[61.544757733369835, 62.931309109009455]"
            ]
          },
          "metadata": {},
          "execution_count": 472
        }
      ]
    },
    {
      "cell_type": "code",
      "metadata": {
        "id": "fvbnZ7zZFGnA",
        "colab": {
          "base_uri": "https://localhost:8080/"
        },
        "outputId": "400050be-8b2b-4a34-fd94-ffaeea1c3e31"
      },
      "source": [
        "print('Diffrence minimum temp:',Avgs_min[-1]-Avgs_min[0])\n",
        "print('Diffrence maximum temp:',Avgs_max[-1]-Avgs_max[0])"
      ],
      "execution_count": 473,
      "outputs": [
        {
          "output_type": "stream",
          "name": "stdout",
          "text": [
            "Diffrence minimum temp: 1.2762173286185288\n",
            "Diffrence maximum temp: 1.3865513756396197\n"
          ]
        }
      ]
    },
    {
      "cell_type": "code",
      "metadata": {
        "colab": {
          "base_uri": "https://localhost:8080/",
          "height": 0
        },
        "id": "0t7_r96N60um",
        "outputId": "cedd54af-a36b-4cdb-e543-1b6fd0ee7d0e"
      },
      "source": [
        "Year_Axis = np.arange(len(Year))\n",
        "plt.figure(figsize=(7,7))\n",
        "plt.bar(Year_Axis-0.2,Avgs_max,0.4,color=['green','red'])\n",
        "plt.xticks(Year_Axis,Year)\n",
        "plt.xlabel('Year')\n",
        "plt.ylabel('Average Maximum Tempratature')\n",
        "plt.title('Average Maximum Tempratature in decades 2000-2010 and 2010-2020')\n",
        "plt.legend()\n",
        "plt.show()"
      ],
      "execution_count": 474,
      "outputs": [
        {
          "output_type": "stream",
          "name": "stderr",
          "text": [
            "No handles with labels found to put in legend.\n"
          ]
        },
        {
          "output_type": "display_data",
          "data": {
            "image/png": "[encoded data removed]",
            "text/plain": [
              "<Figure size 504x504 with 1 Axes>"
            ]
          },
          "metadata": {
            "needs_background": "light"
          }
        }
      ]
    },
    {
      "cell_type": "code",
      "metadata": {
        "colab": {
          "base_uri": "https://localhost:8080/",
          "height": 0
        },
        "id": "ffhvHMVEBGYO",
        "outputId": "47c36e94-65a3-4bf3-b54d-8e3a704177d0"
      },
      "source": [
        "plt.pie(Avgs_max,labels=Year,startangle=90,autopct='%1.1f%%',shadow=True)\n",
        "plt.axis('equal')\n",
        "plt.title('Comparison between Average maximum temperature in the last 2 decades')\n",
        "plt.figure(figsize=(100,100))"
      ],
      "execution_count": 475,
      "outputs": [
        {
          "output_type": "execute_result",
          "data": {
            "text/plain": [
              "<Figure size 7200x7200 with 0 Axes>"
            ]
          },
          "metadata": {},
          "execution_count": 475
        },
        {
          "output_type": "display_data",
          "data": {
            "image/png": "[encoded data removed]",
            "text/plain": [
              "<Figure size 432x288 with 1 Axes>"
            ]
          },
          "metadata": {}
        },
        {
          "output_type": "display_data",
          "data": {
            "text/plain": [
              "<Figure size 7200x7200 with 0 Axes>"
            ]
          },
          "metadata": {}
        }
      ]
    },
    {
      "cell_type": "markdown",
      "metadata": {
        "id": "OF825pp7pAAm"
      },
      "source": [
        "## Diffrence in Avarage Sum of precipitation in the last 2 dicades"
      ]
    },
    {
      "cell_type": "code",
      "metadata": {
        "id": "qpATMeEGmbsY"
      },
      "source": [
        "Per_2000_2010 = Per[Per['date']>=datetime(2000,1,1) ]\n",
        "Per_2000_2010 = Per_2000_2010[Per_2000_2010['date']<datetime(2010,1,1) ]\n",
        "Per_2010_2020 = Per[Per['date']>=datetime(2010,1,1) ]\n",
        "Per_2010_2020 = Per_2010_2020[Per_2010_2020['date']<datetime(2021,1,1) ]"
      ],
      "execution_count": 476,
      "outputs": []
    },
    {
      "cell_type": "code",
      "metadata": {
        "id": "2fZHeJ3eox5Q"
      },
      "source": [
        "Year = ['2000-2010','2010-2020']"
      ],
      "execution_count": 477,
      "outputs": []
    },
    {
      "cell_type": "code",
      "metadata": {
        "id": "JBICQv33N2Cq"
      },
      "source": [
        "Avgs_Per = []\n",
        "SumPer = 0.0\n",
        "DayCount = 0.0\n",
        "for i in Per_2000_2010.precipitation:\n",
        " \n",
        "  if not (i == 'T'):   \n",
        "    SumPer+=float(i)\n",
        "    DayCount+=1\n",
        "Avgs_Per.append(SumPer/DayCount)"
      ],
      "execution_count": 478,
      "outputs": []
    },
    {
      "cell_type": "code",
      "metadata": {
        "colab": {
          "base_uri": "https://localhost:8080/"
        },
        "id": "hHTiAoLUoih0",
        "outputId": "f7c6b8a8-86f8-46c2-9b62-fa63b3c20d53"
      },
      "source": [
        "Avgs_Per"
      ],
      "execution_count": 479,
      "outputs": [
        {
          "output_type": "execute_result",
          "data": {
            "text/plain": [
              "[21.35961601755345]"
            ]
          },
          "metadata": {},
          "execution_count": 479
        }
      ]
    },
    {
      "cell_type": "code",
      "metadata": {
        "id": "CWLUtr_OvqCc"
      },
      "source": [
        "SumPer = 0.0\n",
        "DayCount = 0.0\n",
        "for i in Per_2010_2020.precipitation:\n",
        " \n",
        "  if not (i == 'T'):   \n",
        "    SumPer+=float(i)\n",
        "    DayCount+=1\n",
        "Avgs_Per.append(SumPer/DayCount)"
      ],
      "execution_count": 480,
      "outputs": []
    },
    {
      "cell_type": "code",
      "metadata": {
        "colab": {
          "base_uri": "https://localhost:8080/"
        },
        "id": "LmmpIacgv8GW",
        "outputId": "fa86d260-a299-4a31-c284-3d7740486b30"
      },
      "source": [
        "Avgs_Per[-1]-Avgs_Per[0]"
      ],
      "execution_count": 481,
      "outputs": [
        {
          "output_type": "execute_result",
          "data": {
            "text/plain": [
              "0.7777817890268466"
            ]
          },
          "metadata": {},
          "execution_count": 481
        }
      ]
    },
    {
      "cell_type": "code",
      "metadata": {
        "colab": {
          "base_uri": "https://localhost:8080/",
          "height": 0
        },
        "id": "vHhtcOxu7tDe",
        "outputId": "5ce71ff3-8b07-45fd-f883-cd51beb45b58"
      },
      "source": [
        "Year_Axis = np.arange(len(Year))\n",
        "plt.figure(figsize=(7,7))\n",
        "plt.bar(Year_Axis-0.2,Avgs_Per,0.4,color=['green','blue'])\n",
        "plt.xticks(Year_Axis,Year)\n",
        "plt.xlabel('Year')\n",
        "plt.ylabel('Average Precipitation')\n",
        "plt.title('Average Precipitation in decades 2000-2010 and 2010-2020')\n",
        "plt.legend()\n",
        "plt.show()"
      ],
      "execution_count": 482,
      "outputs": [
        {
          "output_type": "stream",
          "name": "stderr",
          "text": [
            "No handles with labels found to put in legend.\n"
          ]
        },
        {
          "output_type": "display_data",
          "data": {
            "image/png": "[encoded data removed]",
            "text/plain": [
              "<Figure size 504x504 with 1 Axes>"
            ]
          },
          "metadata": {
            "needs_background": "light"
          }
        }
      ]
    },
    {
      "cell_type": "code",
      "metadata": {
        "colab": {
          "base_uri": "https://localhost:8080/",
          "height": 0
        },
        "id": "cgtVbQwhv9Tp",
        "outputId": "ae9aec95-41ad-480f-e889-4f85e974e194"
      },
      "source": [
        "plt.pie(Avgs_Per,labels=Year,startangle=90,autopct='%1.1f%%',shadow=True)\n",
        "plt.axis('equal')\n",
        "plt.title('Comparison between Average Precipitation in the last 2 decades')\n",
        "plt.savefig('two')\n",
        "plt.figure(figsize=(100,100))\n"
      ],
      "execution_count": 483,
      "outputs": [
        {
          "output_type": "execute_result",
          "data": {
            "text/plain": [
              "<Figure size 7200x7200 with 0 Axes>"
            ]
          },
          "metadata": {},
          "execution_count": 483
        },
        {
          "output_type": "display_data",
          "data": {
            "image/png": "[encoded data removed]",
            "text/plain": [
              "<Figure size 432x288 with 1 Axes>"
            ]
          },
          "metadata": {}
        },
        {
          "output_type": "display_data",
          "data": {
            "text/plain": [
              "<Figure size 7200x7200 with 0 Axes>"
            ]
          },
          "metadata": {}
        }
      ]
    },
    {
      "cell_type": "markdown",
      "metadata": {
        "id": "OQnaSFFzUKHt"
      },
      "source": [
        "## Future Prediction"
      ]
    },
    {
      "cell_type": "markdown",
      "metadata": {
        "id": "OyyN30fOXeII"
      },
      "source": [
        "### Temprature"
      ]
    },
    {
      "cell_type": "code",
      "metadata": {
        "id": "Cn2978p0CHgt"
      },
      "source": [
        "temp_2021_2025 = temp[temp['date']>datetime(2021,12,31)]"
      ],
      "execution_count": 484,
      "outputs": []
    },
    {
      "cell_type": "code",
      "metadata": {
        "colab": {
          "base_uri": "https://localhost:8080/"
        },
        "id": "zOCADj0-VER6",
        "outputId": "72320b74-ef8a-49d3-a662-78bcfe11a2ba"
      },
      "source": [
        "temp_2021_2025.date.min()"
      ],
      "execution_count": 485,
      "outputs": [
        {
          "output_type": "execute_result",
          "data": {
            "text/plain": [
              "Timestamp('2022-01-01 00:00:00')"
            ]
          },
          "metadata": {},
          "execution_count": 485
        }
      ]
    },
    {
      "cell_type": "code",
      "metadata": {
        "colab": {
          "base_uri": "https://localhost:8080/"
        },
        "id": "nDJtII02VHW4",
        "outputId": "3a8ce624-f2c6-4220-e5ca-219adfddcdfe"
      },
      "source": [
        "temp_2021_2025.date.max()"
      ],
      "execution_count": 486,
      "outputs": [
        {
          "output_type": "execute_result",
          "data": {
            "text/plain": [
              "Timestamp('2025-12-31 00:00:00')"
            ]
          },
          "metadata": {},
          "execution_count": 486
        }
      ]
    },
    {
      "cell_type": "code",
      "metadata": {
        "colab": {
          "base_uri": "https://localhost:8080/"
        },
        "id": "TqNtWEMYVKzT",
        "outputId": "dab07ec6-9d59-4e71-a85e-e2f5f1e7b717"
      },
      "source": [
        "temp_2021_2025.info()"
      ],
      "execution_count": 487,
      "outputs": [
        {
          "output_type": "stream",
          "name": "stdout",
          "text": [
            "<class 'pandas.core.frame.DataFrame'>\n",
            "Int64Index: 1461 entries, 26831 to 28291\n",
            "Data columns (total 5 columns):\n",
            " #   Column      Non-Null Count  Dtype         \n",
            "---  ------      --------------  -----         \n",
            " 0   date        1461 non-null   datetime64[ns]\n",
            " 1   min         0 non-null      float64       \n",
            " 2   max         0 non-null      float64       \n",
            " 3   normal_min  1461 non-null   float64       \n",
            " 4   normal_max  1461 non-null   float64       \n",
            "dtypes: datetime64[ns](1), float64(4)\n",
            "memory usage: 68.5 KB\n"
          ]
        }
      ]
    },
    {
      "cell_type": "code",
      "metadata": {
        "id": "SqD5I5xoZi-2"
      },
      "source": [
        "Year = []\n",
        "AvgMinimum = []\n",
        "AvgMax = []\n",
        "SumMin = 0.0\n",
        "SumMax = 0.0\n",
        "DayCount = 0.0\n",
        "for i in temp_2021_2025.groupby(['date']).date:\n",
        "  \n",
        "  if not str(temp_2021_2025['normal_min'].loc[i[1].index[0]]) == 'nan':\n",
        "    \n",
        "    if not (i[0].year in Year):\n",
        "      \n",
        "      if DayCount > 0:\n",
        "        AvgMinimum.append(SumMin/DayCount)\n",
        "        AvgMax.append(SumMax/DayCount)\n",
        "      \n",
        "      SumMin = 0\n",
        "      SumMax = 0\n",
        "      DayCount = 0\n",
        "      Year.append(i[0].year)\n",
        "    \n",
        "    SumMin+=temp_2021_2025['normal_min'].loc[i[1].index[0]]\n",
        "    SumMax+=temp_2021_2025['normal_max'].loc[i[1].index[0]]\n",
        "    DayCount+=1\n",
        "AvgMinimum.append(SumMin/DayCount)\n",
        "AvgMax.append(SumMax/DayCount)"
      ],
      "execution_count": 488,
      "outputs": []
    },
    {
      "cell_type": "code",
      "metadata": {
        "colab": {
          "base_uri": "https://localhost:8080/"
        },
        "id": "4E3-XVszpUUb",
        "outputId": "0726f719-c875-4c54-f624-95a6128ee4b7"
      },
      "source": [
        "Year"
      ],
      "execution_count": 489,
      "outputs": [
        {
          "output_type": "execute_result",
          "data": {
            "text/plain": [
              "[2022, 2023, 2024, 2025]"
            ]
          },
          "metadata": {},
          "execution_count": 489
        }
      ]
    },
    {
      "cell_type": "code",
      "metadata": {
        "colab": {
          "base_uri": "https://localhost:8080/",
          "height": 621
        },
        "id": "h-Hlkz4zaAlB",
        "outputId": "e588e526-eab4-4911-b395-591bf81ecf0d"
      },
      "source": [
        "Year_Axis = np.arange(len(Year))\n",
        "plt.figure(figsize=(10,10))\n",
        "plt.bar(Year_Axis-0.2,AvgMinimum,0.4,label='Avg Minimum Temperature in F')\n",
        "plt.bar(Year_Axis+0.2,AvgMax,0.4,label='Avg Maximum Temperature in F')\n",
        "plt.xticks(Year_Axis,Year)\n",
        "plt.xlabel('Year')\n",
        "plt.ylabel('Average Temperature')\n",
        "plt.title('Temperature change across years')\n",
        "plt.legend()\n",
        "plt.show()\n"
      ],
      "execution_count": 490,
      "outputs": [
        {
          "output_type": "display_data",
          "data": {
            "image/png": "[encoded data removed]",
            "text/plain": [
              "<Figure size 720x720 with 1 Axes>"
            ]
          },
          "metadata": {
            "needs_background": "light"
          }
        }
      ]
    },
    {
      "cell_type": "code",
      "metadata": {
        "id": "fL5vHn0nb1uu",
        "colab": {
          "base_uri": "https://localhost:8080/",
          "height": 298
        },
        "outputId": "b4bf0feb-349b-41ad-feff-4701ecef7382"
      },
      "source": [
        "pd.Series(AvgMinimum,index=[str(i) for i in Year]).plot()\n",
        "plt.title('Average Normal Minimum Temprature across years 2021 to 2025')"
      ],
      "execution_count": 491,
      "outputs": [
        {
          "output_type": "execute_result",
          "data": {
            "text/plain": [
              "Text(0.5, 1.0, 'Average Normal Minimum Temprature across years 2021 to 2025')"
            ]
          },
          "metadata": {},
          "execution_count": 491
        },
        {
          "output_type": "display_data",
          "data": {
            "image/png": "[encoded data removed]",
            "text/plain": [
              "<Figure size 432x288 with 1 Axes>"
            ]
          },
          "metadata": {
            "needs_background": "light"
          }
        }
      ]
    },
    {
      "cell_type": "code",
      "metadata": {
        "colab": {
          "base_uri": "https://localhost:8080/",
          "height": 298
        },
        "id": "y5vof15NrQmS",
        "outputId": "d8296282-729a-4119-fcc2-5b34c050668b"
      },
      "source": [
        "pd.Series(AvgMax,index=[str(i) for i in Year]).plot()\n",
        "plt.title('Average Normal Maximum Temprature across years 2021 to 2025')"
      ],
      "execution_count": 492,
      "outputs": [
        {
          "output_type": "execute_result",
          "data": {
            "text/plain": [
              "Text(0.5, 1.0, 'Average Normal Maximum Temprature across years 2021 to 2025')"
            ]
          },
          "metadata": {},
          "execution_count": 492
        },
        {
          "output_type": "display_data",
          "data": {
            "image/png": "[encoded data removed]",
            "text/plain": [
              "<Figure size 432x288 with 1 Axes>"
            ]
          },
          "metadata": {
            "needs_background": "light"
          }
        }
      ]
    },
    {
      "cell_type": "code",
      "metadata": {
        "colab": {
          "base_uri": "https://localhost:8080/"
        },
        "id": "H0HZ5otGr7Ds",
        "outputId": "6c641a62-f2b0-42c5-fd6b-84fa15597042"
      },
      "source": [
        "AvgMinimum"
      ],
      "execution_count": 493,
      "outputs": [
        {
          "output_type": "execute_result",
          "data": {
            "text/plain": [
              "[47.11835616438357, 47.11835616438357, 47.07131147540984, 47.11835616438357]"
            ]
          },
          "metadata": {},
          "execution_count": 493
        }
      ]
    },
    {
      "cell_type": "code",
      "metadata": {
        "id": "uWNnT4KysZb2",
        "colab": {
          "base_uri": "https://localhost:8080/"
        },
        "outputId": "e01331d5-b9e6-45f1-c999-9314993ab6f7"
      },
      "source": [
        "AvgMax"
      ],
      "execution_count": 494,
      "outputs": [
        {
          "output_type": "execute_result",
          "data": {
            "text/plain": [
              "[61.75232876712328, 61.75232876712328, 61.70546448087431, 61.75232876712328]"
            ]
          },
          "metadata": {},
          "execution_count": 494
        }
      ]
    },
    {
      "cell_type": "markdown",
      "metadata": {
        "id": "2-PhPi7BdGgi"
      },
      "source": [
        "### Precipitation"
      ]
    },
    {
      "cell_type": "code",
      "metadata": {
        "id": "MN3yy7kusbJD"
      },
      "source": [
        "Pre_2021_2025 = Per[Per['date']>datetime(2021,12,31)]"
      ],
      "execution_count": 495,
      "outputs": []
    },
    {
      "cell_type": "code",
      "metadata": {
        "colab": {
          "base_uri": "https://localhost:8080/",
          "height": 0
        },
        "id": "MAkBmHLZe4-K",
        "outputId": "eaef8d86-cab7-42fb-b572-5df26503a0aa"
      },
      "source": [
        "Pre_2021_2025"
      ],
      "execution_count": 496,
      "outputs": [
        {
          "output_type": "execute_result",
          "data": {
            "text/html": [
              "<div>\n",
              "<style scoped>\n",
              "    .dataframe tbody tr th:only-of-type {\n",
              "        vertical-align: middle;\n",
              "    }\n",
              "\n",
              "    .dataframe tbody tr th {\n",
              "        vertical-align: top;\n",
              "    }\n",
              "\n",
              "    .dataframe thead th {\n",
              "        text-align: right;\n",
              "    }\n",
              "</style>\n",
              "<table border=\"1\" class=\"dataframe\">\n",
              "  <thead>\n",
              "    <tr style=\"text-align: right;\">\n",
              "      <th></th>\n",
              "      <th>date</th>\n",
              "      <th>precipitation</th>\n",
              "      <th>precipitation_normal</th>\n",
              "    </tr>\n",
              "  </thead>\n",
              "  <tbody>\n",
              "    <tr>\n",
              "      <th>26831</th>\n",
              "      <td>2022-01-01</td>\n",
              "      <td>NaN</td>\n",
              "      <td>0.10</td>\n",
              "    </tr>\n",
              "    <tr>\n",
              "      <th>26832</th>\n",
              "      <td>2022-01-02</td>\n",
              "      <td>NaN</td>\n",
              "      <td>0.21</td>\n",
              "    </tr>\n",
              "    <tr>\n",
              "      <th>26833</th>\n",
              "      <td>2022-01-03</td>\n",
              "      <td>NaN</td>\n",
              "      <td>0.31</td>\n",
              "    </tr>\n",
              "    <tr>\n",
              "      <th>26834</th>\n",
              "      <td>2022-01-04</td>\n",
              "      <td>NaN</td>\n",
              "      <td>0.43</td>\n",
              "    </tr>\n",
              "    <tr>\n",
              "      <th>26835</th>\n",
              "      <td>2022-01-05</td>\n",
              "      <td>NaN</td>\n",
              "      <td>0.54</td>\n",
              "    </tr>\n",
              "    <tr>\n",
              "      <th>...</th>\n",
              "      <td>...</td>\n",
              "      <td>...</td>\n",
              "      <td>...</td>\n",
              "    </tr>\n",
              "    <tr>\n",
              "      <th>28287</th>\n",
              "      <td>2025-12-27</td>\n",
              "      <td>NaN</td>\n",
              "      <td>42.84</td>\n",
              "    </tr>\n",
              "    <tr>\n",
              "      <th>28288</th>\n",
              "      <td>2025-12-28</td>\n",
              "      <td>NaN</td>\n",
              "      <td>42.95</td>\n",
              "    </tr>\n",
              "    <tr>\n",
              "      <th>28289</th>\n",
              "      <td>2025-12-29</td>\n",
              "      <td>NaN</td>\n",
              "      <td>43.07</td>\n",
              "    </tr>\n",
              "    <tr>\n",
              "      <th>28290</th>\n",
              "      <td>2025-12-30</td>\n",
              "      <td>NaN</td>\n",
              "      <td>43.18</td>\n",
              "    </tr>\n",
              "    <tr>\n",
              "      <th>28291</th>\n",
              "      <td>2025-12-31</td>\n",
              "      <td>NaN</td>\n",
              "      <td>43.29</td>\n",
              "    </tr>\n",
              "  </tbody>\n",
              "</table>\n",
              "<p>1461 rows × 3 columns</p>\n",
              "</div>"
            ],
            "text/plain": [
              "            date precipitation  precipitation_normal\n",
              "26831 2022-01-01           NaN                  0.10\n",
              "26832 2022-01-02           NaN                  0.21\n",
              "26833 2022-01-03           NaN                  0.31\n",
              "26834 2022-01-04           NaN                  0.43\n",
              "26835 2022-01-05           NaN                  0.54\n",
              "...          ...           ...                   ...\n",
              "28287 2025-12-27           NaN                 42.84\n",
              "28288 2025-12-28           NaN                 42.95\n",
              "28289 2025-12-29           NaN                 43.07\n",
              "28290 2025-12-30           NaN                 43.18\n",
              "28291 2025-12-31           NaN                 43.29\n",
              "\n",
              "[1461 rows x 3 columns]"
            ]
          },
          "metadata": {},
          "execution_count": 496
        }
      ]
    },
    {
      "cell_type": "code",
      "metadata": {
        "colab": {
          "base_uri": "https://localhost:8080/"
        },
        "id": "in5JmZxKe6Ml",
        "outputId": "39cbe3d1-3f41-4d3f-a0d6-7a980a722de2"
      },
      "source": [
        "Pre_2021_2025.precipitation_normal.isna().sum()"
      ],
      "execution_count": 497,
      "outputs": [
        {
          "output_type": "execute_result",
          "data": {
            "text/plain": [
              "0"
            ]
          },
          "metadata": {},
          "execution_count": 497
        }
      ]
    },
    {
      "cell_type": "code",
      "metadata": {
        "id": "arL72Wz7fUsS"
      },
      "source": [
        "Pre_Nom = []\n",
        "for i in Pre_2021_2025['precipitation_normal'].values:\n",
        "  Pre_Nom.append(float(i))\n"
      ],
      "execution_count": 498,
      "outputs": []
    },
    {
      "cell_type": "code",
      "metadata": {
        "id": "ypWbfpQwgugI",
        "colab": {
          "base_uri": "https://localhost:8080/"
        },
        "outputId": "aa3c633e-973e-43ce-bc2d-50305872c5b2"
      },
      "source": [
        "Pre_Nom"
      ],
      "execution_count": 499,
      "outputs": [
        {
          "output_type": "execute_result",
          "data": {
            "text/plain": [
              "[0.1,\n",
              " 0.21,\n",
              " 0.31,\n",
              " 0.43,\n",
              " 0.54,\n",
              " 0.65,\n",
              " 0.76,\n",
              " 0.86,\n",
              " 0.97,\n",
              " 1.08,\n",
              " 1.19,\n",
              " 1.3,\n",
              " 1.41,\n",
              " 1.52,\n",
              " 1.63,\n",
              " 1.73,\n",
              " 1.84,\n",
              " 1.94,\n",
              " 2.03,\n",
              " 2.13,\n",
              " 2.24,\n",
              " 2.34,\n",
              " 2.44,\n",
              " 2.54,\n",
              " 2.64,\n",
              " 2.74,\n",
              " 2.83,\n",
              " 2.93,\n",
              " 3.03,\n",
              " 3.13,\n",
              " 3.23,\n",
              " 3.33,\n",
              " 3.43,\n",
              " 3.52,\n",
              " 3.62,\n",
              " 3.71,\n",
              " 3.81,\n",
              " 3.9,\n",
              " 3.98,\n",
              " 4.07,\n",
              " 4.16,\n",
              " 4.25,\n",
              " 4.35,\n",
              " 4.44,\n",
              " 4.53,\n",
              " 4.63,\n",
              " 4.73,\n",
              " 4.84,\n",
              " 4.94,\n",
              " 5.04,\n",
              " 5.14,\n",
              " 5.25,\n",
              " 5.35,\n",
              " 5.45,\n",
              " 5.56,\n",
              " 5.67,\n",
              " 5.77,\n",
              " 5.88,\n",
              " 5.99,\n",
              " 6.11,\n",
              " 6.23,\n",
              " 6.35,\n",
              " 6.47,\n",
              " 6.59,\n",
              " 6.71,\n",
              " 6.84,\n",
              " 6.96,\n",
              " 7.09,\n",
              " 7.22,\n",
              " 7.34,\n",
              " 7.46,\n",
              " 7.58,\n",
              " 7.71,\n",
              " 7.84,\n",
              " 7.98,\n",
              " 8.11,\n",
              " 8.24,\n",
              " 8.38,\n",
              " 8.51,\n",
              " 8.65,\n",
              " 8.78,\n",
              " 8.91,\n",
              " 9.03,\n",
              " 9.16,\n",
              " 9.29,\n",
              " 9.42,\n",
              " 9.54,\n",
              " 9.67,\n",
              " 9.8,\n",
              " 9.93,\n",
              " 10.05,\n",
              " 10.17,\n",
              " 10.29,\n",
              " 10.41,\n",
              " 10.52,\n",
              " 10.63,\n",
              " 10.74,\n",
              " 10.86,\n",
              " 10.99,\n",
              " 11.11,\n",
              " 11.23,\n",
              " 11.36,\n",
              " 11.47,\n",
              " 11.59,\n",
              " 11.7,\n",
              " 11.81,\n",
              " 11.93,\n",
              " 12.04,\n",
              " 12.16,\n",
              " 12.28,\n",
              " 12.4,\n",
              " 12.52,\n",
              " 12.64,\n",
              " 12.76,\n",
              " 12.88,\n",
              " 13.0,\n",
              " 13.12,\n",
              " 13.24,\n",
              " 13.36,\n",
              " 13.48,\n",
              " 13.59,\n",
              " 13.7,\n",
              " 13.82,\n",
              " 13.94,\n",
              " 14.06,\n",
              " 14.18,\n",
              " 14.3,\n",
              " 14.41,\n",
              " 14.53,\n",
              " 14.64,\n",
              " 14.75,\n",
              " 14.86,\n",
              " 14.97,\n",
              " 15.09,\n",
              " 15.2,\n",
              " 15.3,\n",
              " 15.42,\n",
              " 15.53,\n",
              " 15.64,\n",
              " 15.76,\n",
              " 15.88,\n",
              " 16.0,\n",
              " 16.13,\n",
              " 16.26,\n",
              " 16.38,\n",
              " 16.51,\n",
              " 16.63,\n",
              " 16.75,\n",
              " 16.88,\n",
              " 17.01,\n",
              " 17.14,\n",
              " 17.28,\n",
              " 17.42,\n",
              " 17.56,\n",
              " 17.7,\n",
              " 17.84,\n",
              " 17.98,\n",
              " 18.13,\n",
              " 18.27,\n",
              " 18.41,\n",
              " 18.55,\n",
              " 18.7,\n",
              " 18.84,\n",
              " 18.98,\n",
              " 19.12,\n",
              " 19.26,\n",
              " 19.39,\n",
              " 19.52,\n",
              " 19.64,\n",
              " 19.76,\n",
              " 19.88,\n",
              " 20.0,\n",
              " 20.11,\n",
              " 20.22,\n",
              " 20.33,\n",
              " 20.45,\n",
              " 20.56,\n",
              " 20.67,\n",
              " 20.77,\n",
              " 20.88,\n",
              " 20.99,\n",
              " 21.11,\n",
              " 21.22,\n",
              " 21.33,\n",
              " 21.44,\n",
              " 21.54,\n",
              " 21.65,\n",
              " 21.75,\n",
              " 21.86,\n",
              " 21.98,\n",
              " 22.1,\n",
              " 22.22,\n",
              " 22.34,\n",
              " 22.47,\n",
              " 22.6,\n",
              " 22.73,\n",
              " 22.86,\n",
              " 22.99,\n",
              " 23.13,\n",
              " 23.26,\n",
              " 23.4,\n",
              " 23.52,\n",
              " 23.65,\n",
              " 23.78,\n",
              " 23.91,\n",
              " 24.04,\n",
              " 24.17,\n",
              " 24.3,\n",
              " 24.43,\n",
              " 24.56,\n",
              " 24.7,\n",
              " 24.85,\n",
              " 24.98,\n",
              " 25.12,\n",
              " 25.26,\n",
              " 25.4,\n",
              " 25.55,\n",
              " 25.69,\n",
              " 25.84,\n",
              " 25.99,\n",
              " 26.13,\n",
              " 26.27,\n",
              " 26.4,\n",
              " 26.53,\n",
              " 26.67,\n",
              " 26.8,\n",
              " 26.94,\n",
              " 27.07,\n",
              " 27.2,\n",
              " 27.33,\n",
              " 27.47,\n",
              " 27.6,\n",
              " 27.73,\n",
              " 27.86,\n",
              " 27.99,\n",
              " 28.12,\n",
              " 28.26,\n",
              " 28.38,\n",
              " 28.51,\n",
              " 28.63,\n",
              " 28.74,\n",
              " 28.85,\n",
              " 28.96,\n",
              " 29.08,\n",
              " 29.19,\n",
              " 29.31,\n",
              " 29.43,\n",
              " 29.53,\n",
              " 29.64,\n",
              " 29.74,\n",
              " 29.85,\n",
              " 29.96,\n",
              " 30.07,\n",
              " 30.17,\n",
              " 30.28,\n",
              " 30.4,\n",
              " 30.52,\n",
              " 30.64,\n",
              " 30.77,\n",
              " 30.89,\n",
              " 31.02,\n",
              " 31.15,\n",
              " 31.28,\n",
              " 31.4,\n",
              " 31.53,\n",
              " 31.65,\n",
              " 31.77,\n",
              " 31.89,\n",
              " 32.01,\n",
              " 32.13,\n",
              " 32.27,\n",
              " 32.4,\n",
              " 32.54,\n",
              " 32.67,\n",
              " 32.79,\n",
              " 32.92,\n",
              " 33.04,\n",
              " 33.17,\n",
              " 33.3,\n",
              " 33.43,\n",
              " 33.55,\n",
              " 33.68,\n",
              " 33.81,\n",
              " 33.93,\n",
              " 34.05,\n",
              " 34.16,\n",
              " 34.28,\n",
              " 34.4,\n",
              " 34.53,\n",
              " 34.64,\n",
              " 34.76,\n",
              " 34.88,\n",
              " 35.0,\n",
              " 35.13,\n",
              " 35.25,\n",
              " 35.37,\n",
              " 35.49,\n",
              " 35.61,\n",
              " 35.73,\n",
              " 35.84,\n",
              " 35.95,\n",
              " 36.05,\n",
              " 36.16,\n",
              " 36.26,\n",
              " 36.36,\n",
              " 36.46,\n",
              " 36.56,\n",
              " 36.65,\n",
              " 36.75,\n",
              " 36.84,\n",
              " 36.94,\n",
              " 37.04,\n",
              " 37.14,\n",
              " 37.24,\n",
              " 37.33,\n",
              " 37.43,\n",
              " 37.53,\n",
              " 37.62,\n",
              " 37.72,\n",
              " 37.82,\n",
              " 37.91,\n",
              " 38.01,\n",
              " 38.11,\n",
              " 38.21,\n",
              " 38.31,\n",
              " 38.42,\n",
              " 38.53,\n",
              " 38.63,\n",
              " 38.74,\n",
              " 38.85,\n",
              " 38.97,\n",
              " 39.09,\n",
              " 39.21,\n",
              " 39.33,\n",
              " 39.46,\n",
              " 39.59,\n",
              " 39.73,\n",
              " 39.86,\n",
              " 40.0,\n",
              " 40.14,\n",
              " 40.27,\n",
              " 40.4,\n",
              " 40.54,\n",
              " 40.67,\n",
              " 40.81,\n",
              " 40.94,\n",
              " 41.07,\n",
              " 41.2,\n",
              " 41.33,\n",
              " 41.46,\n",
              " 41.59,\n",
              " 41.72,\n",
              " 41.85,\n",
              " 41.98,\n",
              " 42.11,\n",
              " 42.24,\n",
              " 42.36,\n",
              " 42.49,\n",
              " 42.61,\n",
              " 42.72,\n",
              " 42.84,\n",
              " 42.95,\n",
              " 43.07,\n",
              " 43.18,\n",
              " 43.29,\n",
              " 0.1,\n",
              " 0.21,\n",
              " 0.31,\n",
              " 0.43,\n",
              " 0.54,\n",
              " 0.65,\n",
              " 0.76,\n",
              " 0.86,\n",
              " 0.97,\n",
              " 1.08,\n",
              " 1.19,\n",
              " 1.3,\n",
              " 1.41,\n",
              " 1.52,\n",
              " 1.63,\n",
              " 1.73,\n",
              " 1.84,\n",
              " 1.94,\n",
              " 2.03,\n",
              " 2.13,\n",
              " 2.24,\n",
              " 2.34,\n",
              " 2.44,\n",
              " 2.54,\n",
              " 2.64,\n",
              " 2.74,\n",
              " 2.83,\n",
              " 2.93,\n",
              " 3.03,\n",
              " 3.13,\n",
              " 3.23,\n",
              " 3.33,\n",
              " 3.43,\n",
              " 3.52,\n",
              " 3.62,\n",
              " 3.71,\n",
              " 3.81,\n",
              " 3.9,\n",
              " 3.98,\n",
              " 4.07,\n",
              " 4.16,\n",
              " 4.25,\n",
              " 4.35,\n",
              " 4.44,\n",
              " 4.53,\n",
              " 4.63,\n",
              " 4.73,\n",
              " 4.84,\n",
              " 4.94,\n",
              " 5.04,\n",
              " 5.14,\n",
              " 5.25,\n",
              " 5.35,\n",
              " 5.45,\n",
              " 5.56,\n",
              " 5.67,\n",
              " 5.77,\n",
              " 5.88,\n",
              " 5.99,\n",
              " 6.11,\n",
              " 6.23,\n",
              " 6.35,\n",
              " 6.47,\n",
              " 6.59,\n",
              " 6.71,\n",
              " 6.84,\n",
              " 6.96,\n",
              " 7.09,\n",
              " 7.22,\n",
              " 7.34,\n",
              " 7.46,\n",
              " 7.58,\n",
              " 7.71,\n",
              " 7.84,\n",
              " 7.98,\n",
              " 8.11,\n",
              " 8.24,\n",
              " 8.38,\n",
              " 8.51,\n",
              " 8.65,\n",
              " 8.78,\n",
              " 8.91,\n",
              " 9.03,\n",
              " 9.16,\n",
              " 9.29,\n",
              " 9.42,\n",
              " 9.54,\n",
              " 9.67,\n",
              " 9.8,\n",
              " 9.93,\n",
              " 10.05,\n",
              " 10.17,\n",
              " 10.29,\n",
              " 10.41,\n",
              " 10.52,\n",
              " 10.63,\n",
              " 10.74,\n",
              " 10.86,\n",
              " 10.99,\n",
              " 11.11,\n",
              " 11.23,\n",
              " 11.36,\n",
              " 11.47,\n",
              " 11.59,\n",
              " 11.7,\n",
              " 11.81,\n",
              " 11.93,\n",
              " 12.04,\n",
              " 12.16,\n",
              " 12.28,\n",
              " 12.4,\n",
              " 12.52,\n",
              " 12.64,\n",
              " 12.76,\n",
              " 12.88,\n",
              " 13.0,\n",
              " 13.12,\n",
              " 13.24,\n",
              " 13.36,\n",
              " 13.48,\n",
              " 13.59,\n",
              " 13.7,\n",
              " 13.82,\n",
              " 13.94,\n",
              " 14.06,\n",
              " 14.18,\n",
              " 14.3,\n",
              " 14.41,\n",
              " 14.53,\n",
              " 14.64,\n",
              " 14.75,\n",
              " 14.86,\n",
              " 14.97,\n",
              " 15.09,\n",
              " 15.2,\n",
              " 15.3,\n",
              " 15.42,\n",
              " 15.53,\n",
              " 15.64,\n",
              " 15.76,\n",
              " 15.88,\n",
              " 16.0,\n",
              " 16.13,\n",
              " 16.26,\n",
              " 16.38,\n",
              " 16.51,\n",
              " 16.63,\n",
              " 16.75,\n",
              " 16.88,\n",
              " 17.01,\n",
              " 17.14,\n",
              " 17.28,\n",
              " 17.42,\n",
              " 17.56,\n",
              " 17.7,\n",
              " 17.84,\n",
              " 17.98,\n",
              " 18.13,\n",
              " 18.27,\n",
              " 18.41,\n",
              " 18.55,\n",
              " 18.7,\n",
              " 18.84,\n",
              " 18.98,\n",
              " 19.12,\n",
              " 19.26,\n",
              " 19.39,\n",
              " 19.52,\n",
              " 19.64,\n",
              " 19.76,\n",
              " 19.88,\n",
              " 20.0,\n",
              " 20.11,\n",
              " 20.22,\n",
              " 20.33,\n",
              " 20.45,\n",
              " 20.56,\n",
              " 20.67,\n",
              " 20.77,\n",
              " 20.88,\n",
              " 20.99,\n",
              " 21.11,\n",
              " 21.22,\n",
              " 21.33,\n",
              " 21.44,\n",
              " 21.54,\n",
              " 21.65,\n",
              " 21.75,\n",
              " 21.86,\n",
              " 21.98,\n",
              " 22.1,\n",
              " 22.22,\n",
              " 22.34,\n",
              " 22.47,\n",
              " 22.6,\n",
              " 22.73,\n",
              " 22.86,\n",
              " 22.99,\n",
              " 23.13,\n",
              " 23.26,\n",
              " 23.4,\n",
              " 23.52,\n",
              " 23.65,\n",
              " 23.78,\n",
              " 23.91,\n",
              " 24.04,\n",
              " 24.17,\n",
              " 24.3,\n",
              " 24.43,\n",
              " 24.56,\n",
              " 24.7,\n",
              " 24.85,\n",
              " 24.98,\n",
              " 25.12,\n",
              " 25.26,\n",
              " 25.4,\n",
              " 25.55,\n",
              " 25.69,\n",
              " 25.84,\n",
              " 25.99,\n",
              " 26.13,\n",
              " 26.27,\n",
              " 26.4,\n",
              " 26.53,\n",
              " 26.67,\n",
              " 26.8,\n",
              " 26.94,\n",
              " 27.07,\n",
              " 27.2,\n",
              " 27.33,\n",
              " 27.47,\n",
              " 27.6,\n",
              " 27.73,\n",
              " 27.86,\n",
              " 27.99,\n",
              " 28.12,\n",
              " 28.26,\n",
              " 28.38,\n",
              " 28.51,\n",
              " 28.63,\n",
              " 28.74,\n",
              " 28.85,\n",
              " 28.96,\n",
              " 29.08,\n",
              " 29.19,\n",
              " 29.31,\n",
              " 29.43,\n",
              " 29.53,\n",
              " 29.64,\n",
              " 29.74,\n",
              " 29.85,\n",
              " 29.96,\n",
              " 30.07,\n",
              " 30.17,\n",
              " 30.28,\n",
              " 30.4,\n",
              " 30.52,\n",
              " 30.64,\n",
              " 30.77,\n",
              " 30.89,\n",
              " 31.02,\n",
              " 31.15,\n",
              " 31.28,\n",
              " 31.4,\n",
              " 31.53,\n",
              " 31.65,\n",
              " 31.77,\n",
              " 31.89,\n",
              " 32.01,\n",
              " 32.13,\n",
              " 32.27,\n",
              " 32.4,\n",
              " 32.54,\n",
              " 32.67,\n",
              " 32.79,\n",
              " 32.92,\n",
              " 33.04,\n",
              " 33.17,\n",
              " 33.3,\n",
              " 33.43,\n",
              " 33.55,\n",
              " 33.68,\n",
              " 33.81,\n",
              " 33.93,\n",
              " 34.05,\n",
              " 34.16,\n",
              " 34.28,\n",
              " 34.4,\n",
              " 34.53,\n",
              " 34.64,\n",
              " 34.76,\n",
              " 34.88,\n",
              " 35.0,\n",
              " 35.13,\n",
              " 35.25,\n",
              " 35.37,\n",
              " 35.49,\n",
              " 35.61,\n",
              " 35.73,\n",
              " 35.84,\n",
              " 35.95,\n",
              " 36.05,\n",
              " 36.16,\n",
              " 36.26,\n",
              " 36.36,\n",
              " 36.46,\n",
              " 36.56,\n",
              " 36.65,\n",
              " 36.75,\n",
              " 36.84,\n",
              " 36.94,\n",
              " 37.04,\n",
              " 37.14,\n",
              " 37.24,\n",
              " 37.33,\n",
              " 37.43,\n",
              " 37.53,\n",
              " 37.62,\n",
              " 37.72,\n",
              " 37.82,\n",
              " 37.91,\n",
              " 38.01,\n",
              " 38.11,\n",
              " 38.21,\n",
              " 38.31,\n",
              " 38.42,\n",
              " 38.53,\n",
              " 38.63,\n",
              " 38.74,\n",
              " 38.85,\n",
              " 38.97,\n",
              " 39.09,\n",
              " 39.21,\n",
              " 39.33,\n",
              " 39.46,\n",
              " 39.59,\n",
              " 39.73,\n",
              " 39.86,\n",
              " 40.0,\n",
              " 40.14,\n",
              " 40.27,\n",
              " 40.4,\n",
              " 40.54,\n",
              " 40.67,\n",
              " 40.81,\n",
              " 40.94,\n",
              " 41.07,\n",
              " 41.2,\n",
              " 41.33,\n",
              " 41.46,\n",
              " 41.59,\n",
              " 41.72,\n",
              " 41.85,\n",
              " 41.98,\n",
              " 42.11,\n",
              " 42.24,\n",
              " 42.36,\n",
              " 42.49,\n",
              " 42.61,\n",
              " 42.72,\n",
              " 42.84,\n",
              " 42.95,\n",
              " 43.07,\n",
              " 43.18,\n",
              " 43.29,\n",
              " 0.1,\n",
              " 0.21,\n",
              " 0.31,\n",
              " 0.43,\n",
              " 0.54,\n",
              " 0.65,\n",
              " 0.76,\n",
              " 0.86,\n",
              " 0.97,\n",
              " 1.08,\n",
              " 1.19,\n",
              " 1.3,\n",
              " 1.41,\n",
              " 1.52,\n",
              " 1.63,\n",
              " 1.73,\n",
              " 1.84,\n",
              " 1.94,\n",
              " 2.03,\n",
              " 2.13,\n",
              " 2.24,\n",
              " 2.34,\n",
              " 2.44,\n",
              " 2.54,\n",
              " 2.64,\n",
              " 2.74,\n",
              " 2.83,\n",
              " 2.93,\n",
              " 3.03,\n",
              " 3.13,\n",
              " 3.23,\n",
              " 3.33,\n",
              " 3.43,\n",
              " 3.52,\n",
              " 3.62,\n",
              " 3.71,\n",
              " 3.81,\n",
              " 3.9,\n",
              " 3.98,\n",
              " 4.07,\n",
              " 4.16,\n",
              " 4.25,\n",
              " 4.35,\n",
              " 4.44,\n",
              " 4.53,\n",
              " 4.63,\n",
              " 4.73,\n",
              " 4.84,\n",
              " 4.94,\n",
              " 5.04,\n",
              " 5.14,\n",
              " 5.25,\n",
              " 5.35,\n",
              " 5.45,\n",
              " 5.56,\n",
              " 5.67,\n",
              " 5.77,\n",
              " 5.88,\n",
              " 5.99,\n",
              " 5.99,\n",
              " 6.11,\n",
              " 6.23,\n",
              " 6.35,\n",
              " 6.47,\n",
              " 6.59,\n",
              " 6.71,\n",
              " 6.84,\n",
              " 6.96,\n",
              " 7.09,\n",
              " 7.22,\n",
              " 7.34,\n",
              " 7.46,\n",
              " 7.58,\n",
              " 7.71,\n",
              " 7.84,\n",
              " 7.98,\n",
              " 8.11,\n",
              " 8.24,\n",
              " 8.38,\n",
              " 8.51,\n",
              " 8.65,\n",
              " 8.78,\n",
              " 8.91,\n",
              " 9.03,\n",
              " 9.16,\n",
              " 9.29,\n",
              " 9.42,\n",
              " 9.54,\n",
              " 9.67,\n",
              " 9.8,\n",
              " 9.93,\n",
              " 10.05,\n",
              " 10.17,\n",
              " 10.29,\n",
              " 10.41,\n",
              " 10.52,\n",
              " 10.63,\n",
              " 10.74,\n",
              " 10.86,\n",
              " 10.99,\n",
              " 11.11,\n",
              " 11.23,\n",
              " 11.36,\n",
              " 11.47,\n",
              " 11.59,\n",
              " 11.7,\n",
              " 11.81,\n",
              " 11.93,\n",
              " 12.04,\n",
              " 12.16,\n",
              " 12.28,\n",
              " 12.4,\n",
              " 12.52,\n",
              " 12.64,\n",
              " 12.76,\n",
              " 12.88,\n",
              " 13.0,\n",
              " 13.12,\n",
              " 13.24,\n",
              " 13.36,\n",
              " 13.48,\n",
              " 13.59,\n",
              " 13.7,\n",
              " 13.82,\n",
              " 13.94,\n",
              " 14.06,\n",
              " 14.18,\n",
              " 14.3,\n",
              " 14.41,\n",
              " 14.53,\n",
              " 14.64,\n",
              " 14.75,\n",
              " 14.86,\n",
              " 14.97,\n",
              " 15.09,\n",
              " 15.2,\n",
              " 15.3,\n",
              " 15.42,\n",
              " 15.53,\n",
              " 15.64,\n",
              " 15.76,\n",
              " 15.88,\n",
              " 16.0,\n",
              " 16.13,\n",
              " 16.26,\n",
              " 16.38,\n",
              " 16.51,\n",
              " 16.63,\n",
              " 16.75,\n",
              " 16.88,\n",
              " 17.01,\n",
              " 17.14,\n",
              " 17.28,\n",
              " 17.42,\n",
              " 17.56,\n",
              " 17.7,\n",
              " 17.84,\n",
              " 17.98,\n",
              " 18.13,\n",
              " 18.27,\n",
              " 18.41,\n",
              " 18.55,\n",
              " 18.7,\n",
              " 18.84,\n",
              " 18.98,\n",
              " 19.12,\n",
              " 19.26,\n",
              " 19.39,\n",
              " 19.52,\n",
              " 19.64,\n",
              " 19.76,\n",
              " 19.88,\n",
              " 20.0,\n",
              " 20.11,\n",
              " 20.22,\n",
              " 20.33,\n",
              " 20.45,\n",
              " 20.56,\n",
              " 20.67,\n",
              " 20.77,\n",
              " 20.88,\n",
              " 20.99,\n",
              " 21.11,\n",
              " 21.22,\n",
              " 21.33,\n",
              " 21.44,\n",
              " 21.54,\n",
              " 21.65,\n",
              " 21.75,\n",
              " 21.86,\n",
              " 21.98,\n",
              " 22.1,\n",
              " 22.22,\n",
              " 22.34,\n",
              " 22.47,\n",
              " 22.6,\n",
              " 22.73,\n",
              " 22.86,\n",
              " 22.99,\n",
              " 23.13,\n",
              " 23.26,\n",
              " 23.4,\n",
              " 23.52,\n",
              " 23.65,\n",
              " 23.78,\n",
              " 23.91,\n",
              " 24.04,\n",
              " 24.17,\n",
              " 24.3,\n",
              " 24.43,\n",
              " 24.56,\n",
              " 24.7,\n",
              " 24.85,\n",
              " 24.98,\n",
              " 25.12,\n",
              " 25.26,\n",
              " 25.4,\n",
              " 25.55,\n",
              " 25.69,\n",
              " 25.84,\n",
              " 25.99,\n",
              " 26.13,\n",
              " 26.27,\n",
              " 26.4,\n",
              " 26.53,\n",
              " 26.67,\n",
              " 26.8,\n",
              " 26.94,\n",
              " 27.07,\n",
              " 27.2,\n",
              " 27.33,\n",
              " 27.47,\n",
              " 27.6,\n",
              " 27.73,\n",
              " 27.86,\n",
              " 27.99,\n",
              " 28.12,\n",
              " 28.26,\n",
              " 28.38,\n",
              " 28.51,\n",
              " 28.63,\n",
              " 28.74,\n",
              " 28.85,\n",
              " 28.96,\n",
              " 29.08,\n",
              " 29.19,\n",
              " 29.31,\n",
              " 29.43,\n",
              " 29.53,\n",
              " 29.64,\n",
              " 29.74,\n",
              " 29.85,\n",
              " 29.96,\n",
              " 30.07,\n",
              " 30.17,\n",
              " 30.28,\n",
              " 30.4,\n",
              " 30.52,\n",
              " 30.64,\n",
              " 30.77,\n",
              " 30.89,\n",
              " 31.02,\n",
              " 31.15,\n",
              " 31.28,\n",
              " 31.4,\n",
              " 31.53,\n",
              " 31.65,\n",
              " 31.77,\n",
              " 31.89,\n",
              " 32.01,\n",
              " ...]"
            ]
          },
          "metadata": {},
          "execution_count": 499
        }
      ]
    },
    {
      "cell_type": "code",
      "metadata": {
        "id": "a_4-h0fxfKsn"
      },
      "source": [
        "Pre_2021_2025 = pd.DataFrame({'date':Pre_2021_2025.date,'precipitation_normal':Pre_Nom})"
      ],
      "execution_count": 500,
      "outputs": []
    },
    {
      "cell_type": "code",
      "metadata": {
        "colab": {
          "base_uri": "https://localhost:8080/"
        },
        "id": "QE6GTW51fNo4",
        "outputId": "9e2b760b-be11-456f-e330-38663aae7ca4"
      },
      "source": [
        "Pre_2021_2025.info()"
      ],
      "execution_count": 501,
      "outputs": [
        {
          "output_type": "stream",
          "name": "stdout",
          "text": [
            "<class 'pandas.core.frame.DataFrame'>\n",
            "Int64Index: 1461 entries, 26831 to 28291\n",
            "Data columns (total 2 columns):\n",
            " #   Column                Non-Null Count  Dtype         \n",
            "---  ------                --------------  -----         \n",
            " 0   date                  1461 non-null   datetime64[ns]\n",
            " 1   precipitation_normal  1461 non-null   float64       \n",
            "dtypes: datetime64[ns](1), float64(1)\n",
            "memory usage: 34.2 KB\n"
          ]
        }
      ]
    },
    {
      "cell_type": "code",
      "metadata": {
        "id": "evClMN2EhTrc"
      },
      "source": [
        "Year = []\n",
        "AvgPer = []\n",
        "SumPer = 0.0\n",
        "DayCount = 0.0\n",
        "for i in Pre_2021_2025.groupby(['date']).date:\n",
        "  \n",
        "  if not (str(Pre_2021_2025['precipitation_normal'].loc[i[1].index[0]]) == 'nan' or str(Pre_2021_2025['precipitation_normal'].loc[i[1].index[0]]) == 'T'):\n",
        "    \n",
        "    if not (i[0].year in Year):\n",
        "      \n",
        "      if DayCount > 0:\n",
        "        AvgPer.append(SumPer/DayCount)\n",
        "        \n",
        "      \n",
        "      SumPer = 0\n",
        "      DayCount = 0\n",
        "      Year.append(i[0].year)\n",
        "    \n",
        "    SumPer+=float(Pre_2021_2025['precipitation_normal'].loc[i[1].index[0]])\n",
        "    DayCount+=1\n",
        "AvgPer.append(SumPer/DayCount)"
      ],
      "execution_count": 502,
      "outputs": []
    },
    {
      "cell_type": "code",
      "metadata": {
        "colab": {
          "base_uri": "https://localhost:8080/",
          "height": 0
        },
        "id": "USacGar7iJoc",
        "outputId": "0224afb3-8779-4d17-e8bc-cf06aa99255f"
      },
      "source": [
        "Year_Axis = np.arange(len(Year))\n",
        "plt.figure(figsize=(10,10))\n",
        "plt.bar(Year_Axis-0.2,AvgPer,0.4)\n",
        "plt.xticks(Year_Axis,Year)\n",
        "plt.xlabel('Year')\n",
        "plt.ylabel('Average Precipitation')\n",
        "plt.title('Avgerage Precipitation change across years')\n",
        "plt.legend()\n",
        "plt.show()"
      ],
      "execution_count": 503,
      "outputs": [
        {
          "output_type": "stream",
          "name": "stderr",
          "text": [
            "No handles with labels found to put in legend.\n"
          ]
        },
        {
          "output_type": "display_data",
          "data": {
            "image/png": "[encoded data removed]",
            "text/plain": [
              "<Figure size 720x720 with 1 Axes>"
            ]
          },
          "metadata": {
            "needs_background": "light"
          }
        }
      ]
    },
    {
      "cell_type": "code",
      "metadata": {
        "colab": {
          "base_uri": "https://localhost:8080/"
        },
        "id": "HWoEfLowiYnf",
        "outputId": "9a6d287a-bec0-433b-c8ac-ac7b8c86ad3b"
      },
      "source": [
        "AvgPer"
      ],
      "execution_count": 504,
      "outputs": [
        {
          "output_type": "execute_result",
          "data": {
            "text/plain": [
              "[21.353123287671238, 21.353123287671238, 21.31114754098361, 21.353123287671238]"
            ]
          },
          "metadata": {},
          "execution_count": 504
        }
      ]
    },
    {
      "cell_type": "code",
      "metadata": {
        "colab": {
          "base_uri": "https://localhost:8080/",
          "height": 0
        },
        "id": "GO_UVK16ifhg",
        "outputId": "52c2a4f0-1b84-4163-bd78-161454f1db83"
      },
      "source": [
        "pd.Series(AvgPer,index=[str(i) for i in Year]).plot()\n",
        "plt.title('Average Normal Precipitation Across years')"
      ],
      "execution_count": 505,
      "outputs": [
        {
          "output_type": "execute_result",
          "data": {
            "text/plain": [
              "Text(0.5, 1.0, 'Average Normal Precipitation Across years')"
            ]
          },
          "metadata": {},
          "execution_count": 505
        },
        {
          "output_type": "display_data",
          "data": {
            "image/png": "[encoded data removed]",
            "text/plain": [
              "<Figure size 432x288 with 1 Axes>"
            ]
          },
          "metadata": {
            "needs_background": "light"
          }
        }
      ]
    },
    {
      "cell_type": "code",
      "metadata": {
        "id": "_jP6s3BILXbV"
      },
      "source": [
        ""
      ],
      "execution_count": 505,
      "outputs": []
    }
  ]
}